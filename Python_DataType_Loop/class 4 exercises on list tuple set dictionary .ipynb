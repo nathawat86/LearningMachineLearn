{
 "cells": [
  {
   "cell_type": "code",
   "execution_count": 29,
   "id": "a8168778",
   "metadata": {},
   "outputs": [
    {
     "data": {
      "text/plain": [
       "['__add__',\n",
       " '__class__',\n",
       " '__contains__',\n",
       " '__delattr__',\n",
       " '__dir__',\n",
       " '__doc__',\n",
       " '__eq__',\n",
       " '__format__',\n",
       " '__ge__',\n",
       " '__getattribute__',\n",
       " '__getitem__',\n",
       " '__getnewargs__',\n",
       " '__gt__',\n",
       " '__hash__',\n",
       " '__init__',\n",
       " '__init_subclass__',\n",
       " '__iter__',\n",
       " '__le__',\n",
       " '__len__',\n",
       " '__lt__',\n",
       " '__mod__',\n",
       " '__mul__',\n",
       " '__ne__',\n",
       " '__new__',\n",
       " '__reduce__',\n",
       " '__reduce_ex__',\n",
       " '__repr__',\n",
       " '__rmod__',\n",
       " '__rmul__',\n",
       " '__setattr__',\n",
       " '__sizeof__',\n",
       " '__str__',\n",
       " '__subclasshook__',\n",
       " 'capitalize',\n",
       " 'casefold',\n",
       " 'center',\n",
       " 'count',\n",
       " 'encode',\n",
       " 'endswith',\n",
       " 'expandtabs',\n",
       " 'find',\n",
       " 'format',\n",
       " 'format_map',\n",
       " 'index',\n",
       " 'isalnum',\n",
       " 'isalpha',\n",
       " 'isascii',\n",
       " 'isdecimal',\n",
       " 'isdigit',\n",
       " 'isidentifier',\n",
       " 'islower',\n",
       " 'isnumeric',\n",
       " 'isprintable',\n",
       " 'isspace',\n",
       " 'istitle',\n",
       " 'isupper',\n",
       " 'join',\n",
       " 'ljust',\n",
       " 'lower',\n",
       " 'lstrip',\n",
       " 'maketrans',\n",
       " 'partition',\n",
       " 'removeprefix',\n",
       " 'removesuffix',\n",
       " 'replace',\n",
       " 'rfind',\n",
       " 'rindex',\n",
       " 'rjust',\n",
       " 'rpartition',\n",
       " 'rsplit',\n",
       " 'rstrip',\n",
       " 'split',\n",
       " 'splitlines',\n",
       " 'startswith',\n",
       " 'strip',\n",
       " 'swapcase',\n",
       " 'title',\n",
       " 'translate',\n",
       " 'upper',\n",
       " 'zfill']"
      ]
     },
     "execution_count": 29,
     "metadata": {},
     "output_type": "execute_result"
    }
   ],
   "source": [
    "dir(\"string\")"
   ]
  },
  {
   "cell_type": "code",
   "execution_count": 31,
   "id": "11ad8d3f",
   "metadata": {},
   "outputs": [
    {
     "data": {
      "text/plain": [
       "['__add__',\n",
       " '__class__',\n",
       " '__class_getitem__',\n",
       " '__contains__',\n",
       " '__delattr__',\n",
       " '__delitem__',\n",
       " '__dir__',\n",
       " '__doc__',\n",
       " '__eq__',\n",
       " '__format__',\n",
       " '__ge__',\n",
       " '__getattribute__',\n",
       " '__getitem__',\n",
       " '__gt__',\n",
       " '__hash__',\n",
       " '__iadd__',\n",
       " '__imul__',\n",
       " '__init__',\n",
       " '__init_subclass__',\n",
       " '__iter__',\n",
       " '__le__',\n",
       " '__len__',\n",
       " '__lt__',\n",
       " '__mul__',\n",
       " '__ne__',\n",
       " '__new__',\n",
       " '__reduce__',\n",
       " '__reduce_ex__',\n",
       " '__repr__',\n",
       " '__reversed__',\n",
       " '__rmul__',\n",
       " '__setattr__',\n",
       " '__setitem__',\n",
       " '__sizeof__',\n",
       " '__str__',\n",
       " '__subclasshook__',\n",
       " 'append',\n",
       " 'clear',\n",
       " 'copy',\n",
       " 'count',\n",
       " 'extend',\n",
       " 'index',\n",
       " 'insert',\n",
       " 'pop',\n",
       " 'remove',\n",
       " 'reverse',\n",
       " 'sort']"
      ]
     },
     "execution_count": 31,
     "metadata": {},
     "output_type": "execute_result"
    }
   ],
   "source": [
    "dir(list)"
   ]
  },
  {
   "cell_type": "code",
   "execution_count": 2,
   "id": "94dfc5fc",
   "metadata": {},
   "outputs": [
    {
     "name": "stdout",
     "output_type": "stream",
     "text": [
      "True\n",
      "False\n",
      "False\n"
     ]
    }
   ],
   "source": [
    "string1 = \"    \"\n",
    "string2 = \"Hello\"\n",
    "string3 = \"   Hello   \"\n",
    "\n",
    "print(string1.isspace())  # Output: True\n",
    "print(string2.isspace())  # Output: False\n",
    "print(string3.isspace())  # Output: False"
   ]
  },
  {
   "cell_type": "code",
   "execution_count": 3,
   "id": "e34ccfe7",
   "metadata": {},
   "outputs": [
    {
     "name": "stdout",
     "output_type": "stream",
     "text": [
      "True\n"
     ]
    }
   ],
   "source": [
    "#isalnum\n",
    "a=\"123abc\"\n",
    "print(a.isalnum())\n"
   ]
  },
  {
   "cell_type": "markdown",
   "id": "c2e09693",
   "metadata": {},
   "source": [
    "# LIST \n",
    "\n"
   ]
  },
  {
   "cell_type": "code",
   "execution_count": 7,
   "id": "05daf0ed",
   "metadata": {},
   "outputs": [
    {
     "name": "stdout",
     "output_type": "stream",
     "text": [
      "[65, 3, 2, 1, 3, 4, 5, 'hi', 'how', 'are ', '****', 'you']\n"
     ]
    }
   ],
   "source": [
    "#list creating \n",
    "l=[65,3,2,1,3,4,5,\"hi\",\"how\",\"are \",\"****\",\"you\"]\n",
    "print(l)"
   ]
  },
  {
   "cell_type": "code",
   "execution_count": 5,
   "id": "62807fba",
   "metadata": {},
   "outputs": [
    {
     "name": "stdout",
     "output_type": "stream",
     "text": [
      "[1, 2, 3, 768768, 5, 6, 7, 8, 'hi', 'namaste']\n"
     ]
    }
   ],
   "source": [
    "#list update \n",
    "\n",
    "a=[1,2,3,4,5,6,7,8,\"hi\", \"namaste\"]\n",
    "\n",
    "a[3]=768768\n",
    "print(a)"
   ]
  },
  {
   "cell_type": "code",
   "execution_count": 13,
   "id": "7abafb88",
   "metadata": {},
   "outputs": [
    {
     "name": "stdout",
     "output_type": "stream",
     "text": [
      "[3, 4, 5, 6, 7, 8, 'hi']\n",
      "namaste\n",
      "[1, 2, 3, 4, 5, 6, 7, 8, 'hi']\n",
      "[4, 7, 'namaste']\n",
      "['hi', 8, 7, 6, 5, 4, 3, 2]\n",
      "['namaste', 'hi', 8, 7, 6, 5, 4, 3, 2, 1]\n"
     ]
    }
   ],
   "source": [
    "#list indexing and slicing \n",
    "a=[1,2,3,4,5,6,7,8,\"hi\", \"namaste\"]\n",
    "print(a[2:9])\n",
    "\n",
    "a=[1,2,3,4,5,6,7,8,\"hi\", \"namaste\"]\n",
    "print(a[-1])\n",
    "\n",
    "a=[1,2,3,4,5,6,7,8,\"hi\", \"namaste\"]\n",
    "print(a[:9])\n",
    "\n",
    "a=[1,2,3,4,5,6,7,8,\"hi\", \"namaste\"]\n",
    "print(a[3:10:3])\n",
    "\n",
    "a=[1,2,3,4,5,6,7,8,\"hi\", \"namaste\"]\n",
    "print(a[-2:-10:-1])\n",
    "\n",
    "a=[1,2,3,4,5,6,7,8,\"hi\", \"namaste\"]\n",
    "print(a[::-1])"
   ]
  },
  {
   "cell_type": "code",
   "execution_count": 14,
   "id": "669d3b24",
   "metadata": {},
   "outputs": [
    {
     "name": "stdout",
     "output_type": "stream",
     "text": [
      "10\n"
     ]
    }
   ],
   "source": [
    "#length of list \n",
    "a=[1,2,3,4,5,6,7,8,\"hi\", \"namaste\"]\n",
    "print(len(a))"
   ]
  },
  {
   "cell_type": "markdown",
   "id": "d7df1db2",
   "metadata": {},
   "source": [
    "# methods of the list \n"
   ]
  },
  {
   "cell_type": "code",
   "execution_count": 19,
   "id": "72783a91",
   "metadata": {},
   "outputs": [
    {
     "name": "stdout",
     "output_type": "stream",
     "text": [
      "[1, 2, 3, 4, 5, 6, 7, 8, 'hi', 'namaste', 5676]\n"
     ]
    }
   ],
   "source": [
    "#append\n",
    "\n",
    "a=[1,2,3,4,5,6,7,8,\"hi\", \"namaste\"]\n",
    "\n",
    "a.append(5676)\n",
    "print(a)"
   ]
  },
  {
   "cell_type": "code",
   "execution_count": null,
   "id": "00371cbf",
   "metadata": {},
   "outputs": [],
   "source": [
    "#INSERT "
   ]
  },
  {
   "cell_type": "code",
   "execution_count": 26,
   "id": "399e55ef",
   "metadata": {},
   "outputs": [
    {
     "name": "stdout",
     "output_type": "stream",
     "text": [
      "['weekend in Australia', 1, 2, 3, 4, 5, 6, 7, 8, 'hi', 'namaste']\n",
      "Original list: ['apple', 'banana', 'cherry']\n",
      "After inserting 'orange' at index 1: ['apple', 'orange', 'banana', 'cherry']\n",
      "After inserting 'grape' at index 0: ['grape', 'apple', 'orange', 'banana', 'cherry']\n"
     ]
    }
   ],
   "source": [
    "\n",
    "a=[1,2,3,4,5,6,7,8,\"hi\", \"namaste\"]\n",
    "a.insert(0,\"weekend in Australia\")\n",
    "print(a)\n",
    "\n",
    "\n",
    "fruits = ['apple', 'banana', 'cherry']\n",
    "print(\"Original list:\", fruits)\n",
    "\n",
    "# Inserting a new element at index 1\n",
    "fruits.insert(1, 'orange')\n",
    "print(\"After inserting 'orange' at index 1:\", fruits)\n",
    "\n",
    "# Inserting another element at the beginning of the list\n",
    "fruits.insert(0, 'grape')\n",
    "print(\"After inserting 'grape' at index 0:\", fruits)\n"
   ]
  },
  {
   "cell_type": "code",
   "execution_count": 27,
   "id": "e22dd4df",
   "metadata": {},
   "outputs": [
    {
     "data": {
      "text/plain": [
       "['__add__',\n",
       " '__class__',\n",
       " '__class_getitem__',\n",
       " '__contains__',\n",
       " '__delattr__',\n",
       " '__delitem__',\n",
       " '__dir__',\n",
       " '__doc__',\n",
       " '__eq__',\n",
       " '__format__',\n",
       " '__ge__',\n",
       " '__getattribute__',\n",
       " '__getitem__',\n",
       " '__gt__',\n",
       " '__hash__',\n",
       " '__iadd__',\n",
       " '__imul__',\n",
       " '__init__',\n",
       " '__init_subclass__',\n",
       " '__iter__',\n",
       " '__le__',\n",
       " '__len__',\n",
       " '__lt__',\n",
       " '__mul__',\n",
       " '__ne__',\n",
       " '__new__',\n",
       " '__reduce__',\n",
       " '__reduce_ex__',\n",
       " '__repr__',\n",
       " '__reversed__',\n",
       " '__rmul__',\n",
       " '__setattr__',\n",
       " '__setitem__',\n",
       " '__sizeof__',\n",
       " '__str__',\n",
       " '__subclasshook__',\n",
       " 'append',\n",
       " 'clear',\n",
       " 'copy',\n",
       " 'count',\n",
       " 'extend',\n",
       " 'index',\n",
       " 'insert',\n",
       " 'pop',\n",
       " 'remove',\n",
       " 'reverse',\n",
       " 'sort']"
      ]
     },
     "execution_count": 27,
     "metadata": {},
     "output_type": "execute_result"
    }
   ],
   "source": []
  },
  {
   "cell_type": "code",
   "execution_count": 33,
   "id": "7bde97d5",
   "metadata": {},
   "outputs": [
    {
     "name": "stdout",
     "output_type": "stream",
     "text": [
      "[2, 3, 4, 5, 6, 7, 8, 'hi', 'namaste']\n"
     ]
    }
   ],
   "source": [
    "a=[1,2,3,4,5,6,7,8,\"hi\", \"namaste\"]\n",
    "a.remove(1)\n",
    "print(a)"
   ]
  },
  {
   "cell_type": "code",
   "execution_count": 35,
   "id": "3879598d",
   "metadata": {},
   "outputs": [
    {
     "name": "stdout",
     "output_type": "stream",
     "text": [
      "[2, 3, 4, 5, 6, 7, 8, 1, 'hi', 'namaste']\n"
     ]
    }
   ],
   "source": [
    "a=[1,2,3,4,5,6,7,8,1,\"hi\", \"namaste\"]\n",
    "a.remove(1)\n",
    "print(a)"
   ]
  },
  {
   "cell_type": "code",
   "execution_count": 36,
   "id": "f7624897",
   "metadata": {},
   "outputs": [
    {
     "name": "stdout",
     "output_type": "stream",
     "text": [
      "['namaste', 'hi', 1, 8, 7, 6, 5, 4, 3, 2, 1]\n"
     ]
    }
   ],
   "source": [
    "a=[1,2,3,4,5,6,7,8,1,\"hi\", \"namaste\"]\n",
    "a.reverse()\n",
    "print(a)"
   ]
  },
  {
   "cell_type": "code",
   "execution_count": 37,
   "id": "9fd32071",
   "metadata": {},
   "outputs": [
    {
     "name": "stdout",
     "output_type": "stream",
     "text": [
      "[2, 3, 4, 5, 6, 7, 8, 'hi', 'namaste']\n"
     ]
    }
   ],
   "source": [
    "#remove\n",
    "a = [1, 2, 3, 4, 5, 6, 7, 8, 1, \"hi\", \"namaste\"]\n",
    "\n",
    "# Remove the first occurrence of 1\n",
    "a.remove(1)\n",
    "\n",
    "# Remove the last occurrence of 1\n",
    "a.reverse()\n",
    "a.remove(1)\n",
    "a.reverse()\n",
    "\n",
    "print(a)\n"
   ]
  },
  {
   "cell_type": "code",
   "execution_count": 39,
   "id": "58986c69",
   "metadata": {},
   "outputs": [
    {
     "name": "stdout",
     "output_type": "stream",
     "text": [
      "[1, 2, 3, 5, 6, 7, 8, 1, 'hi', '***', 'namaste']\n"
     ]
    }
   ],
   "source": [
    "\n",
    "#pop\n",
    "a=[1,2,3,4,5,6,7,8,1,\"hi\", \"***\",\"namaste\"]\n",
    "a.pop(3)\n",
    "print(a)"
   ]
  },
  {
   "cell_type": "code",
   "execution_count": 41,
   "id": "240d67a3",
   "metadata": {},
   "outputs": [
    {
     "name": "stdout",
     "output_type": "stream",
     "text": [
      "2\n"
     ]
    }
   ],
   "source": [
    "a = [10, 20, 30, 40, 50]\n",
    "\n",
    "# Find the index of the element 30\n",
    "index = a.index(30)\n",
    "print(index)\n",
    "\n"
   ]
  },
  {
   "cell_type": "code",
   "execution_count": 45,
   "id": "d106b52a",
   "metadata": {},
   "outputs": [
    {
     "name": "stdout",
     "output_type": "stream",
     "text": [
      "1\n",
      "2\n"
     ]
    }
   ],
   "source": [
    "l = [12, 13, 14, 14,15, 16]\n",
    "\n",
    "# Count the occurrences of the element \n",
    "a=l.count(13)\n",
    "print(a)\n",
    "a=l.count(14)\n",
    "print(a)\n",
    "\n"
   ]
  },
  {
   "cell_type": "code",
   "execution_count": 48,
   "id": "b28925ad",
   "metadata": {},
   "outputs": [
    {
     "name": "stdout",
     "output_type": "stream",
     "text": [
      "[1, 2, 3]\n"
     ]
    }
   ],
   "source": [
    "#sort(): Sorts the list in ascending order.\n",
    "a = [3, 1, 2]\n",
    "a.sort()\n",
    "print(a)  # Output: [1, 2, 3]\n",
    "\n"
   ]
  },
  {
   "cell_type": "code",
   "execution_count": 51,
   "id": "9c7bae92",
   "metadata": {},
   "outputs": [
    {
     "name": "stdout",
     "output_type": "stream",
     "text": [
      "[1, 2, 3, 4, 5]\n"
     ]
    }
   ],
   "source": [
    "a = [1, 2, 3]\n",
    "b = [4, 5]\n",
    "a.extend(b)\n",
    "print(a)\n",
    "\n"
   ]
  },
  {
   "cell_type": "code",
   "execution_count": 5,
   "id": "b31b6235",
   "metadata": {},
   "outputs": [
    {
     "name": "stdout",
     "output_type": "stream",
     "text": [
      "Please enter how many numbers you want: 7\n",
      "Please enter a number: 1\n",
      "Please enter a number: 34\n",
      "Please enter a number: 76\n",
      "Please enter a number: 78\n",
      "Please enter a number: 98\n",
      "Please enter a number: 23\n",
      "Please enter a number: 12\n",
      "Input List: [1, 34, 76, 78, 98, 23, 12]\n"
     ]
    }
   ],
   "source": [
    "#Take the input from the user to make a list :\n",
    "num = int(input(\"Please enter how many numbers you want: \"))\n",
    "\n",
    "l = []  # Initialize an empty list to store the numbers\n",
    "\n",
    "for i in range(num):\n",
    "    z = int(input(\"Please enter a number: \"))\n",
    "    l.append(z)\n",
    "\n",
    "print(\"Input List:\", l)\n",
    "\n"
   ]
  },
  {
   "cell_type": "markdown",
   "id": "ec1da97a",
   "metadata": {},
   "source": [
    "# TUPLE "
   ]
  },
  {
   "cell_type": "code",
   "execution_count": null,
   "id": "206eeea3",
   "metadata": {},
   "outputs": [],
   "source": []
  },
  {
   "cell_type": "code",
   "execution_count": null,
   "id": "39686a9a",
   "metadata": {},
   "outputs": [],
   "source": [
    "#create a tuple "
   ]
  },
  {
   "cell_type": "code",
   "execution_count": 5,
   "id": "cd9b3e28",
   "metadata": {},
   "outputs": [
    {
     "name": "stdout",
     "output_type": "stream",
     "text": [
      "('Mango', 'Grapes')\n"
     ]
    }
   ],
   "source": [
    "fruit = (\"Mango\", \"Grapes\")\n",
    "print(fruit)\n"
   ]
  },
  {
   "cell_type": "code",
   "execution_count": 6,
   "id": "fae7c3c8",
   "metadata": {},
   "outputs": [
    {
     "name": "stdout",
     "output_type": "stream",
     "text": [
      "Grapes\n"
     ]
    }
   ],
   "source": [
    "#We can access tuple items by referring to the index number, inside square brackets \n",
    "print(fruit[1])\n"
   ]
  },
  {
   "cell_type": "code",
   "execution_count": 7,
   "id": "ad9f7bf4",
   "metadata": {},
   "outputs": [
    {
     "name": "stdout",
     "output_type": "stream",
     "text": [
      "(1, 2, '@', '$', '!')\n"
     ]
    }
   ],
   "source": [
    "tuple = (1, 2, \"@\", \"$\", \"!\")\n",
    "print(tuple)\n"
   ]
  },
  {
   "cell_type": "code",
   "execution_count": 8,
   "id": "c8c34c71",
   "metadata": {},
   "outputs": [
    {
     "name": "stdout",
     "output_type": "stream",
     "text": [
      "5\n"
     ]
    }
   ],
   "source": [
    "print(len(tuple))"
   ]
  },
  {
   "cell_type": "code",
   "execution_count": 9,
   "id": "f4e1f54e",
   "metadata": {},
   "outputs": [
    {
     "name": "stdout",
     "output_type": "stream",
     "text": [
      "4\n"
     ]
    }
   ],
   "source": [
    "print(len(tuple)-1) # way to target last element of the string "
   ]
  },
  {
   "cell_type": "code",
   "execution_count": 11,
   "id": "22c3d88a",
   "metadata": {},
   "outputs": [
    {
     "name": "stdout",
     "output_type": "stream",
     "text": [
      "!\n"
     ]
    }
   ],
   "source": [
    "print (tuple[4])"
   ]
  },
  {
   "cell_type": "code",
   "execution_count": 13,
   "id": "7f84c27a",
   "metadata": {},
   "outputs": [
    {
     "data": {
      "text/plain": [
       "['__add__',\n",
       " '__class__',\n",
       " '__class_getitem__',\n",
       " '__contains__',\n",
       " '__delattr__',\n",
       " '__dir__',\n",
       " '__doc__',\n",
       " '__eq__',\n",
       " '__format__',\n",
       " '__ge__',\n",
       " '__getattribute__',\n",
       " '__getitem__',\n",
       " '__getnewargs__',\n",
       " '__gt__',\n",
       " '__hash__',\n",
       " '__init__',\n",
       " '__init_subclass__',\n",
       " '__iter__',\n",
       " '__le__',\n",
       " '__len__',\n",
       " '__lt__',\n",
       " '__mul__',\n",
       " '__ne__',\n",
       " '__new__',\n",
       " '__reduce__',\n",
       " '__reduce_ex__',\n",
       " '__repr__',\n",
       " '__rmul__',\n",
       " '__setattr__',\n",
       " '__sizeof__',\n",
       " '__str__',\n",
       " '__subclasshook__',\n",
       " 'count',\n",
       " 'index']"
      ]
     },
     "execution_count": 13,
     "metadata": {},
     "output_type": "execute_result"
    }
   ],
   "source": [
    "dir(tuple)"
   ]
  },
  {
   "cell_type": "code",
   "execution_count": 19,
   "id": "9f13c752",
   "metadata": {},
   "outputs": [
    {
     "name": "stdout",
     "output_type": "stream",
     "text": [
      "3\n"
     ]
    }
   ],
   "source": [
    "tuple = (1, 2,1,10,10,10 ,\"@\", \"$\", \"!\")\n",
    "a=tuple.count(10)\n",
    "print(a)"
   ]
  },
  {
   "cell_type": "markdown",
   "id": "255f34c6",
   "metadata": {},
   "source": [
    "# SET { }\n"
   ]
  },
  {
   "cell_type": "code",
   "execution_count": 22,
   "id": "7ef0b245",
   "metadata": {},
   "outputs": [
    {
     "name": "stdout",
     "output_type": "stream",
     "text": [
      "<class 'dict'>\n",
      "<class 'tuple'>\n",
      "<class 'set'>\n"
     ]
    }
   ],
   "source": [
    "#EMPTY SET CREATION \n",
    "\n",
    "a={}\n",
    "print(type(a))\n",
    "\n",
    "a=()\n",
    "print(type(a))\n",
    "\n",
    "a=set()\n",
    "print(type(a))"
   ]
  },
  {
   "cell_type": "code",
   "execution_count": 24,
   "id": "aecb86fd",
   "metadata": {},
   "outputs": [
    {
     "name": "stdout",
     "output_type": "stream",
     "text": [
      "{8, 5, 6, 7}\n",
      "<class 'set'>\n"
     ]
    }
   ],
   "source": [
    "a={5,6,7,8,6}\n",
    "print(a)\n",
    "print(type(a))"
   ]
  },
  {
   "cell_type": "code",
   "execution_count": 25,
   "id": "6b84d220",
   "metadata": {},
   "outputs": [
    {
     "name": "stdout",
     "output_type": "stream",
     "text": [
      "{'is no morea single  superpower after', '!!!', 'United States of America', 'China', '2020'}\n"
     ]
    }
   ],
   "source": [
    "a={\"United States of America\",\"China\" ,\"is no morea single  superpower after\" ,\"2020\" ,\"!!!\"}\n",
    "print(a)# set is unordered "
   ]
  },
  {
   "cell_type": "code",
   "execution_count": 26,
   "id": "4c225e49",
   "metadata": {},
   "outputs": [
    {
     "name": "stdout",
     "output_type": "stream",
     "text": [
      "{'is no morea single  superpower after', 'New Element', '!!!', 'China', 'United States of America', '2020'}\n"
     ]
    }
   ],
   "source": [
    "a={\"United States of America\",\"China\" ,\"is no morea single  superpower after\" ,\"2020\" ,\"!!!\"}\n",
    "a.add(\"New Element\")\n",
    "print(a)"
   ]
  },
  {
   "cell_type": "code",
   "execution_count": 27,
   "id": "b9599e4a",
   "metadata": {},
   "outputs": [
    {
     "name": "stdout",
     "output_type": "stream",
     "text": [
      "{'is no morea single  superpower after', '!!!', 'United States of America', '2020'}\n"
     ]
    }
   ],
   "source": [
    "a={\"United States of America\",\"China\" ,\"is no morea single  superpower after\" ,\"2020\" ,\"!!!\"}\n",
    "a.remove(\"China\")\n",
    "print(a)\n"
   ]
  },
  {
   "cell_type": "code",
   "execution_count": 28,
   "id": "c049537d",
   "metadata": {},
   "outputs": [
    {
     "name": "stdout",
     "output_type": "stream",
     "text": [
      "set()\n"
     ]
    }
   ],
   "source": [
    "a={\"United States of America\",\"China\" ,\"is no morea single  superpower after\" ,\"2020\" ,\"!!!\"}\n",
    "a.clear()\n",
    "print(a)"
   ]
  },
  {
   "cell_type": "code",
   "execution_count": 29,
   "id": "03c14fd9",
   "metadata": {},
   "outputs": [
    {
     "name": "stdout",
     "output_type": "stream",
     "text": [
      "{'is no morea single  superpower after', 'United States of America', '2020', '!!!'}\n"
     ]
    }
   ],
   "source": [
    "a={'is no morea single  superpower after', '!!!', 'United States of America', '2020'}\n",
    "a.discard(\"China\")\n",
    "print(a)#remain unchange "
   ]
  },
  {
   "cell_type": "code",
   "execution_count": 30,
   "id": "0bd63d7a",
   "metadata": {},
   "outputs": [
    {
     "ename": "KeyError",
     "evalue": "'China'",
     "output_type": "error",
     "traceback": [
      "\u001b[1;31m---------------------------------------------------------------------------\u001b[0m",
      "\u001b[1;31mKeyError\u001b[0m                                  Traceback (most recent call last)",
      "Cell \u001b[1;32mIn[30], line 2\u001b[0m\n\u001b[0;32m      1\u001b[0m a\u001b[38;5;241m=\u001b[39m{\u001b[38;5;124m'\u001b[39m\u001b[38;5;124mis no morea single  superpower after\u001b[39m\u001b[38;5;124m'\u001b[39m, \u001b[38;5;124m'\u001b[39m\u001b[38;5;124m!!!\u001b[39m\u001b[38;5;124m'\u001b[39m, \u001b[38;5;124m'\u001b[39m\u001b[38;5;124mUnited States of America\u001b[39m\u001b[38;5;124m'\u001b[39m, \u001b[38;5;124m'\u001b[39m\u001b[38;5;124m2020\u001b[39m\u001b[38;5;124m'\u001b[39m}\n\u001b[1;32m----> 2\u001b[0m \u001b[43ma\u001b[49m\u001b[38;5;241;43m.\u001b[39;49m\u001b[43mremove\u001b[49m\u001b[43m(\u001b[49m\u001b[38;5;124;43m\"\u001b[39;49m\u001b[38;5;124;43mChina\u001b[39;49m\u001b[38;5;124;43m\"\u001b[39;49m\u001b[43m)\u001b[49m\n\u001b[0;32m      3\u001b[0m \u001b[38;5;28mprint\u001b[39m(a)\n",
      "\u001b[1;31mKeyError\u001b[0m: 'China'"
     ]
    }
   ],
   "source": [
    "a={'is no morea single  superpower after', '!!!', 'United States of America', '2020'}\n",
    "a.remove(\"China\")\n",
    "print(a)#remain unchange "
   ]
  },
  {
   "cell_type": "code",
   "execution_count": 33,
   "id": "7f03e8da",
   "metadata": {},
   "outputs": [
    {
     "name": "stdout",
     "output_type": "stream",
     "text": [
      "is no morea single  superpower after\n"
     ]
    }
   ],
   "source": [
    "\n",
    "a={\"United States of America\",\"China\" ,\"is no morea single  superpower after\" ,\"2020\" ,\"!!!\"}\n",
    "b = a.pop()\n",
    "print(b)\n"
   ]
  },
  {
   "cell_type": "code",
   "execution_count": 34,
   "id": "f1beff9b",
   "metadata": {},
   "outputs": [
    {
     "name": "stdout",
     "output_type": "stream",
     "text": [
      "{'New Element 1', '!!!', 'China', 'United States of America', '2020', 'New Element 2', 'is no morea single superpower after'}\n"
     ]
    }
   ],
   "source": [
    "a = {\"United States of America\", \"China\", \"is no morea single superpower after\", \"2020\", \"!!!\"}\n",
    "b = {\"New Element 1\", \"New Element 2\"}\n",
    "\n",
    "a.update(b)\n",
    "print(a)\n"
   ]
  },
  {
   "cell_type": "code",
   "execution_count": 35,
   "id": "78a426b1",
   "metadata": {},
   "outputs": [
    {
     "name": "stdout",
     "output_type": "stream",
     "text": [
      "{'New Element 1', '!!!', 'China', 'United States of America', '2020', 'New Element 2', 'is no morea single superpower after'}\n"
     ]
    }
   ],
   "source": [
    "#Union using the union() method or the | (0r)operator:\n",
    "a = {\"United States of America\", \"China\", \"is no morea single superpower after\", \"2020\", \"!!!\"}\n",
    "b = {\"China\", \"New Element 1\", \"New Element 2\"}\n",
    "\n",
    "c= a.union(b)\n",
    "# Alternatively, you can use the '|' operator: c = a | b\n",
    "\n",
    "print(c)\n"
   ]
  },
  {
   "cell_type": "code",
   "execution_count": 36,
   "id": "2ce248dd",
   "metadata": {},
   "outputs": [
    {
     "name": "stdout",
     "output_type": "stream",
     "text": [
      "{'China'}\n"
     ]
    }
   ],
   "source": [
    "#Intersection using the intersection() method or the & operator:common in both the variable \n",
    "a = {\"United States of America\", \"China\", \"is no morea single superpower after\", \"2020\", \"!!!\"}\n",
    "b = {\"China\", \"New Element 1\", \"New Element 2\"}\n",
    "c = a.intersection(b)\n",
    "# Alternatively, you can use the '&' operator: intersection_set = a & b\n",
    "\n",
    "print(c)\n",
    "\n"
   ]
  },
  {
   "cell_type": "code",
   "execution_count": 37,
   "id": "1f64ac39",
   "metadata": {},
   "outputs": [
    {
     "name": "stdout",
     "output_type": "stream",
     "text": [
      "{'2020', 'is no morea single superpower after', 'United States of America', '!!!'}\n"
     ]
    }
   ],
   "source": [
    "#The difference set contains elements from set a that are not present in set b.\n",
    "a = {\"United States of America\", \"China\", \"is no morea single superpower after\", \"2020\", \"!!!\"}\n",
    "b = {\"China\", \"New Element 1\", \"New Element 2\"}\n",
    "\n",
    "c = a.difference(b)\n",
    "# Alternatively, you can use the '-'(substraction ) operator: difference_set = a - b(a minus b)\n",
    "\n",
    "print(c)\n"
   ]
  },
  {
   "cell_type": "code",
   "execution_count": 6,
   "id": "40039694",
   "metadata": {},
   "outputs": [
    {
     "name": "stdout",
     "output_type": "stream",
     "text": [
      "Original set: {1, 2, 3}\n",
      "Modified set (after adding): {1, 2, 3, 4}\n",
      "Modified set (after removing): {1, 3, 4}\n"
     ]
    }
   ],
   "source": [
    "s= {1, 2, 3}  # Create a set\n",
    "print(\"Original set:\", s)\n",
    "\n",
    "s.add(4)  # Add an element to the set\n",
    "print(\"Modified set (after adding):\",s)\n",
    "\n",
    "s.remove(2)  # Remove an element from the set\n",
    "print(\"Modified set (after removing):\",s)\n"
   ]
  },
  {
   "cell_type": "markdown",
   "id": "73d9a6ba",
   "metadata": {},
   "source": [
    "# Dictionary \n"
   ]
  },
  {
   "cell_type": "code",
   "execution_count": null,
   "id": "7182a004",
   "metadata": {},
   "outputs": [],
   "source": [
    ":=COLON,; SEMICOLON ,IN DICTIONARY V USE COLON "
   ]
  },
  {
   "cell_type": "code",
   "execution_count": 12,
   "id": "29873b53",
   "metadata": {},
   "outputs": [
    {
     "name": "stdout",
     "output_type": "stream",
     "text": [
      "{'key1': 'value1', 'key2': 'value2', 'key3': 'value3'}\n"
     ]
    }
   ],
   "source": [
    "d = {\"key1\": \"value1\", \"key2\": \"value2\", \"key3\": \"value3\"}\n",
    "print(d)\n",
    "\n"
   ]
  },
  {
   "cell_type": "code",
   "execution_count": 11,
   "id": "183b7833",
   "metadata": {},
   "outputs": [
    {
     "name": "stdout",
     "output_type": "stream",
     "text": [
      "<class 'dict'>\n"
     ]
    }
   ],
   "source": [
    "vehicle = {\"brand\": \"ford\", \"model\": \"Mustang\", \"year\": 1991}\n",
    "\n",
    "print(type(vehicle))\n"
   ]
  },
  {
   "cell_type": "code",
   "execution_count": 28,
   "id": "3be1e260",
   "metadata": {},
   "outputs": [
    {
     "name": "stdout",
     "output_type": "stream",
     "text": [
      "{'name': 'Krishnamurti ayer ', 'age': 20, 'grade': 'A'}\n"
     ]
    }
   ],
   "source": [
    "student = {\"name\": \"Krishnamurti ayer \",\n",
    "    \"age\": 20,\n",
    "    \"grade\": \"A\"}\n",
    "print(student)"
   ]
  },
  {
   "cell_type": "code",
   "execution_count": 29,
   "id": "fd6963a8",
   "metadata": {},
   "outputs": [
    {
     "name": "stdout",
     "output_type": "stream",
     "text": [
      "Updated Student: {'name': 'Krishnamurti ayer ', 'age': 21, 'grade': 'B'}\n"
     ]
    }
   ],
   "source": [
    "#update the dictionary \n",
    "student = {\"name\": \"Krishnamurti ayer \",\n",
    "    \"age\": 20,\n",
    "    \"grade\": \"A\"}\n",
    "\n",
    "# Update the age and grade of the student\n",
    "student[\"age\"] = 21\n",
    "student[\"grade\"] = \"B\"\n",
    "\n",
    "print(\"Updated Student:\", student)\n"
   ]
  },
  {
   "cell_type": "code",
   "execution_count": 19,
   "id": "5decde2e",
   "metadata": {},
   "outputs": [
    {
     "name": "stdout",
     "output_type": "stream",
     "text": [
      "Updated Student: {'name': 'John', 'age': 20, 'grade': 'A', 'school': 'ABC School'}\n"
     ]
    }
   ],
   "source": [
    "# add new property in dictionary \n",
    "student = {\n",
    "    \"name\": \"krishnamurti ayer\",\n",
    "    \"age\": 20,\n",
    "    \"grade\": \"A\"\n",
    "}\n",
    "\n",
    "# Add a new property to the student dictionary\n",
    "student[\"school\"] = \"ABC School\"\n",
    "\n",
    "print(\"Updated Student:\", student)\n"
   ]
  },
  {
   "cell_type": "code",
   "execution_count": 30,
   "id": "12656b20",
   "metadata": {},
   "outputs": [
    {
     "name": "stdout",
     "output_type": "stream",
     "text": [
      " Student: {'name': 'krishnamurti ayer', 'age': 20}\n"
     ]
    }
   ],
   "source": [
    "\n",
    "student = {\n",
    "    \"name\": \"krishnamurti ayer\",\n",
    "    \"age\": 20,\n",
    "    \"grade\": \"A\"\n",
    "}\n",
    "\n",
    "del student[\"grade\"]\n",
    "\n",
    "print(\" Student:\", student)\n"
   ]
  },
  {
   "cell_type": "code",
   "execution_count": 31,
   "id": "49a3fbe7",
   "metadata": {},
   "outputs": [
    {
     "name": "stdout",
     "output_type": "stream",
     "text": [
      "krishnamurti ayer\n"
     ]
    }
   ],
   "source": [
    "#reading thd dictionary \n",
    "\n",
    "print(student[\"name\"])"
   ]
  },
  {
   "cell_type": "code",
   "execution_count": 36,
   "id": "324ea2e1",
   "metadata": {},
   "outputs": [
    {
     "name": "stdout",
     "output_type": "stream",
     "text": [
      "Number of entries in the dictionary: 3\n"
     ]
    }
   ],
   "source": [
    "#methods in dictionary \n",
    "#len\n",
    "student = {\"name\": \"krishnamurti ayer\",\n",
    "    \"age\": 20,\n",
    "    \"grade\": \"A\"}\n",
    "l= len(student)\n",
    "\n",
    "print(\"Number of entries in the dictionary:\", l)\n"
   ]
  },
  {
   "cell_type": "code",
   "execution_count": 37,
   "id": "ceeb02b2",
   "metadata": {},
   "outputs": [
    {
     "name": "stdout",
     "output_type": "stream",
     "text": [
      "Removed value: 20\n",
      "Updated student dictionary: {'name': 'krishnamurti ayer', 'grade': 'A'}\n"
     ]
    }
   ],
   "source": [
    "#pop\n",
    "student = { \"name\": \"krishnamurti ayer\",\n",
    "    \"age\": 20,\n",
    "    \"grade\": \"A\"}\n",
    "\n",
    "# Remove the key-value pair with the key \"age\" using pop()\n",
    "p = student.pop(\"age\")\n",
    "\n",
    "print(\"Removed value:\", p)\n",
    "print(\"Updated student dictionary:\", student)\n"
   ]
  },
  {
   "cell_type": "code",
   "execution_count": null,
   "id": "01bde0c5",
   "metadata": {},
   "outputs": [],
   "source": [
    "student = {\n",
    "    \"name\": \"krishnamurti ayer\",\n",
    "    \"age\": 20,\n",
    "    \"grade\": \"A\"\n",
    "}\n",
    "\n",
    "# Remove an arbitrary key-value pair using popitem()\n",
    "removed_item = student.popitem()\n",
    "\n",
    "print(\"Removed item:\", removed_item)\n",
    "print(\"Updated student dictionary:\", student)\n"
   ]
  },
  {
   "cell_type": "code",
   "execution_count": 32,
   "id": "c4dbed96",
   "metadata": {},
   "outputs": [
    {
     "name": "stdout",
     "output_type": "stream",
     "text": [
      "{}\n"
     ]
    }
   ],
   "source": [
    "#methods in dictionary \n",
    "#clear \n",
    "student.clear()\n",
    "print(student)\n"
   ]
  },
  {
   "cell_type": "code",
   "execution_count": 33,
   "id": "25bdc442",
   "metadata": {},
   "outputs": [
    {
     "name": "stdout",
     "output_type": "stream",
     "text": [
      "{}\n",
      "{}\n"
     ]
    }
   ],
   "source": [
    "#copy \n",
    "s=student.copy()\n",
    "print(student)\n",
    "print(s)\n",
    "\n"
   ]
  },
  {
   "cell_type": "code",
   "execution_count": 34,
   "id": "ed33b454",
   "metadata": {},
   "outputs": [
    {
     "name": "stdout",
     "output_type": "stream",
     "text": [
      "{'name': 'krishnamurti ayer', 'age': 20, 'grade': 'A'}\n",
      "{'name': 'krishnamurti ayer', 'age': 20, 'grade': 'A'}\n"
     ]
    }
   ],
   "source": [
    "student = {\n",
    "    \"name\": \"krishnamurti ayer\",\n",
    "    \"age\": 20,\n",
    "    \"grade\": \"A\"\n",
    "}\n",
    "s=student.copy()\n",
    "print(student)\n",
    "print(s)"
   ]
  },
  {
   "cell_type": "code",
   "execution_count": null,
   "id": "37f248d5",
   "metadata": {},
   "outputs": [],
   "source": [
    "student = {\n",
    "    \"name\": \"krishnamurti ayer\",\n",
    "    \"age\": 20,\n",
    "    \"grade\": \"A\"\n",
    "}"
   ]
  },
  {
   "cell_type": "code",
   "execution_count": 39,
   "id": "bf68d0c6",
   "metadata": {},
   "outputs": [
    {
     "name": "stdout",
     "output_type": "stream",
     "text": [
      "({'name': 'Gaganlal trivedi', 'email': 'gaganlal@example.com', 'city': 'Bangalore', 'skills': ['Python', 'JavaScript', 'Data Analysis']},)\n"
     ]
    }
   ],
   "source": [
    "information =  {\"name\": \"Gaganlal trivedi\",\n",
    "        \"email\": \"gaganlal@example.com\",\n",
    "        \"city\": \"Bangalore\",\n",
    "        \"skills\": [\"Python\", \"JavaScript\", \"Data Analysis\"]},\n",
    "    # Add more entries with the same structure...\n",
    "\n",
    "\n",
    "# Print the information list\n",
    "print(information)\n"
   ]
  },
  {
   "cell_type": "code",
   "execution_count": 44,
   "id": "6d847440",
   "metadata": {},
   "outputs": [
    {
     "name": "stdout",
     "output_type": "stream",
     "text": [
      "[{'name': 'Gaganlal trivedi', 'email': 'gaganlal@example.com', 'city': 'Bangalore', 'skills': ['Python', 'JavaScript', 'Data Analysis']}, {'name': 'Nitin pal', 'email': 'nitin@example.com', 'city': 'Hubli', 'skills': ['Java', 'C++', 'Database Management']}, {'name': 'krishnamurti ayer', 'email': 'krishnamurtiayer@example.com', 'city': 'vishakatapanam', 'skills': ['HTML', 'CSS', 'Web Design']}]\n"
     ]
    }
   ],
   "source": [
    "information = [\n",
    "    {\n",
    "        \"name\": \"Gaganlal trivedi\",\n",
    "        \"email\": \"gaganlal@example.com\",\n",
    "        \"city\": \"Bangalore\",\n",
    "        \"skills\": [\"Python\", \"JavaScript\", \"Data Analysis\"]\n",
    "    },\n",
    "    {\n",
    "        \"name\": \"Nitin pal\",\n",
    "        \"email\": \"nitin@example.com\",\n",
    "        \"city\": \"Hubli\",\n",
    "        \"skills\": [\"Java\", \"C++\", \"Database Management\"]\n",
    "    },\n",
    "    {\n",
    "        \"name\": \"krishnamurti ayer\",\n",
    "        \"email\": \"krishnamurtiayer@example.com\",\n",
    "        \"city\": \"vishakatapanam\",\n",
    "        \"skills\": [\"HTML\", \"CSS\", \"Web Design\"]\n",
    "    }\n",
    "    # Add more entries with the same structure...\n",
    "]\n",
    "\n",
    "# Print the information list of dictionaries\n",
    "print(information)\n",
    "\n"
   ]
  },
  {
   "attachments": {},
   "cell_type": "markdown",
   "id": "333757bb",
   "metadata": {},
   "source": [
    "# Conditional Statements\n"
   ]
  },
  {
   "cell_type": "code",
   "execution_count": null,
   "id": "8aaff108",
   "metadata": {},
   "outputs": [],
   "source": []
  }
 ],
 "metadata": {
  "kernelspec": {
   "display_name": "Python 3 (ipykernel)",
   "language": "python",
   "name": "python3"
  },
  "language_info": {
   "codemirror_mode": {
    "name": "ipython",
    "version": 3
   },
   "file_extension": ".py",
   "mimetype": "text/x-python",
   "name": "python",
   "nbconvert_exporter": "python",
   "pygments_lexer": "ipython3",
   "version": "3.10.9"
  }
 },
 "nbformat": 4,
 "nbformat_minor": 5
}
