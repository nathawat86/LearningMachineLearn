{
 "cells": [
  {
   "cell_type": "markdown",
   "id": "d897b704",
   "metadata": {},
   "source": [
    "# CONDITIONAL STATEMENT \n",
    "scope is defined by indentation "
   ]
  },
  {
   "cell_type": "code",
   "execution_count": null,
   "id": "f3a416f1",
   "metadata": {},
   "outputs": [],
   "source": [
    "if condition:\n",
    "    # Code to be executed if the condition is true\n",
    "else:\n",
    "    # Code to be executed if the condition is false\n"
   ]
  },
  {
   "cell_type": "code",
   "execution_count": 2,
   "id": "3643ce5e",
   "metadata": {},
   "outputs": [
    {
     "name": "stdout",
     "output_type": "stream",
     "text": [
      "x is greater than 5\n"
     ]
    }
   ],
   "source": [
    "x = 10\n",
    "\n",
    "if x > 5:\n",
    "    print(\"x is greater than 5\")\n",
    "else:\n",
    "    print(\"x is not greater than 5\")\n"
   ]
  },
  {
   "cell_type": "code",
   "execution_count": 3,
   "id": "aca79bd8",
   "metadata": {},
   "outputs": [
    {
     "name": "stdout",
     "output_type": "stream",
     "text": [
      "x is greater than 5 but not greater than 15\n"
     ]
    }
   ],
   "source": [
    "x = 10\n",
    "\n",
    "if x > 15:\n",
    "    print(\"x is greater than 15\")\n",
    "elif x > 5:\n",
    "    print(\"x is greater than 5 but not greater than 15\")\n",
    "else:\n",
    "    print(\"x is not greater than 5\")\n",
    "\n"
   ]
  },
  {
   "cell_type": "code",
   "execution_count": null,
   "id": "602084f8",
   "metadata": {},
   "outputs": [],
   "source": [
    "#nested if and else "
   ]
  },
  {
   "cell_type": "code",
   "execution_count": 5,
   "id": "b3493154",
   "metadata": {},
   "outputs": [
    {
     "name": "stdout",
     "output_type": "stream",
     "text": [
      "x is greater than 5 but not greater than 15\n"
     ]
    }
   ],
   "source": [
    "x = 10\n",
    "\n",
    "if x > 5:\n",
    "    if x > 15:\n",
    "        print(\"x is greater than 15\")\n",
    "    else:\n",
    "        print(\"x is greater than 5 but not greater than 15\")\n",
    "else:\n",
    "    print(\"x is not greater than 5\")\n"
   ]
  },
  {
   "cell_type": "code",
   "execution_count": 6,
   "id": "5bb097d3",
   "metadata": {},
   "outputs": [
    {
     "name": "stdout",
     "output_type": "stream",
     "text": [
      "x is greater than 8 but not greater than 15\n"
     ]
    }
   ],
   "source": [
    "x = 10\n",
    "\n",
    "if x > 15:\n",
    "    print(\"x is greater than 15\")\n",
    "elif x > 5:\n",
    "    if x > 8:\n",
    "        print(\"x is greater than 8 but not greater than 15\")\n",
    "    else:\n",
    "        print(\"x is greater than 5 but not greater than 8\")\n",
    "else:\n",
    "    print(\"x is not greater than 5\")\n"
   ]
  },
  {
   "cell_type": "code",
   "execution_count": 7,
   "id": "dbd9576c",
   "metadata": {},
   "outputs": [
    {
     "name": "stdout",
     "output_type": "stream",
     "text": [
      "x is greater than 8 but not greater than 15\n"
     ]
    }
   ],
   "source": [
    "x = 10\n",
    "\n",
    "if x > 5:\n",
    "    if x > 15:\n",
    "        print(\"x is greater than 15\")\n",
    "    else:\n",
    "        if x > 8:\n",
    "            print(\"x is greater than 8 but not greater than 15\")\n",
    "        else:\n",
    "            print(\"x is greater than 5 but not greater than 8\")\n",
    "else:\n",
    "    print(\"x is not greater than 5\")\n"
   ]
  },
  {
   "cell_type": "code",
   "execution_count": 8,
   "id": "b918f70f",
   "metadata": {},
   "outputs": [
    {
     "name": "stdout",
     "output_type": "stream",
     "text": [
      "x is greater than 8 but not greater than 15\n"
     ]
    }
   ],
   "source": [
    "#ladder if -else with the logical operators\n",
    "x = 10\n",
    "\n",
    "if x > 15:\n",
    "    print(\"x is greater than 15\")\n",
    "elif x > 8 and x <= 15:\n",
    "    print(\"x is greater than 8 but not greater than 15\")\n",
    "elif x > 5 and x <= 8:\n",
    "    print(\"x is greater than 5 but not greater than 8\")\n",
    "else:\n",
    "    print(\"x is not greater than 5\")\n"
   ]
  },
  {
   "cell_type": "code",
   "execution_count": null,
   "id": "7f59a527",
   "metadata": {},
   "outputs": [],
   "source": [
    "text = \"chandrayan another achievement\"\n",
    "\n",
    "# Check if \"chandrayan\" is present in the string\n",
    "if \"chandrayan\" in text:\n",
    "    print(\"The string contains 'chandrayan'\")\n",
    "else:\n",
    "    print(\"The string does not contain 'chandrayan'\")\n",
    "\n",
    "# Check if \"moon\" is not present in the string\n",
    "if \"moon\" not in text:\n",
    "    print(\"The string does not contain 'moon'\")\n",
    "else:\n",
    "    print(\"The string contains 'moon'\")\n"
   ]
  },
  {
   "cell_type": "code",
   "execution_count": null,
   "id": "4714f9fc",
   "metadata": {},
   "outputs": [],
   "source": [
    "#pass :developing the code later \n",
    "x = 10\n",
    "\n",
    "if x > 5:\n",
    "    pass\n",
    "else:\n",
    "    print(\"x is not greater than 5\")\n"
   ]
  },
  {
   "cell_type": "markdown",
   "id": "77a03df1",
   "metadata": {},
   "source": [
    "# exercise"
   ]
  },
  {
   "cell_type": "code",
   "execution_count": null,
   "id": "045fb51d",
   "metadata": {},
   "outputs": [],
   "source": [
    "#Qus 1 Take 3 int inputs from user and check and print the result.\n",
    "\t#all are equal\n",
    "\t#any of two are equal\n",
    "\t#( use and or )\n"
   ]
  },
  {
   "cell_type": "code",
   "execution_count": 10,
   "id": "0a65bcb9",
   "metadata": {},
   "outputs": [
    {
     "name": "stdout",
     "output_type": "stream",
     "text": [
      "Enter the first number: 2\n",
      "Enter the second number: 4\n",
      "Enter the third number: 5\n",
      "All numbers are different\n"
     ]
    }
   ],
   "source": [
    "# Take three integer inputs from the user\n",
    "a = int(input(\"Enter the first number: \"))\n",
    "b = int(input(\"Enter the second number: \"))\n",
    "c = int(input(\"Enter the third number: \"))\n",
    "\n",
    "# Check conditions using logical operators\n",
    "if a == b == c:\n",
    "    print(\"All numbers are equal\")\n",
    "elif a == b or b == c or a == c:\n",
    "    print(\"Any two numbers are equal\")\n",
    "else:\n",
    "    print(\"All numbers are different\")\n"
   ]
  },
  {
   "cell_type": "code",
   "execution_count": null,
   "id": "bd95ba24",
   "metadata": {},
   "outputs": [],
   "source": [
    "#qus 2 Accept two numbers and print the greatest between them"
   ]
  },
  {
   "cell_type": "code",
   "execution_count": 11,
   "id": "6b966fd2",
   "metadata": {},
   "outputs": [
    {
     "name": "stdout",
     "output_type": "stream",
     "text": [
      "Enter the first number: 3.4\n",
      "Enter the second number: 3.3\n",
      "The greatest number is: 3.4\n"
     ]
    }
   ],
   "source": [
    "# Accept two numbers from the user\n",
    "a = float(input(\"Enter the first number: \"))\n",
    "b = float(input(\"Enter the second number: \"))\n",
    "\n",
    "# Compare the numbers and print the greatest\n",
    "if a > b:\n",
    "    print(\"The greatest number is:\", a)\n",
    "elif b > a:\n",
    "    print(\"The greatest number is:\", b)\n",
    "else:\n",
    "    print(\"Both numbers are equal\")\n"
   ]
  },
  {
   "cell_type": "code",
   "execution_count": null,
   "id": "e7efa7a7",
   "metadata": {},
   "outputs": [],
   "source": [
    "#3 Accept the gender from the user as char and print the respective greeting message\n",
    "     #Ex - Good Morning Sir (on the basis of gender)\n",
    "    "
   ]
  },
  {
   "cell_type": "code",
   "execution_count": 17,
   "id": "9e689082",
   "metadata": {},
   "outputs": [
    {
     "name": "stdout",
     "output_type": "stream",
     "text": [
      "Enter your gender (M for Male, F for Female): F\n",
      "Good Morning Ma'am!\n"
     ]
    }
   ],
   "source": [
    "# Accept gender from the user\n",
    "gender = input(\"Enter your gender (M for Male, F for Female): \")\n",
    "\n",
    "# Check gender and print respective greeting\n",
    "if gender == 'M':\n",
    "    print(\"Good Morning Sir!\")\n",
    "elif gender == 'F':\n",
    "    print(\"Good Morning Ma'am!\")\n",
    "else:\n",
    "    print(\"Unknown gender entered!\")\n"
   ]
  },
  {
   "cell_type": "code",
   "execution_count": null,
   "id": "2410f95c",
   "metadata": {},
   "outputs": [],
   "source": [
    "# qus 4  Accept an integer and check whether it is an even number or odd."
   ]
  },
  {
   "cell_type": "code",
   "execution_count": null,
   "id": "33b281e2",
   "metadata": {},
   "outputs": [],
   "source": [
    "# Accept an integer from the user\n",
    "a= int(input(\"Enter an integer: \"))\n",
    "\n",
    "# Initialize a variable to store the result\n",
    "result = \"\"\n",
    "\n",
    "# Check if the number is even or odd and assign the result to the variable\n",
    "if num % 2 == 0:\n",
    "    result = \"even\"\n",
    "else:\n",
    "    result = \"odd\"\n",
    "\n",
    "# Print the result\n",
    "print(\"The number is\", result + \".\")\n"
   ]
  },
  {
   "cell_type": "code",
   "execution_count": null,
   "id": "3daf9c11",
   "metadata": {},
   "outputs": [],
   "source": [
    " #Accept name and age from the user. Check if the user is a valid voter or not.\n",
    "     # Vaid - Hello Shery, You are a valid voter.\n",
    "     # Invalid - Sorry Shery, you can't cast the vote."
   ]
  },
  {
   "cell_type": "code",
   "execution_count": 13,
   "id": "c57cc7d1",
   "metadata": {},
   "outputs": [
    {
     "name": "stdout",
     "output_type": "stream",
     "text": [
      "Enter your name: 12\n",
      "Enter your age: er\n"
     ]
    },
    {
     "ename": "ValueError",
     "evalue": "invalid literal for int() with base 10: 'er'",
     "output_type": "error",
     "traceback": [
      "\u001b[1;31m---------------------------------------------------------------------------\u001b[0m",
      "\u001b[1;31mValueError\u001b[0m                                Traceback (most recent call last)",
      "Cell \u001b[1;32mIn[13], line 3\u001b[0m\n\u001b[0;32m      1\u001b[0m \u001b[38;5;66;03m# Accept name and age from the user\u001b[39;00m\n\u001b[0;32m      2\u001b[0m name \u001b[38;5;241m=\u001b[39m \u001b[38;5;28minput\u001b[39m(\u001b[38;5;124m\"\u001b[39m\u001b[38;5;124mEnter your name: \u001b[39m\u001b[38;5;124m\"\u001b[39m)\n\u001b[1;32m----> 3\u001b[0m age \u001b[38;5;241m=\u001b[39m \u001b[38;5;28;43mint\u001b[39;49m\u001b[43m(\u001b[49m\u001b[38;5;28;43minput\u001b[39;49m\u001b[43m(\u001b[49m\u001b[38;5;124;43m\"\u001b[39;49m\u001b[38;5;124;43mEnter your age: \u001b[39;49m\u001b[38;5;124;43m\"\u001b[39;49m\u001b[43m)\u001b[49m\u001b[43m)\u001b[49m\n\u001b[0;32m      5\u001b[0m \u001b[38;5;66;03m# Check if the user is a valid voter or not\u001b[39;00m\n\u001b[0;32m      6\u001b[0m \u001b[38;5;28;01mif\u001b[39;00m age \u001b[38;5;241m>\u001b[39m\u001b[38;5;241m=\u001b[39m \u001b[38;5;241m18\u001b[39m:\n",
      "\u001b[1;31mValueError\u001b[0m: invalid literal for int() with base 10: 'er'"
     ]
    }
   ],
   "source": [
    "# Accept name and age from the user\n",
    "name = input(\"Enter your name: \")\n",
    "age = int(input(\"Enter your age: \"))\n",
    "\n",
    "# Check if the user is a valid voter or not\n",
    "if age >= 18:\n",
    "    print(\"Hello\", name + \",\", \"You are a valid voter.\")\n",
    "else:\n",
    "    print(\"Sorry\", name + \",\", \"you can't cast the vote.\")\n",
    "\n"
   ]
  },
  {
   "cell_type": "code",
   "execution_count": 14,
   "id": "97b2cba8",
   "metadata": {},
   "outputs": [
    {
     "name": "stdout",
     "output_type": "stream",
     "text": [
      "Enter your name: SHAILJA\n",
      "Enter your age: 43\n",
      "Hello SHAILJA, You are a valid voter.\n"
     ]
    }
   ],
   "source": [
    "# Accept name and age from the user\n",
    "name = input(\"Enter your name: \")\n",
    "age = int(input(\"Enter your age: \"))\n",
    "\n",
    "# Check if the user is a valid voter or not\n",
    "if age >= 18:\n",
    "    print(\"Hello\", name + \",\", \"You are a valid voter.\")\n",
    "else:\n",
    "    print(\"Sorry\", name + \",\", \"you can't cast the vote.\")"
   ]
  },
  {
   "cell_type": "code",
   "execution_count": null,
   "id": "b435af85",
   "metadata": {},
   "outputs": [],
   "source": [
    "#Part 2 - Print after how many years the user will be eligible"
   ]
  },
  {
   "cell_type": "code",
   "execution_count": 15,
   "id": "fbb5b71f",
   "metadata": {},
   "outputs": [
    {
     "name": "stdout",
     "output_type": "stream",
     "text": [
      "Enter your name: shailja\n",
      "Enter your age: 12\n",
      "Sorry shailja, you can't cast the vote.\n",
      "You will be eligible to vote after  6 years.\n"
     ]
    }
   ],
   "source": [
    "# Accept name and age from the user\n",
    "name = input(\"Enter your name: \")\n",
    "age = int(input(\"Enter your age: \"))\n",
    "\n",
    "# Check if the user is a valid voter or not\n",
    "if age >= 18:\n",
    "    print(\"Hello\", name + \",\", \"You are a valid voter.\")\n",
    "else:\n",
    "    eligible = 18 - age\n",
    "    print(\"Sorry\", name + \",\", \"you can't cast the vote.\")\n",
    "    print(\"You will be eligible to vote after \", eligible, \"years.\")\n"
   ]
  },
  {
   "cell_type": "code",
   "execution_count": null,
   "id": "d0e571c5",
   "metadata": {},
   "outputs": [],
   "source": [
    "#Accept an english alphabet from user and check if it is a consonent or a vowel;"
   ]
  },
  {
   "cell_type": "code",
   "execution_count": 16,
   "id": "26f971d1",
   "metadata": {},
   "outputs": [
    {
     "name": "stdout",
     "output_type": "stream",
     "text": [
      "Enter an English alphabet: r\n",
      "The entered alphabet is a consonant.\n"
     ]
    }
   ],
   "source": [
    "# Accept an English alphabet from the user\n",
    "alphabet = input(\"Enter an English alphabet: \")\n",
    "\n",
    "# Convert the input to lowercase for easier comparison\n",
    "alphabet = alphabet.lower()\n",
    "\n",
    "# Check if the input is a consonant or a vowel\n",
    "if alphabet in ['a', 'e', 'i', 'o', 'u']:\n",
    "    print(\"The entered alphabet is a vowel.\")\n",
    "else:\n",
    "    print(\"The entered alphabet is a consonant.\")\n"
   ]
  },
  {
   "cell_type": "code",
   "execution_count": null,
   "id": "2b56eeb2",
   "metadata": {},
   "outputs": [],
   "source": [
    "\n",
    "\n",
    "\n",
    "#Start the algorithm.\n",
    "#Accept the length and width of a rectangle from the user.\n",
    "#Calculate the area of the rectangle by multiplying the length and width.\n",
    "#Calculate the perimeter of the rectangle by adding twice the length and twice the width.\n",
    "#If the area is greater than the perimeter, print \"The rectangle has a larger area.\"\n",
    "#If the area is equal to the perimeter, print \"The rectangle has equal area and perimeter.\"\n",
    "#If the area is less than the perimeter, print \"The rectangle has a larger perimeter.\"\n",
    "#End the algorithm."
   ]
  },
  {
   "cell_type": "code",
   "execution_count": null,
   "id": "84bef884",
   "metadata": {},
   "outputs": [],
   "source": [
    "# Accept the length and width of the rectangle from the user\n",
    "length = float(input(\"Enter the length of the rectangle: \"))\n",
    "width = float(input(\"Enter the width of the rectangle: \"))\n",
    "\n",
    "# Calculate the area and perimeter of the rectangle\n",
    "area = length * width\n",
    "perimeter = 2 * (length + width)\n",
    "\n",
    "# Compare the area and perimeter using if-elif-else statements\n",
    "if area > perimeter:\n",
    "    print(\"The rectangle has a larger area.\")\n",
    "elif area == perimeter:\n",
    "    print(\"The rectangle has equal area and perimeter.\")\n",
    "else:\n",
    "    print(\"The rectangle has a larger perimeter.\")\n"
   ]
  },
  {
   "cell_type": "code",
   "execution_count": null,
   "id": "884a400e",
   "metadata": {},
   "outputs": [],
   "source": [
    "# LOOP ;https://www.youtube.com/watch?v=wxds6MAtUQ0"
   ]
  },
  {
   "cell_type": "code",
   "execution_count": 5,
   "id": "5426c312",
   "metadata": {},
   "outputs": [
    {
     "name": "stdout",
     "output_type": "stream",
     "text": [
      "[9, 8, 5, 3, 2, 1]\n"
     ]
    }
   ],
   "source": [
    "# sort method reverse a list :\n",
    "l = [5, 2, 8, 1, 9, 3]\n",
    "b = sorted(l, reverse=True)\n",
    "print(b)\n",
    "\n"
   ]
  },
  {
   "cell_type": "code",
   "execution_count": 6,
   "id": "70b17d24",
   "metadata": {},
   "outputs": [
    {
     "ename": "NameError",
     "evalue": "name 'sort' is not defined",
     "output_type": "error",
     "traceback": [
      "\u001b[1;31m---------------------------------------------------------------------------\u001b[0m",
      "\u001b[1;31mNameError\u001b[0m                                 Traceback (most recent call last)",
      "Cell \u001b[1;32mIn[6], line 3\u001b[0m\n\u001b[0;32m      1\u001b[0m \u001b[38;5;66;03m# sort method reverse a list :\u001b[39;00m\n\u001b[0;32m      2\u001b[0m l \u001b[38;5;241m=\u001b[39m [\u001b[38;5;241m5\u001b[39m, \u001b[38;5;241m2\u001b[39m, \u001b[38;5;241m8\u001b[39m, \u001b[38;5;241m1\u001b[39m, \u001b[38;5;241m9\u001b[39m, \u001b[38;5;241m3\u001b[39m]\n\u001b[1;32m----> 3\u001b[0m b \u001b[38;5;241m=\u001b[39m \u001b[43msort\u001b[49m(l, reverse\u001b[38;5;241m=\u001b[39m\u001b[38;5;28;01mTrue\u001b[39;00m)\n\u001b[0;32m      4\u001b[0m \u001b[38;5;28mprint\u001b[39m(b)\n",
      "\u001b[1;31mNameError\u001b[0m: name 'sort' is not defined"
     ]
    }
   ],
   "source": [
    "# sort method reverse a list :\n",
    "l = [5, 2, 8, 1, 9, 3]\n",
    "b = sort(l, reverse=True)\n",
    "print(b)\n"
   ]
  },
  {
   "cell_type": "code",
   "execution_count": 9,
   "id": "3c088c5a",
   "metadata": {},
   "outputs": [
    {
     "name": "stdout",
     "output_type": "stream",
     "text": [
      "apple, banana, cherry\n"
     ]
    }
   ],
   "source": [
    "end=\"\"\n",
    "\n",
    "fruit1 = \"apple\"\n",
    "fruit2 = \"banana\"\n",
    "fruit3 = \"cherry\"\n",
    "\n",
    "print(fruit1, end=\", \")\n",
    "print(fruit2, end=\", \")\n",
    "print(fruit3)\n",
    "\n"
   ]
  },
  {
   "cell_type": "code",
   "execution_count": 10,
   "id": "c3e14bce",
   "metadata": {},
   "outputs": [
    {
     "name": "stdout",
     "output_type": "stream",
     "text": [
      "apple\n",
      "banana, cherry\n"
     ]
    }
   ],
   "source": [
    "fruit1 = \"apple\"\n",
    "fruit2 = \"banana\"\n",
    "fruit3 = \"cherry\"\n",
    "\n",
    "print(fruit1)\n",
    "print(fruit2, end=\", \")\n",
    "print(fruit3)\n"
   ]
  },
  {
   "cell_type": "code",
   "execution_count": null,
   "id": "a5df8b65",
   "metadata": {},
   "outputs": [],
   "source": []
  }
 ],
 "metadata": {
  "kernelspec": {
   "display_name": "Python 3 (ipykernel)",
   "language": "python",
   "name": "python3"
  },
  "language_info": {
   "codemirror_mode": {
    "name": "ipython",
    "version": 3
   },
   "file_extension": ".py",
   "mimetype": "text/x-python",
   "name": "python",
   "nbconvert_exporter": "python",
   "pygments_lexer": "ipython3",
   "version": "3.10.9"
  }
 },
 "nbformat": 4,
 "nbformat_minor": 5
}
