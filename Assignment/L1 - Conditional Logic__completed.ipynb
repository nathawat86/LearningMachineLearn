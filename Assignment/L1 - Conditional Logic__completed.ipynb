{
 "cells": [
  {
   "cell_type": "markdown",
   "id": "c6ec5c42",
   "metadata": {
    "id": "c6ec5c42"
   },
   "source": [
    "# Assessment - 3 Gradable\n",
    "\n",
    "- Each question carries 3 or 4 marks\n",
    "- Marks will be assigned in terms of:\n",
    "    \n",
    "    **1. Expected output**\n",
    "    \n",
    "    **2. Quality and Explainability of code**\n",
    "\n",
    "    ***Go back through the script and type a comment above each line explaining in English what it does.***\n",
    "\n",
    "    **3. Copied code, if found, will result in 0 marks for that question. To avoid this make as much comments in the code to explain the approach**"
   ]
  },
  {
   "cell_type": "markdown",
   "id": "8698053e",
   "metadata": {
    "id": "8698053e"
   },
   "source": [
    "### 1.\n",
    "\n",
    "Go through the string below and if the length of a word is even print \"even!\"\n",
    "\n",
    "string = 'I know how to print every word in this sentence that has an even number of letters'"
   ]
  },
  {
   "cell_type": "code",
   "execution_count": 1,
   "id": "4dec28a9",
   "metadata": {
    "id": "4dec28a9"
   },
   "outputs": [
    {
     "name": "stdout",
     "output_type": "stream",
     "text": [
      "know even!\n",
      "to even!\n",
      "word even!\n",
      "in even!\n",
      "this even!\n",
      "sentence even!\n",
      "that even!\n",
      "an even!\n",
      "even even!\n",
      "number even!\n",
      "of even!\n"
     ]
    }
   ],
   "source": [
    "string = 'I know how to print every word in this sentence that has an even number of letters'\n",
    "\n",
    "# Split the string into words\n",
    "each_word = string.split()\n",
    "\n",
    "# Loop through each word and check if its length is even\n",
    "for word in each_word:\n",
    "    if len(word) % 2 == 0:\n",
    "        print(word, \"even!\")\n"
   ]
  },
  {
   "cell_type": "markdown",
   "id": "8569bc4e",
   "metadata": {
    "id": "8569bc4e"
   },
   "source": [
    "### 2. \n",
    "\n",
    "Write a program to check given number is odd or even\n",
    "\n",
    "Hint:\n",
    "- 20 is even\n",
    "- 27 is odd"
   ]
  },
  {
   "cell_type": "code",
   "execution_count": 6,
   "id": "9ccfca15",
   "metadata": {
    "id": "9ccfca15"
   },
   "outputs": [
    {
     "name": "stdout",
     "output_type": "stream",
     "text": [
      "Enter a number: 10\n",
      "Your entered number is Even.\n"
     ]
    }
   ],
   "source": [
    "user_input = input(\"Enter a number: \")\n",
    "\n",
    "if user_input.isdigit():\n",
    "    user_number = int(user_input)\n",
    "\n",
    "    if user_number % 2 == 0:\n",
    "        print(\"Your entered number is Even.\")\n",
    "    else:\n",
    "        print(\"Your entered number is Odd.\")\n",
    "else:\n",
    "    print(\"Invalid input. Please enter a valid integer.\")\n"
   ]
  },
  {
   "cell_type": "markdown",
   "id": "40759409",
   "metadata": {
    "id": "40759409"
   },
   "source": [
    "### 3.\n",
    "\n",
    "Write a program to check given number is divisible by 6 or not\n",
    "\n",
    "Hint:\n",
    "24 is divisible by 6\n",
    "27 is not divisible by 6"
   ]
  },
  {
   "cell_type": "code",
   "execution_count": 7,
   "id": "f7409469",
   "metadata": {
    "id": "f7409469"
   },
   "outputs": [
    {
     "name": "stdout",
     "output_type": "stream",
     "text": [
      "Enter a number: 37\n",
      "Your entered number is not divisible by 6.\n"
     ]
    }
   ],
   "source": [
    "user_input = input(\"Enter a number: \")\n",
    "\n",
    "if user_input.isdigit():\n",
    "    user_number = int(user_input)\n",
    "\n",
    "    if user_number % 6 == 0:\n",
    "        print(\"Your entered number is divisible by 6.\")\n",
    "    else:\n",
    "        print(\"Your entered number is not divisible by 6.\")\n",
    "else:\n",
    "    print(\"Invalid input. Please enter a valid integer.\")\n"
   ]
  },
  {
   "cell_type": "markdown",
   "id": "0dd3847a",
   "metadata": {
    "id": "0dd3847a"
   },
   "source": [
    "### 4. \n",
    "\n",
    "Create a list containing the following 3 elements:\n",
    "\n",
    "- Subject person had taken\n",
    "- Marks Achieved\n",
    "- a boolean value showing previous programming experience\n",
    "\n",
    "print all details and also print person has programming experience or not"
   ]
  },
  {
   "cell_type": "code",
   "execution_count": 9,
   "id": "5c87efcb",
   "metadata": {
    "id": "5c87efcb"
   },
   "outputs": [
    {
     "name": "stdout",
     "output_type": "stream",
     "text": [
      "Subject person had taken: Computer Science\n",
      "Marks Achieved: 91\n",
      "Programming Experience: Yes\n"
     ]
    }
   ],
   "source": [
    "# Create the list with the given elements\n",
    "user_details = ['Computer Science', 91, True]\n",
    "\n",
    "# Print all the details\n",
    "print(\"Subject person had taken:\", user_details[0])\n",
    "print(\"Marks Achieved:\", user_details[1])\n",
    "print(\"Programming Experience:\", \"Yes\" if user_details[2] else \"No\")\n"
   ]
  },
  {
   "cell_type": "markdown",
   "id": "a54510f0",
   "metadata": {
    "id": "a54510f0"
   },
   "source": [
    "### 5.\n",
    "\n",
    "Write a program to check sum of all elements in a list is greater than 100 or not\n",
    "\n",
    "Hint:\n",
    "- [11, 13, 17, 19, 11] --> sum is not greater than 100\n",
    "- [24, 36, 30, 31, 42] --> sum is greater than 100"
   ]
  },
  {
   "cell_type": "code",
   "execution_count": 1,
   "id": "5d53ba1f",
   "metadata": {
    "id": "5d53ba1f"
   },
   "outputs": [
    {
     "name": "stdout",
     "output_type": "stream",
     "text": [
      "[11, 12, 27, 9, 41]  sum is not greater than 100\n",
      "[28, 33, 31, 21, 62]  sum is greater than 100\n"
     ]
    }
   ],
   "source": [
    "# Test cases\n",
    "list1 = [11, 12, 27, 9, 41]\n",
    "list2 = [28, 33, 31, 21, 62]\n",
    "\n",
    "# Calculate the sum of elements in each list\n",
    "sum_list1 = sum(list1)\n",
    "sum_list2 = sum(list2)\n",
    "\n",
    "# Check if the sum is greater than 100 and print the result\n",
    "if sum_list1 > 100:\n",
    "    print(list1,\" sum is greater than 100\")\n",
    "else:\n",
    "    print(list1, \" sum is not greater than 100\")\n",
    "\n",
    "if sum_list2 > 100:\n",
    "    print(list2,\" sum is greater than 100\")\n",
    "else:\n",
    "    print(list2,\" sum is not greater than 100\")\n"
   ]
  },
  {
   "cell_type": "code",
   "execution_count": null,
   "id": "e7124c30",
   "metadata": {},
   "outputs": [],
   "source": []
  }
 ],
 "metadata": {
  "colab": {
   "provenance": []
  },
  "kernelspec": {
   "display_name": "Python 3 (ipykernel)",
   "language": "python",
   "name": "python3"
  },
  "language_info": {
   "codemirror_mode": {
    "name": "ipython",
    "version": 3
   },
   "file_extension": ".py",
   "mimetype": "text/x-python",
   "name": "python",
   "nbconvert_exporter": "python",
   "pygments_lexer": "ipython3",
   "version": "3.8.10"
  }
 },
 "nbformat": 4,
 "nbformat_minor": 5
}
