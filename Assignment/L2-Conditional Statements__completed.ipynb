{
 "cells": [
  {
   "cell_type": "markdown",
   "id": "3a10df7a",
   "metadata": {
    "id": "3a10df7a"
   },
   "source": [
    "# Conditional Statements\n",
    "- Write solution of each question in the cell given below the corresponsing question."
   ]
  },
  {
   "cell_type": "markdown",
   "id": "60c2d89a",
   "metadata": {
    "id": "60c2d89a"
   },
   "source": [
    "#### 1. Take a list of numbers as input. Print whether the average is even or odd."
   ]
  },
  {
   "cell_type": "code",
   "execution_count": 2,
   "id": "74d8f988",
   "metadata": {
    "id": "74d8f988"
   },
   "outputs": [
    {
     "name": "stdout",
     "output_type": "stream",
     "text": [
      "Enter a list of numbers separated by spaces: 10 9 8  9   78  54\n",
      "The average is  28.0\n",
      "The average is even.\n"
     ]
    }
   ],
   "source": [
    "# Take input from the user for the list of numbers\n",
    "num_list = input(\"Enter a list of numbers separated by spaces: \").split()\n",
    "\n",
    "# Convert the input elements to integers\n",
    "num_list = [int(num) for num in num_list]\n",
    "\n",
    "# Calculate the average of the numbers\n",
    "average = sum(num_list) / len(num_list)\n",
    "\n",
    "print(\"The average is \",average)\n",
    "\n",
    "# Check if the average is even or odd and print the result\n",
    "if average % 2 == 0:\n",
    "    print(\"The average is even.\")\n",
    "else:\n",
    "    print(\"The average is odd.\")\n"
   ]
  },
  {
   "cell_type": "markdown",
   "id": "4846bb19",
   "metadata": {
    "id": "4846bb19"
   },
   "source": [
    "#### 2. Take three strings as input. Calculate the number of words in each string and find out the list having highest number of words."
   ]
  },
  {
   "cell_type": "code",
   "execution_count": 4,
   "id": "e2984a70",
   "metadata": {
    "id": "e2984a70"
   },
   "outputs": [
    {
     "name": "stdout",
     "output_type": "stream",
     "text": [
      "Enter the first string: I love India\n",
      "Enter the second string: I love India a lot\n",
      "Enter the third string: I love   India.\n",
      "Number of words in the first string: 3\n",
      "Number of words in the second string: 5\n",
      "Number of words in the third string: 3\n",
      "The second string has the highest number of words.\n"
     ]
    }
   ],
   "source": [
    "# Take input for three strings\n",
    "user_string1 = input(\"Enter the first string: \")\n",
    "user_string2 = input(\"Enter the second string: \")\n",
    "user_string3 = input(\"Enter the third string: \")\n",
    "\n",
    "# Count the number of words in each string\n",
    "word_count_1 = len(user_string1.split())\n",
    "word_count_2 = len(user_string2.split())\n",
    "word_count_3 = len(user_string3.split())\n",
    "\n",
    "# Find the list (string) with the highest number of words\n",
    "max_words = max(word_count_1, word_count_2, word_count_3)\n",
    "\n",
    "# Print the number of words in each string\n",
    "print(\"Number of words in the first string:\", word_count_1)\n",
    "print(\"Number of words in the second string:\", word_count_2)\n",
    "print(\"Number of words in the third string:\", word_count_3)\n",
    "\n",
    "# Print the list(s) with the highest number of words\n",
    "if word_count_1 == max_words:\n",
    "    print(\"The first string has the highest number of words.\")\n",
    "if word_count_2 == max_words:\n",
    "    print(\"The second string has the highest number of words.\")\n",
    "if word_count_3 == max_words:\n",
    "    print(\"The third string has the highest number of words.\")\n"
   ]
  },
  {
   "cell_type": "markdown",
   "id": "0e0d8196",
   "metadata": {
    "id": "0e0d8196"
   },
   "source": [
    "#### 3. Take four numbers as input in a single line. Find out the largest number."
   ]
  },
  {
   "cell_type": "code",
   "execution_count": 5,
   "id": "2b724327",
   "metadata": {
    "id": "2b724327"
   },
   "outputs": [
    {
     "name": "stdout",
     "output_type": "stream",
     "text": [
      "Enter four numbers separated by spaces: 5 10 15 20\n",
      "The largest number is: 20\n"
     ]
    }
   ],
   "source": [
    "# Take input for four numbers separated by spaces\n",
    "users_input = input(\"Enter four numbers separated by spaces: \")\n",
    "\n",
    "# Split the input by spaces to get individual numbers\n",
    "users_numbers_list = users_input.split()\n",
    "\n",
    "# Convert the elements to integers\n",
    "users_numbers_list = [int(num) for num in users_numbers_list]\n",
    "\n",
    "# Find the largest number\n",
    "largest_number = users_numbers_list[0]\n",
    "for num in users_numbers_list:\n",
    "    if num > largest_number:\n",
    "        largest_number = num\n",
    "\n",
    "# Print the largest number\n",
    "print(\"The largest number is:\", largest_number)\n"
   ]
  },
  {
   "cell_type": "code",
   "execution_count": 7,
   "id": "ea33a5ea",
   "metadata": {},
   "outputs": [
    {
     "name": "stdout",
     "output_type": "stream",
     "text": [
      "Enter four numbers separated by spaces:  5 6 7.89 7.889\n",
      "The largest number is: 7.89\n"
     ]
    }
   ],
   "source": [
    "# Take input for four numbers separated by spaces\n",
    "users_input = input(\"Enter four numbers separated by spaces: \")\n",
    "\n",
    "# Split the input by spaces to get individual numbers\n",
    "users_numbers_list = users_input.split()\n",
    "\n",
    "# Convert the elements to integers\n",
    "users_numbers_list = [float(num) for num in users_numbers_list]\n",
    "\n",
    "# Find the largest number using max() function\n",
    "largest_number = max(users_numbers_list)\n",
    "\n",
    "# Print the largest number\n",
    "print(\"The largest number is:\", largest_number)"
   ]
  },
  {
   "cell_type": "markdown",
   "id": "16c0440a",
   "metadata": {
    "id": "16c0440a"
   },
   "source": [
    "#### 4. Take four numbers as input and find the second largest numer."
   ]
  },
  {
   "cell_type": "code",
   "execution_count": 9,
   "id": "795ee65e",
   "metadata": {
    "id": "795ee65e"
   },
   "outputs": [
    {
     "name": "stdout",
     "output_type": "stream",
     "text": [
      "Enter the first number: 15\n",
      "Enter the second number: 20\n",
      "Enter the third number: 14\n",
      "Enter the fourth number: 55\n",
      "The second largest number is: 20\n"
     ]
    }
   ],
   "source": [
    "# Take input for four numbers\n",
    "num1 = int(input(\"Enter the first number: \"))\n",
    "num2 = int(input(\"Enter the second number: \"))\n",
    "num3 = int(input(\"Enter the third number: \"))\n",
    "num4 = int(input(\"Enter the fourth number: \"))\n",
    "\n",
    "# Create a list with the four numbers\n",
    "numbers_list = [num1, num2, num3, num4]\n",
    "\n",
    "# Sort the list in descending order\n",
    "numbers_list.sort(reverse=True)\n",
    "\n",
    "# Get the second largest number (index 1) from the sorted list\n",
    "second_largest = numbers_list[1]\n",
    "\n",
    "# Print the second largest number\n",
    "print(\"The second largest number is:\", second_largest)\n"
   ]
  },
  {
   "cell_type": "markdown",
   "id": "2f6641a4",
   "metadata": {
    "id": "2f6641a4"
   },
   "source": [
    "#### 5. Create a dictionary having three items. Key of each item is the name of a student, value associated with each key is a list of marks in five subjects. Given this dictionary print the top and lowest scorers."
   ]
  },
  {
   "cell_type": "code",
   "execution_count": 10,
   "id": "F5HgtrHdofCn",
   "metadata": {
    "id": "F5HgtrHdofCn"
   },
   "outputs": [
    {
     "name": "stdout",
     "output_type": "stream",
     "text": [
      "Top Scorer: Bhairun\n",
      "Lowest Scorer: Rashid\n"
     ]
    }
   ],
   "source": [
    "# Create a dictionary with student names as keys and their marks as values\n",
    "student_marks = {\n",
    "    'Bhairun': [85, 78, 92, 88, 95],\n",
    "    'Rashid': [91, 89, 76, 84, 80],\n",
    "    'Jyoti': [78, 86, 79, 92, 88]\n",
    "}\n",
    "\n",
    "# Calculate the total marks for each student and store them in a new dictionary\n",
    "student_totals = {name: sum(marks) for name, marks in student_marks.items()}\n",
    "\n",
    "# Find the top scorer and lowest scorer using the 'max()' and 'min()' functions\n",
    "top_scorer = max(student_totals, key=student_totals.get)\n",
    "lowest_scorer = min(student_totals, key=student_totals.get)\n",
    "\n",
    "# Print the top scorer and lowest scorer\n",
    "print(\"Top Scorer:\", top_scorer)\n",
    "print(\"Lowest Scorer:\", lowest_scorer)\n"
   ]
  },
  {
   "cell_type": "markdown",
   "id": "64db0791",
   "metadata": {
    "id": "64db0791"
   },
   "source": [
    "#### 6. Create a dictionary (called data) of having at least 5 items : Usernames as keys and Passwords as values. Write a program that takes a username and a password as input. If the credentials match any iteam in the given dictionary data then print acces granted otherwise print whether username, password or both are wrong."
   ]
  },
  {
   "cell_type": "code",
   "execution_count": 11,
   "id": "1ca5ccba",
   "metadata": {
    "id": "1ca5ccba"
   },
   "outputs": [
    {
     "name": "stdout",
     "output_type": "stream",
     "text": [
      "Enter your username: Darshan\n",
      "Enter your password: password5\n",
      "Access granted!\n"
     ]
    }
   ],
   "source": [
    "# Create the dictionary with usernames as keys and passwords as values\n",
    "data = {\n",
    "    'Bhairun': 'password1',\n",
    "    'Sunny': 'password2',\n",
    "    'Rsshid': 'password3',\n",
    "    'Pramita': 'password4',\n",
    "    'Darshan': 'password5'\n",
    "}\n",
    "\n",
    "# Take input for username and password\n",
    "username = input(\"Enter your username: \")\n",
    "password = input(\"Enter your password: \")\n",
    "\n",
    "# Check if the username and password match any item in the dictionary\n",
    "if username in data and data[username] == password:\n",
    "    print(\"Access granted!\")\n",
    "else:\n",
    "    if username not in data:\n",
    "        print(\"Username is wrong.\")\n",
    "    if username in data and data[username] != password:\n",
    "        print(\"Password is wrong.\")\n"
   ]
  },
  {
   "cell_type": "markdown",
   "id": "27c56bb8",
   "metadata": {
    "id": "27c56bb8"
   },
   "source": [
    "#### 7. Take a list as input in a single line containing 15 numbers as marks out of 100. The first five numbers in the list are marks of Tom, the middle 5 numbers are marks of Bob and the last 5 are the marks of Jon. Find out the top and lowest scorer."
   ]
  },
  {
   "cell_type": "code",
   "execution_count": 12,
   "id": "-FrUlDTsn867",
   "metadata": {
    "id": "-FrUlDTsn867"
   },
   "outputs": [
    {
     "name": "stdout",
     "output_type": "stream",
     "text": [
      "Enter 15 numbers as marks out of 100: 87 88 89 78 98 97 88 85 83 85 91 90 68 96 75\n",
      "Top Scorer is: Tom with total marks: 440\n",
      "Lowest Scorer is: Jon with total marks: 420\n"
     ]
    }
   ],
   "source": [
    "# Take input for 15 numbers as marks out of 100\n",
    "final_marks_list = list(map(int, input(\"Enter 15 numbers as marks out of 100: \").split()))\n",
    "\n",
    "# Separate the marks for Tom, Bob, and Jon\n",
    "tom_marks = final_marks_list[:5]\n",
    "bob_marks = final_marks_list[5:10]\n",
    "jon_marks = final_marks_list[10:]\n",
    "\n",
    "# Calculate the total marks for each person and store them in a new dictionary\n",
    "total_marks = {\n",
    "    'Tom': sum(tom_marks),\n",
    "    'Bob': sum(bob_marks),\n",
    "    'Jon': sum(jon_marks)\n",
    "}\n",
    "\n",
    "# Find the top scorer and lowest scorer using the 'max()' and 'min()' functions\n",
    "top_scorer = max(total_marks, key=total_marks.get)\n",
    "lowest_scorer = min(total_marks, key=total_marks.get)\n",
    "\n",
    "# Print the top scorer and lowest scorer\n",
    "print(\"Top Scorer is:\", top_scorer, \"with total marks:\", total_marks[top_scorer])\n",
    "print(\"Lowest Scorer is:\", lowest_scorer, \"with total marks:\", total_marks[lowest_scorer])\n"
   ]
  },
  {
   "cell_type": "markdown",
   "id": "20f59542",
   "metadata": {
    "id": "20f59542"
   },
   "source": [
    "#### 8. Take a number as input and print whether the number is a multiple of 3,5 or both."
   ]
  },
  {
   "cell_type": "code",
   "execution_count": 13,
   "id": "otWg3MXaYing",
   "metadata": {
    "id": "otWg3MXaYing"
   },
   "outputs": [
    {
     "name": "stdout",
     "output_type": "stream",
     "text": [
      "Enter a number: 15\n",
      "The number is a multiple of both 3 and 5.\n"
     ]
    }
   ],
   "source": [
    "# Take input for a number\n",
    "number = int(input(\"Enter a number: \"))\n",
    "\n",
    "# Check if the number is a multiple of 3, 5, or both and print the result\n",
    "if number % 3 == 0 and number % 5 == 0:\n",
    "    print(\"The number is a multiple of both 3 and 5.\")\n",
    "elif number % 3 == 0:\n",
    "    print(\"The number is a multiple of 3.\")\n",
    "elif number % 5 == 0:\n",
    "    print(\"The number is a multiple of 5.\")\n",
    "else:\n",
    "    print(\"The number is neither a multiple of 3 nor 5.\")\n"
   ]
  },
  {
   "cell_type": "markdown",
   "id": "b770e791",
   "metadata": {
    "id": "b770e791"
   },
   "source": [
    "#### 9. Write a program to take three strings as input and print the string having second largest number of words."
   ]
  },
  {
   "cell_type": "code",
   "execution_count": 16,
   "id": "0359e7ef",
   "metadata": {
    "id": "0359e7ef"
   },
   "outputs": [
    {
     "name": "stdout",
     "output_type": "stream",
     "text": [
      "Enter the first string: i love india\n",
      "Enter the second string: i love india a lot\n",
      "Enter the third string: i love india a lot\n",
      "String(s) with the second largest number of words:\n",
      "String 2: i love india a lot\n",
      "String 3: i love india a lot\n"
     ]
    }
   ],
   "source": [
    "# Take input for three strings\n",
    "string1 = input(\"Enter the first string: \")\n",
    "string2 = input(\"Enter the second string: \")\n",
    "string3 = input(\"Enter the third string: \")\n",
    "\n",
    "# Count the number of words in each string\n",
    "word_count1 = len(string1.split())\n",
    "word_count2 = len(string2.split())\n",
    "word_count3 = len(string3.split())\n",
    "\n",
    "# Find the second largest word count\n",
    "second_largest_count = None\n",
    "\n",
    "# Compare the word counts to find the second largest\n",
    "for count in [word_count1, word_count2, word_count3]:\n",
    "    if second_largest_count is None or count > second_largest_count:\n",
    "        second_largest_count = count\n",
    "\n",
    "# Print the string(s) with the second largest number of words\n",
    "print(\"String(s) with the second largest number of words:\")\n",
    "\n",
    "if word_count1 == second_largest_count:\n",
    "    print(\"String 1:\", string1)\n",
    "if word_count2 == second_largest_count:\n",
    "    print(\"String 2:\", string2)\n",
    "if word_count3 == second_largest_count:\n",
    "    print(\"String 3:\", string3)\n"
   ]
  },
  {
   "cell_type": "markdown",
   "id": "5a485c8c",
   "metadata": {
    "id": "5a485c8c"
   },
   "source": [
    "#### 10. Write a program to take four strings as input and print the string having third highest number of words."
   ]
  },
  {
   "cell_type": "code",
   "execution_count": 17,
   "id": "LZxu2EihcFFf",
   "metadata": {
    "id": "LZxu2EihcFFf"
   },
   "outputs": [
    {
     "name": "stdout",
     "output_type": "stream",
     "text": [
      "Enter the first string: I love india\n",
      "Enter the second string: ilove india\n",
      "Enter the third string: iloveindia\n",
      "Enter the fourth string: i love india\n",
      "The string with the third highest number of words is:\n",
      "String 1: I love india\n",
      "String 4: i love india\n"
     ]
    }
   ],
   "source": [
    "# Take input for four strings\n",
    "string1 = input(\"Enter the first string: \")\n",
    "string2 = input(\"Enter the second string: \")\n",
    "string3 = input(\"Enter the third string: \")\n",
    "string4 = input(\"Enter the fourth string: \")\n",
    "\n",
    "# Count the number of words in each string\n",
    "word_count1 = len(string1.split())\n",
    "word_count2 = len(string2.split())\n",
    "word_count3 = len(string3.split())\n",
    "word_count4 = len(string4.split())\n",
    "\n",
    "# Find the third highest word count\n",
    "third_highest_count = word_count1\n",
    "if word_count2 > third_highest_count:\n",
    "    third_highest_count = word_count2\n",
    "if word_count3 > third_highest_count:\n",
    "    third_highest_count = word_count3\n",
    "if word_count4 > third_highest_count:\n",
    "    third_highest_count = word_count4\n",
    "\n",
    "# Print the string with the third highest number of words\n",
    "print(\"The string with the third highest number of words is:\")\n",
    "\n",
    "if word_count1 == third_highest_count:\n",
    "    print(\"String 1:\", string1)\n",
    "if word_count2 == third_highest_count:\n",
    "    print(\"String 2:\", string2)\n",
    "if word_count3 == third_highest_count:\n",
    "    print(\"String 3:\", string3)\n",
    "if word_count4 == third_highest_count:\n",
    "    print(\"String 4:\", string4)\n"
   ]
  },
  {
   "cell_type": "code",
   "execution_count": null,
   "id": "c39748a7",
   "metadata": {},
   "outputs": [],
   "source": []
  }
 ],
 "metadata": {
  "colab": {
   "provenance": []
  },
  "kernelspec": {
   "display_name": "Python 3 (ipykernel)",
   "language": "python",
   "name": "python3"
  },
  "language_info": {
   "codemirror_mode": {
    "name": "ipython",
    "version": 3
   },
   "file_extension": ".py",
   "mimetype": "text/x-python",
   "name": "python",
   "nbconvert_exporter": "python",
   "pygments_lexer": "ipython3",
   "version": "3.10.9"
  }
 },
 "nbformat": 4,
 "nbformat_minor": 5
}
