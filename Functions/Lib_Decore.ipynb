{
 "cells": [
  {
   "cell_type": "code",
   "execution_count": 1,
   "id": "7408bcef",
   "metadata": {},
   "outputs": [
    {
     "name": "stdout",
     "output_type": "stream",
     "text": [
      "Median: 50.5\n"
     ]
    }
   ],
   "source": [
    "# Import the NumPy library\n",
    "import numpy as np\n",
    "\n",
    "# Define a function to calculate the median\n",
    "def calculate_median(numbers):\n",
    "    # Convert the list of numbers to a NumPy array\n",
    "    data_array = np.array(numbers)\n",
    "    \n",
    "    # Calculate the median using np.median\n",
    "    median = np.median(data_array)\n",
    "    \n",
    "    return median\n",
    "\n",
    "# Create a list of numbers\n",
    "data = [12, 45, 23, 67, 89, 34, 56, 78, 90, 21]\n",
    "\n",
    "# Call the calculate_median function and store the result\n",
    "result = calculate_median(data)\n",
    "\n",
    "# Print the calculated median\n",
    "print(\"Median:\", result)\n"
   ]
  },
  {
   "cell_type": "code",
   "execution_count": 4,
   "id": "75c3b1f7",
   "metadata": {},
   "outputs": [
    {
     "name": "stdout",
     "output_type": "stream",
     "text": [
      "Standard Deviation: 26.774801586566426\n"
     ]
    }
   ],
   "source": [
    "# Import the NumPy library\n",
    "import numpy as np\n",
    "\n",
    "# Define a function to calculate the standard deviation\n",
    "def calculate_standard_deviation(numbers):\n",
    "    \n",
    "    # Calculate the standard deviation using np.std\n",
    "    std_deviation = np.std(numbers)\n",
    "    \n",
    "    return std_deviation\n",
    "\n",
    "# Create a list of numbers\n",
    "data = [12, 45, 23, 67, 89, 34, 56, 78, 90, 27]\n",
    "\n",
    "# Call the calculate_standard_deviation function and store the result\n",
    "result = calculate_standard_deviation(data)\n",
    "\n",
    "# Print the calculated standard deviation\n",
    "print(\"Standard Deviation:\", result)\n"
   ]
  },
  {
   "cell_type": "code",
   "execution_count": 5,
   "id": "ab1a0aab",
   "metadata": {},
   "outputs": [
    {
     "name": "stdout",
     "output_type": "stream",
     "text": [
      "Enter a number: 6.9\n",
      "The number is positive.\n"
     ]
    }
   ],
   "source": [
    "# Import the NumPy library\n",
    "import numpy as np\n",
    "\n",
    "# Function to check if a number is positive\n",
    "def is_positive(number):\n",
    "    # Convert the number to a NumPy array\n",
    "        \n",
    "    # Check if any element in the array is greater than 0\n",
    "    positive_check = np.any(number > 0)\n",
    "    \n",
    "    return positive_check\n",
    "\n",
    "# Get user input for a number\n",
    "user_input = float(input(\"Enter a number: \"))\n",
    "\n",
    "# Call the is_positive function to check if the number is positive\n",
    "if is_positive(user_input):\n",
    "    print(\"The number is positive.\")\n",
    "else:\n",
    "    print(\"The number is not positive.\")\n"
   ]
  },
  {
   "cell_type": "code",
   "execution_count": 8,
   "id": "5fdf910d",
   "metadata": {},
   "outputs": [
    {
     "name": "stdout",
     "output_type": "stream",
     "text": [
      "Enter a number: 0\n",
      "The number is neither positive nor negative, It's 0.\n"
     ]
    }
   ],
   "source": [
    "# Function to check if a number is positive or negative\n",
    "def check_positive_or_negative(number):\n",
    "    if number > 0:\n",
    "        return \"positive\"\n",
    "    elif number < 0:\n",
    "        return \"negative\"\n",
    "    else:\n",
    "        return \"neither positive nor negative, It's 0\"\n",
    "\n",
    "# Get user input for a number\n",
    "user_input = float(input(\"Enter a number: \"))\n",
    "\n",
    "# Call the check_positive_or_negative function to determine the nature of the number\n",
    "result = check_positive_or_negative(user_input)\n",
    "\n",
    "# Print the result\n",
    "print(f\"The number is {result}.\")\n"
   ]
  },
  {
   "cell_type": "code",
   "execution_count": 11,
   "id": "3d968f75",
   "metadata": {},
   "outputs": [
    {
     "name": "stdout",
     "output_type": "stream",
     "text": [
      "14\n",
      "16\n"
     ]
    }
   ],
   "source": [
    "def add(x):         # Defining a function named 'add' that takes a parameter 'x'\n",
    "    return x + 1    # Returning the result of adding 1 to the parameter 'x'\n",
    "\n",
    "def sub(x):         # Defining a function named 'sub' that takes a parameter 'x'\n",
    "    return x - 1    # Returning the result of subtracting 1 from the parameter 'x'\n",
    "\n",
    "def decor(func, x):    # Defining a function named 'operator' that takes two parameters: 'func' and 'x'\n",
    "    temp = func(x)        # Calling the function 'func' with the parameter 'x' and storing the result in 'temp'\n",
    "    return temp           # Returning the value stored in 'temp'\n",
    "\n",
    "print(decor(sub, 15))   # Calling the 'operator' function with 'sub' function and argument 10, and printing the result\n",
    "print(decor(add, 15))   # Calling the 'operator' function with 'add' function and argument 20, and printing the result\n"
   ]
  },
  {
   "cell_type": "code",
   "execution_count": 12,
   "id": "439e598f",
   "metadata": {},
   "outputs": [
    {
     "name": "stdout",
     "output_type": "stream",
     "text": [
      "Result: 15\n"
     ]
    }
   ],
   "source": [
    "# Decorator function to add a third number to the result of the original function\n",
    "def add_third_number(func):\n",
    "    def wrapper(x, y):\n",
    "        result = func(x, y)\n",
    "        return result + 3\n",
    "    return wrapper\n",
    "\n",
    "# Define the original function to add two numbers\n",
    "def add_numbers(x, y):\n",
    "    return x + y\n",
    "\n",
    "# Apply the decorator to the original function\n",
    "add_numbers_with_third = add_third_number(add_numbers)\n",
    "\n",
    "# Test the decorated function\n",
    "result = add_numbers_with_third(5, 7)\n",
    "print(\"Result:\", result)\n"
   ]
  },
  {
   "cell_type": "code",
   "execution_count": 15,
   "id": "98a0ce62",
   "metadata": {},
   "outputs": [
    {
     "name": "stdout",
     "output_type": "stream",
     "text": [
      "Enter the first number: 5\n",
      "Enter the second number: 5\n",
      "Enter the third number to add: 5\n",
      "Result: 15.0\n"
     ]
    }
   ],
   "source": [
    "# Decorator function to add a third number to the result of the original function\n",
    "def add_third_number(func):\n",
    "    def wrapper(x, y):\n",
    "        result = func(x, y)\n",
    "        return result\n",
    "    return wrapper\n",
    "\n",
    "# Apply the decorator to the original function\n",
    "##add_third_number\n",
    "def add_numbers(x, y):\n",
    "    return x + y\n",
    "\n",
    "# Get user input for two numbers\n",
    "num1 = float(input(\"Enter the first number: \"))\n",
    "num2 = float(input(\"Enter the second number: \"))\n",
    "\n",
    "# Call the decorated function with user-input numbers\n",
    "result = add_numbers(num1, num2)\n",
    "\n",
    "# Get user input for a third number\n",
    "num3 = float(input(\"Enter the third number to add: \"))\n",
    "\n",
    "# Calculate and print the final result\n",
    "final_result = result + num3\n",
    "print(\"Result:\", final_result)\n"
   ]
  },
  {
   "cell_type": "code",
   "execution_count": null,
   "id": "d9291544",
   "metadata": {},
   "outputs": [],
   "source": []
  }
 ],
 "metadata": {
  "kernelspec": {
   "display_name": "Python 3 (ipykernel)",
   "language": "python",
   "name": "python3"
  },
  "language_info": {
   "codemirror_mode": {
    "name": "ipython",
    "version": 3
   },
   "file_extension": ".py",
   "mimetype": "text/x-python",
   "name": "python",
   "nbconvert_exporter": "python",
   "pygments_lexer": "ipython3",
   "version": "3.10.9"
  }
 },
 "nbformat": 4,
 "nbformat_minor": 5
}
