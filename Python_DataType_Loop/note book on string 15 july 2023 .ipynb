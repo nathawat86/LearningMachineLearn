{
 "cells": [
  {
   "cell_type": "markdown",
   "id": "fa0437a9",
   "metadata": {},
   "source": [
    "# string concatenation "
   ]
  },
  {
   "cell_type": "code",
   "execution_count": 1,
   "id": "2ea9eb7e",
   "metadata": {},
   "outputs": [
    {
     "name": "stdout",
     "output_type": "stream",
     "text": [
      "hi Indiahello Japan\n"
     ]
    }
   ],
   "source": [
    "a=\"hi India\"\n",
    "b=\"hello Japan\"\n",
    "c=a+b\n",
    "print(c)"
   ]
  },
  {
   "cell_type": "code",
   "execution_count": 18,
   "id": "769e1210",
   "metadata": {},
   "outputs": [
    {
     "name": "stdout",
     "output_type": "stream",
     "text": [
      "I am fine\n",
      "9\n",
      "f\n",
      "i\n",
      "n\n",
      "e\n",
      "gine\n"
     ]
    }
   ],
   "source": [
    "#write the code \n",
    "a=\"fine\"\n",
    "b=\"I am \"\n",
    "c= b+a\n",
    "print (c)\n",
    "print(len(c))\n",
    "print (a[0])\n",
    "print (a[1])\n",
    "print (a[2])\n",
    "print (a[3])\n",
    "print(\"g\"+a[1:])\n"
   ]
  },
  {
   "cell_type": "code",
   "execution_count": 2,
   "id": "d96c6a65",
   "metadata": {},
   "outputs": [
    {
     "name": "stdout",
     "output_type": "stream",
     "text": [
      "hi India hello Japan\n"
     ]
    }
   ],
   "source": [
    "a=\"hi India\"\n",
    "b=\"hello Japan\"\n",
    "c=a+ \" \" +b\n",
    "print(c)"
   ]
  },
  {
   "cell_type": "code",
   "execution_count": null,
   "id": "c46691b5",
   "metadata": {},
   "outputs": [],
   "source": [
    "#write the code \n",
    "\n"
   ]
  },
  {
   "cell_type": "code",
   "execution_count": 4,
   "id": "ee6039d3",
   "metadata": {},
   "outputs": [
    {
     "name": "stdout",
     "output_type": "stream",
     "text": [
      "5\n"
     ]
    }
   ],
   "source": [
    "a = \"hello\"\n",
    "print(len(a))  # Output: 5\n"
   ]
  },
  {
   "cell_type": "code",
   "execution_count": 5,
   "id": "af56546c",
   "metadata": {},
   "outputs": [
    {
     "name": "stdout",
     "output_type": "stream",
     "text": [
      "5\n"
     ]
    }
   ],
   "source": [
    "a=\"hello\"\n",
    "print(len(a))"
   ]
  },
  {
   "cell_type": "code",
   "execution_count": 6,
   "id": "ab524d57",
   "metadata": {},
   "outputs": [
    {
     "name": "stdout",
     "output_type": "stream",
     "text": [
      "e\n"
     ]
    }
   ],
   "source": [
    "print(a[1])"
   ]
  },
  {
   "cell_type": "code",
   "execution_count": 8,
   "id": "bde94a14",
   "metadata": {},
   "outputs": [
    {
     "name": "stdout",
     "output_type": "stream",
     "text": [
      "neno technology\n"
     ]
    }
   ],
   "source": [
    "print(\"neno technology\")"
   ]
  },
  {
   "cell_type": "code",
   "execution_count": 12,
   "id": "a794fbec",
   "metadata": {},
   "outputs": [
    {
     "name": "stdout",
     "output_type": "stream",
     "text": [
      "neno \n"
     ]
    }
   ],
   "source": [
    "a=\"neno technology\"\n",
    "print(a[0:5])"
   ]
  },
  {
   "cell_type": "code",
   "execution_count": 13,
   "id": "ff33973c",
   "metadata": {},
   "outputs": [
    {
     "name": "stdout",
     "output_type": "stream",
     "text": [
      "neno technology \n"
     ]
    }
   ],
   "source": [
    "print(a[0:])"
   ]
  },
  {
   "cell_type": "code",
   "execution_count": 3,
   "id": "430d2819",
   "metadata": {},
   "outputs": [
    {
     "name": "stdout",
     "output_type": "stream",
     "text": [
      "ataD\n"
     ]
    }
   ],
   "source": [
    "a='Data'\n",
    "print(a[::-1])"
   ]
  },
  {
   "cell_type": "code",
   "execution_count": null,
   "id": "c8e94202",
   "metadata": {},
   "outputs": [],
   "source": [
    "a=\"anaconda nevigator \""
   ]
  },
  {
   "cell_type": "code",
   "execution_count": 6,
   "id": "d4ce942e",
   "metadata": {},
   "outputs": [
    {
     "name": "stdout",
     "output_type": "stream",
     "text": [
      "Data\n"
     ]
    }
   ],
   "source": [
    "print(a[: 5 -1])"
   ]
  },
  {
   "cell_type": "code",
   "execution_count": null,
   "id": "0a8c662c",
   "metadata": {},
   "outputs": [],
   "source": [
    "g=\"anaconda nevigator\""
   ]
  },
  {
   "cell_type": "code",
   "execution_count": 8,
   "id": "afdef524",
   "metadata": {},
   "outputs": [
    {
     "ename": "NameError",
     "evalue": "name 'g' is not defined",
     "output_type": "error",
     "traceback": [
      "\u001b[1;31m---------------------------------------------------------------------------\u001b[0m",
      "\u001b[1;31mNameError\u001b[0m                                 Traceback (most recent call last)",
      "Cell \u001b[1;32mIn[8], line 1\u001b[0m\n\u001b[1;32m----> 1\u001b[0m \u001b[38;5;28mprint\u001b[39m(\u001b[43mg\u001b[49m[\u001b[38;5;241m2\u001b[39m:\u001b[38;5;241m6\u001b[39m])\n",
      "\u001b[1;31mNameError\u001b[0m: name 'g' is not defined"
     ]
    }
   ],
   "source": [
    "\n",
    "print(g[2:6])"
   ]
  },
  {
   "cell_type": "code",
   "execution_count": null,
   "id": "7f024d60",
   "metadata": {},
   "outputs": [],
   "source": [
    "string=\"anaconda\""
   ]
  },
  {
   "cell_type": "code",
   "execution_count": 10,
   "id": "76f40644",
   "metadata": {},
   "outputs": [
    {
     "name": "stdout",
     "output_type": "stream",
     "text": [
      "con\n"
     ]
    }
   ],
   "source": [
    "string=\"anaconda\"\n",
    "print(string[3:6])"
   ]
  },
  {
   "cell_type": "markdown",
   "id": "9eae65c0",
   "metadata": {},
   "source": [
    "# String is Immutable :## once the string is created its content can not be changed "
   ]
  },
  {
   "cell_type": "code",
   "execution_count": 2,
   "id": "0b3fdcf8",
   "metadata": {
    "scrolled": true
   },
   "outputs": [
    {
     "ename": "NameError",
     "evalue": "name 'srting' is not defined",
     "output_type": "error",
     "traceback": [
      "\u001b[1;31m---------------------------------------------------------------------------\u001b[0m",
      "\u001b[1;31mNameError\u001b[0m                                 Traceback (most recent call last)",
      "Cell \u001b[1;32mIn[2], line 4\u001b[0m\n\u001b[0;32m      1\u001b[0m string\u001b[38;5;241m=\u001b[39m\u001b[38;5;124m\"\u001b[39m\u001b[38;5;124mhello\u001b[39m\u001b[38;5;124m\"\u001b[39m\n\u001b[0;32m      2\u001b[0m \u001b[38;5;66;03m# trying an attempt to change H in hello to M , Mello \u001b[39;00m\n\u001b[0;32m      3\u001b[0m \u001b[38;5;66;03m#giving value of zero index \u001b[39;00m\n\u001b[1;32m----> 4\u001b[0m \u001b[43msrting\u001b[49m[\u001b[38;5;241m0\u001b[39m]\u001b[38;5;241m=\u001b[39m\u001b[38;5;124m\"\u001b[39m\u001b[38;5;124mM\u001b[39m\u001b[38;5;124m\"\u001b[39m\n\u001b[0;32m      5\u001b[0m \u001b[38;5;28mprint\u001b[39m(string)\n",
      "\u001b[1;31mNameError\u001b[0m: name 'srting' is not defined"
     ]
    }
   ],
   "source": [
    "string=\"hello\"\n",
    "# trying an attempt to change H in hello to M , Mello \n",
    "#giving value of zero index \n",
    "srting[0]=\"M\"\n",
    "print(string)"
   ]
  },
  {
   "cell_type": "code",
   "execution_count": null,
   "id": "6e72293b",
   "metadata": {},
   "outputs": [],
   "source": [
    "#To change a string, you would need to create a new string,\n",
    "#either by concatenation, slicing, or using string methods."
   ]
  },
  {
   "cell_type": "code",
   "execution_count": 2,
   "id": "86ddc66a",
   "metadata": {
    "scrolled": true
   },
   "outputs": [
    {
     "name": "stdout",
     "output_type": "stream",
     "text": [
      "mello\n"
     ]
    }
   ],
   "source": [
    "# string concination \n",
    "\n",
    "a=\"hello\"\n",
    "b=\"m\"+a[1:]\n",
    "print(b)"
   ]
  },
  {
   "cell_type": "code",
   "execution_count": null,
   "id": "69f836d5",
   "metadata": {},
   "outputs": [],
   "source": []
  },
  {
   "cell_type": "code",
   "execution_count": null,
   "id": "aa028ff6",
   "metadata": {},
   "outputs": [],
   "source": [
    "a=\"neno technology \"\n",
    "print((a[3]),end=\" \")\n",
    "\n",
    "\n"
   ]
  },
  {
   "cell_type": "markdown",
   "id": "c00b45dc",
   "metadata": {},
   "source": [
    " # ...end =\" \"   .....end\"\\n\""
   ]
  },
  {
   "cell_type": "code",
   "execution_count": 22,
   "id": "fbe0c0fa",
   "metadata": {},
   "outputs": [],
   "source": [
    "\n",
    "\n",
    "print=(\"the class is going on \")#end\"\\n\" \n",
    "#back slash end is automatic built \n",
    "\n",
    "print=(\"class will be conducted on sunday also\" )\n",
    "\n",
    "\n"
   ]
  },
  {
   "cell_type": "code",
   "execution_count": 8,
   "id": "6bfabbbf",
   "metadata": {},
   "outputs": [],
   "source": [
    "\n",
    "\n",
    "print=(\"the class is going on \")\n"
   ]
  },
  {
   "cell_type": "code",
   "execution_count": null,
   "id": "dbabede1",
   "metadata": {},
   "outputs": [],
   "source": [
    " seprate from sep=\"\""
   ]
  },
  {
   "cell_type": "markdown",
   "id": "3419d5c4",
   "metadata": {},
   "source": [
    "# sep"
   ]
  },
  {
   "cell_type": "code",
   "execution_count": 1,
   "id": "9c39115c",
   "metadata": {},
   "outputs": [
    {
     "name": "stdout",
     "output_type": "stream",
     "text": [
      "second--revolution--second revolution \n"
     ]
    }
   ],
   "source": [
    "print(\"second\" ,\"revolution\" ,\"second revolution \", sep=\"--\")"
   ]
  },
  {
   "cell_type": "markdown",
   "id": "8e3bae28",
   "metadata": {},
   "source": [
    "# IN AND NOT IN \n",
    "\n",
    "S=\"Another day with string\"\n",
    "print(\"day in s)\n"
   ]
  },
  {
   "cell_type": "code",
   "execution_count": null,
   "id": "8bcf836f",
   "metadata": {},
   "outputs": [],
   "source": []
  },
  {
   "cell_type": "code",
   "execution_count": 23,
   "id": "8ba7f8cd",
   "metadata": {},
   "outputs": [
    {
     "ename": "TypeError",
     "evalue": "'str' object is not callable",
     "output_type": "error",
     "traceback": [
      "\u001b[1;31m---------------------------------------------------------------------------\u001b[0m",
      "\u001b[1;31mTypeError\u001b[0m                                 Traceback (most recent call last)",
      "Cell \u001b[1;32mIn[23], line 2\u001b[0m\n\u001b[0;32m      1\u001b[0m s\u001b[39m=\u001b[39m(\u001b[39m\"\u001b[39m\u001b[39manother day with string \u001b[39m\u001b[39m\"\u001b[39m)\n\u001b[1;32m----> 2\u001b[0m \u001b[39mprint\u001b[39;49m(\u001b[39m\"\u001b[39;49m\u001b[39mday\u001b[39;49m\u001b[39m\"\u001b[39;49m \u001b[39min\u001b[39;49;00m s )\n",
      "\u001b[1;31mTypeError\u001b[0m: 'str' object is not callable"
     ]
    }
   ],
   "source": [
    "s=(\"another day with string \")\n",
    "print(\"day\" in s )"
   ]
  },
  {
   "cell_type": "markdown",
   "id": "8eab1d3b",
   "metadata": {},
   "source": [
    "# In and Not IN "
   ]
  },
  {
   "cell_type": "code",
   "execution_count": 9,
   "id": "8d995c04",
   "metadata": {},
   "outputs": [
    {
     "name": "stdout",
     "output_type": "stream",
     "text": [
      "True\n"
     ]
    }
   ],
   "source": [
    "s=(\"another day with string \")\n",
    "print(\"day\"in s)\n"
   ]
  },
  {
   "cell_type": "code",
   "execution_count": 10,
   "id": "483339aa",
   "metadata": {},
   "outputs": [
    {
     "name": "stdout",
     "output_type": "stream",
     "text": [
      "False\n"
     ]
    }
   ],
   "source": [
    "s=(\"another day with string \")\n",
    "print(\"dayas\"in s)"
   ]
  },
  {
   "cell_type": "code",
   "execution_count": 86,
   "id": "7694809d",
   "metadata": {},
   "outputs": [
    {
     "ename": "TypeError",
     "evalue": "'bool' object is not callable",
     "output_type": "error",
     "traceback": [
      "\u001b[1;31m---------------------------------------------------------------------------\u001b[0m",
      "\u001b[1;31mTypeError\u001b[0m                                 Traceback (most recent call last)",
      "Cell \u001b[1;32mIn[86], line 2\u001b[0m\n\u001b[0;32m      1\u001b[0m s\u001b[38;5;241m=\u001b[39m(\u001b[38;5;124m\"\u001b[39m\u001b[38;5;124manother day with string \u001b[39m\u001b[38;5;124m\"\u001b[39m)\n\u001b[1;32m----> 2\u001b[0m \u001b[38;5;28;43mprint\u001b[39;49m\u001b[43m(\u001b[49m\u001b[38;5;124;43m\"\u001b[39;49m\u001b[38;5;124;43mdayasd\u001b[39;49m\u001b[38;5;124;43m\"\u001b[39;49m\u001b[43m \u001b[49m\u001b[38;5;129;43;01mnot\u001b[39;49;00m\u001b[43m \u001b[49m\u001b[38;5;129;43;01min\u001b[39;49;00m\u001b[43m  \u001b[49m\u001b[43ms\u001b[49m\u001b[43m)\u001b[49m\n",
      "\u001b[1;31mTypeError\u001b[0m: 'bool' object is not callable"
     ]
    }
   ],
   "source": [
    "s=(\"another day with string \")\n",
    "print(\"dayasd\" not in  s)"
   ]
  },
  {
   "cell_type": "markdown",
   "id": "54c9ecd6",
   "metadata": {},
   "source": [
    "# string slicing "
   ]
  },
  {
   "cell_type": "code",
   "execution_count": 12,
   "id": "34a4dfd4",
   "metadata": {},
   "outputs": [
    {
     "name": "stdout",
     "output_type": "stream",
     "text": [
      "ional board of education common for al\n"
     ]
    }
   ],
   "source": [
    "a=\"national board of education common for all \"\n",
    "print(a[3:-2])"
   ]
  },
  {
   "cell_type": "code",
   "execution_count": 13,
   "id": "f7ea011d",
   "metadata": {},
   "outputs": [
    {
     "name": "stdout",
     "output_type": "stream",
     "text": [
      " lla rof nommoc noitacude fo draob lanoitan\n"
     ]
    }
   ],
   "source": [
    "a=\"national board of education common for all \"\n",
    "print (a[::-1])#reverce the string "
   ]
  },
  {
   "cell_type": "code",
   "execution_count": 17,
   "id": "8c7243ae",
   "metadata": {},
   "outputs": [
    {
     "name": "stdout",
     "output_type": "stream",
     "text": [
      "nia\n"
     ]
    }
   ],
   "source": [
    "a=\"national board of education common for all \"\n",
    "print(a[:8:3])"
   ]
  },
  {
   "cell_type": "code",
   "execution_count": 22,
   "id": "d93992fa",
   "metadata": {},
   "outputs": [
    {
     "name": "stdout",
     "output_type": "stream",
     "text": [
      " lla rof nommoc noitacu\n"
     ]
    }
   ],
   "source": [
    "a=\"national board of education common for all \"\n",
    "print(a[:19:-1])"
   ]
  },
  {
   "cell_type": "markdown",
   "id": "cb1c0c00",
   "metadata": {},
   "source": [
    "# Indexing "
   ]
  },
  {
   "cell_type": "code",
   "execution_count": 1,
   "id": "8bc0ffba",
   "metadata": {},
   "outputs": [
    {
     "name": "stdout",
     "output_type": "stream",
     "text": [
      "H\n",
      "W\n",
      "!\n"
     ]
    }
   ],
   "source": [
    "string = \"Hello, World!\"\n",
    "\n",
    "print(string[0])   \n",
    "print(string[7])  \n",
    "print(string[-1])  \n"
   ]
  },
  {
   "cell_type": "markdown",
   "id": "69798c3c",
   "metadata": {},
   "source": [
    "# formated string Letter and No combined "
   ]
  },
  {
   "cell_type": "code",
   "execution_count": 10,
   "id": "13b85e23",
   "metadata": {},
   "outputs": [
    {
     "name": "stdout",
     "output_type": "stream",
     "text": [
      "Anuradha is 12years old and she can not vote \n"
     ]
    }
   ],
   "source": [
    "a=\"Anuradha\"\n",
    "age =12 \n",
    "\n",
    "m=f\"{a} is {age}years old and she can not vote \"\n",
    "print(m)"
   ]
  },
  {
   "cell_type": "code",
   "execution_count": 17,
   "id": "dd944274",
   "metadata": {},
   "outputs": [
    {
     "name": "stdout",
     "output_type": "stream",
     "text": [
      "India became republic in 1950\n"
     ]
    }
   ],
   "source": [
    "a=\"India\" \n",
    "year=1950\n",
    "\n",
    "print(f\"{a} became republic in {year}\")"
   ]
  },
  {
   "cell_type": "markdown",
   "id": "bc56c76d",
   "metadata": {},
   "source": [
    "# length of the string \n"
   ]
  },
  {
   "cell_type": "code",
   "execution_count": 19,
   "id": "085d782b",
   "metadata": {},
   "outputs": [
    {
     "name": "stdout",
     "output_type": "stream",
     "text": [
      "56\n"
     ]
    }
   ],
   "source": [
    "s=\"ai will not be able to replace the line category of the \"\n",
    "print(len(s))"
   ]
  },
  {
   "cell_type": "code",
   "execution_count": 20,
   "id": "457bad32",
   "metadata": {},
   "outputs": [
    {
     "name": "stdout",
     "output_type": "stream",
     "text": [
      "16\n"
     ]
    }
   ],
   "source": [
    "s=\"machine learning \"\n",
    "print(len(s))"
   ]
  },
  {
   "cell_type": "code",
   "execution_count": 21,
   "id": "d56668f8",
   "metadata": {},
   "outputs": [
    {
     "name": "stdout",
     "output_type": "stream",
     "text": [
      "4\n"
     ]
    }
   ],
   "source": [
    "g=\"good\"\n",
    "print(len(g))\n"
   ]
  },
  {
   "cell_type": "markdown",
   "id": "44236351",
   "metadata": {},
   "source": [
    "# String Methods "
   ]
  },
  {
   "cell_type": "code",
   "execution_count": null,
   "id": "f6f26fbf",
   "metadata": {},
   "outputs": [],
   "source": [
    "syntex of calling method:name of the mentho()"
   ]
  },
  {
   "cell_type": "code",
   "execution_count": null,
   "id": "2410102f",
   "metadata": {},
   "outputs": [],
   "source": [
    "#capitalize:only first character capatilize "
   ]
  },
  {
   "cell_type": "code",
   "execution_count": 24,
   "id": "1d22ddc2",
   "metadata": {},
   "outputs": [
    {
     "name": "stdout",
     "output_type": "stream",
     "text": [
      "Neno technology\n"
     ]
    }
   ],
   "source": [
    "s=\"neno technology\"\n",
    "print(s.capitalize())"
   ]
  },
  {
   "cell_type": "code",
   "execution_count": null,
   "id": "5853b0b5",
   "metadata": {},
   "outputs": [],
   "source": [
    "#upper :all characters in upper cae "
   ]
  },
  {
   "cell_type": "code",
   "execution_count": 27,
   "id": "54611736",
   "metadata": {},
   "outputs": [
    {
     "name": "stdout",
     "output_type": "stream",
     "text": [
      "BANGLORE \n"
     ]
    }
   ],
   "source": [
    "s=\"Banglore \"\n",
    "print(s.upper())"
   ]
  },
  {
   "cell_type": "code",
   "execution_count": null,
   "id": "1d78fbde",
   "metadata": {},
   "outputs": [],
   "source": [
    "#lower case "
   ]
  },
  {
   "cell_type": "code",
   "execution_count": 28,
   "id": "fb75c604",
   "metadata": {},
   "outputs": [
    {
     "name": "stdout",
     "output_type": "stream",
     "text": [
      "maharashta\n"
     ]
    }
   ],
   "source": [
    "s=\"mahaRASHTA\"\n",
    "print(s.lower())"
   ]
  },
  {
   "cell_type": "code",
   "execution_count": null,
   "id": "1e9322dd",
   "metadata": {},
   "outputs": [],
   "source": [
    "# title :first letter of each word capital "
   ]
  },
  {
   "cell_type": "code",
   "execution_count": 29,
   "id": "9b2cd7b8",
   "metadata": {},
   "outputs": [
    {
     "name": "stdout",
     "output_type": "stream",
     "text": [
      "Jambu And Kashmir\n"
     ]
    }
   ],
   "source": [
    "s=\"JAMBU AND KASHmir\"\n",
    "print(s.title())"
   ]
  },
  {
   "cell_type": "code",
   "execution_count": null,
   "id": "f0caaae8",
   "metadata": {},
   "outputs": [],
   "source": [
    "#swapcase:lower case ->upper case and lower  case .>upper case "
   ]
  },
  {
   "cell_type": "code",
   "execution_count": 3,
   "id": "d9ea8237",
   "metadata": {},
   "outputs": [
    {
     "name": "stdout",
     "output_type": "stream",
     "text": [
      "chANGE is ONLy conSTENT\n"
     ]
    }
   ],
   "source": [
    "s=\"CHange IS onlY CONstent\"\n",
    "print(s.swapcase())"
   ]
  },
  {
   "cell_type": "code",
   "execution_count": null,
   "id": "691d0106",
   "metadata": {},
   "outputs": [],
   "source": [
    "#strip :to remove extra space from both the side "
   ]
  },
  {
   "cell_type": "code",
   "execution_count": 6,
   "id": "b855cdbd",
   "metadata": {},
   "outputs": [
    {
     "name": "stdout",
     "output_type": "stream",
     "text": [
      "All is well\n"
     ]
    }
   ],
   "source": [
    "s=\"        All is well             \"\n",
    "print(s.strip())"
   ]
  },
  {
   "cell_type": "code",
   "execution_count": 10,
   "id": "b4008d16",
   "metadata": {},
   "outputs": [
    {
     "name": "stdout",
     "output_type": "stream",
     "text": [
      "all is well   \n"
     ]
    }
   ],
   "source": [
    "s=\"   all is well   \" #leading whitespace removed \n",
    "print(s.lstrip())"
   ]
  },
  {
   "cell_type": "code",
   "execution_count": 11,
   "id": "a5f991f7",
   "metadata": {},
   "outputs": [
    {
     "name": "stdout",
     "output_type": "stream",
     "text": [
      "   all is well\n"
     ]
    }
   ],
   "source": [
    "s=\"   all is well   \" #trailing whitespace removed \n",
    "print(s.rstrip())"
   ]
  },
  {
   "cell_type": "code",
   "execution_count": null,
   "id": "d1f046a6",
   "metadata": {},
   "outputs": [],
   "source": [
    "#split :one string is gettring converted into many strings\n",
    "and returning list of string data type "
   ]
  },
  {
   "cell_type": "code",
   "execution_count": 12,
   "id": "b53bd775",
   "metadata": {},
   "outputs": [
    {
     "name": "stdout",
     "output_type": "stream",
     "text": [
      "['India', 'hold', 'maximum', 'percentage', 'of', 'the', 'youth', 'human', 'resource']\n"
     ]
    }
   ],
   "source": [
    "s=\"India hold maximum percentage of the youth human resource \"\n",
    "print(s.split())"
   ]
  },
  {
   "cell_type": "code",
   "execution_count": 19,
   "id": "3279a8fc",
   "metadata": {},
   "outputs": [
    {
     "name": "stdout",
     "output_type": "stream",
     "text": [
      "year: 2023\n",
      "month: 3\n",
      "day: 07\n"
     ]
    }
   ],
   "source": [
    "a=\"07-3-2023\"\n",
    "b=a.split(\"-\")\n",
    "year=b[2]\n",
    "month=b[1]\n",
    "day=b[0]\n",
    "print(\"year:\",year)\n",
    "print(\"month:\",month )\n",
    "print(\"day:\",day)\n"
   ]
  },
  {
   "cell_type": "code",
   "execution_count": null,
   "id": "04828b49",
   "metadata": {},
   "outputs": [],
   "source": [
    "#Join method syntex :\"  \".join()"
   ]
  },
  {
   "cell_type": "code",
   "execution_count": 21,
   "id": "11511732",
   "metadata": {},
   "outputs": [
    {
     "name": "stdout",
     "output_type": "stream",
     "text": [
      "hello world \n"
     ]
    }
   ],
   "source": [
    "s=[\"hello\", \"world \"]\n",
    "b=\" \".join(s)\n",
    "print(b)"
   ]
  },
  {
   "cell_type": "code",
   "execution_count": 23,
   "id": "84617c98",
   "metadata": {},
   "outputs": [
    {
     "name": "stdout",
     "output_type": "stream",
     "text": [
      "India  hold  maximum  percentage  of  the  youth  human  resource\n"
     ]
    }
   ],
   "source": [
    "s=['India', 'hold', 'maximum', 'percentage', 'of', 'the', 'youth', 'human', 'resource']\n",
    "b=\"  \".join(s)\n",
    "print(b)"
   ]
  },
  {
   "cell_type": "code",
   "execution_count": 24,
   "id": "8825ac68",
   "metadata": {},
   "outputs": [
    {
     "name": "stdout",
     "output_type": "stream",
     "text": [
      "1  2  3  4  5\n"
     ]
    }
   ],
   "source": [
    "number=[\"1\",\"2\",\"3\",\"4\",\"5\",]\n",
    "b=\"  \".join(number)\n",
    "print(b)"
   ]
  },
  {
   "cell_type": "code",
   "execution_count": 28,
   "id": "5adfd20d",
   "metadata": {},
   "outputs": [
    {
     "name": "stdout",
     "output_type": "stream",
     "text": [
      "1 - 2 - 3 - 4 - 5\n"
     ]
    }
   ],
   "source": [
    "number=[\"1\",\"2\",\"3\",\"4\",\"5\",]\n",
    "b=\" - \".join(number)\n",
    "print(b)"
   ]
  },
  {
   "cell_type": "code",
   "execution_count": 25,
   "id": "db5acfb6",
   "metadata": {},
   "outputs": [
    {
     "name": "stdout",
     "output_type": "stream",
     "text": [
      "1*2*3*4*5\n"
     ]
    }
   ],
   "source": [
    "number=[\"1\",\"2\",\"3\",\"4\",\"5\",]\n",
    "b=\"*\".join(number)\n",
    "print(b)"
   ]
  },
  {
   "cell_type": "code",
   "execution_count": 26,
   "id": "f3a91fc7",
   "metadata": {},
   "outputs": [
    {
     "name": "stdout",
     "output_type": "stream",
     "text": [
      "1  :) 2  :) 3  :) 4  :) 5\n"
     ]
    }
   ],
   "source": [
    "number=[\"1\",\"2\",\"3\",\"4\",\"5\",]\n",
    "b=\"  :) \".join(number)\n",
    "print(b)"
   ]
  },
  {
   "cell_type": "code",
   "execution_count": 27,
   "id": "59c0ce1b",
   "metadata": {},
   "outputs": [
    {
     "name": "stdout",
     "output_type": "stream",
     "text": [
      "India *  hold *  maximum *  percentage *  of *  the *  youth *  human *  resource\n"
     ]
    }
   ],
   "source": [
    "s=['India', 'hold', 'maximum', 'percentage', 'of', 'the', 'youth', 'human', 'resource']\n",
    "b=\" *  \".join(s)\n",
    "print(b)"
   ]
  },
  {
   "cell_type": "code",
   "execution_count": null,
   "id": "950967a4",
   "metadata": {},
   "outputs": [],
   "source": [
    "#Replace "
   ]
  },
  {
   "cell_type": "code",
   "execution_count": 32,
   "id": "4240be17",
   "metadata": {},
   "outputs": [
    {
     "name": "stdout",
     "output_type": "stream",
     "text": [
      " winter seaseon produces greenery everywhere \n"
     ]
    }
   ],
   "source": [
    "s=\"Rainy seaseon produces greenery everywhere \"\n",
    "b=s.replace (\"Rainy\",\" winter\") # replace rainy by winter  \n",
    "print(b)"
   ]
  },
  {
   "cell_type": "code",
   "execution_count": 31,
   "id": "22d4c2d5",
   "metadata": {
    "scrolled": true
   },
   "outputs": [
    {
     "name": "stdout",
     "output_type": "stream",
     "text": [
      " winter seaseon produces cold everywhere \n"
     ]
    }
   ],
   "source": [
    "s=\"Rainy seaseon produces greenery everywhere \"\n",
    "b=s.replace (\"Rainy\",\" winter\") .replace(\"greenery\",\"cold\")# replace rainy by winter  \n",
    "print(b)"
   ]
  },
  {
   "cell_type": "code",
   "execution_count": null,
   "id": "787b9013",
   "metadata": {},
   "outputs": [],
   "source": [
    "#count "
   ]
  },
  {
   "cell_type": "code",
   "execution_count": 45,
   "id": "8b74d245",
   "metadata": {},
   "outputs": [
    {
     "name": "stdout",
     "output_type": "stream",
     "text": [
      "5\n",
      "2\n"
     ]
    }
   ],
   "source": [
    "s=\"make a paper boat and enjoy childhood \"\n",
    "b=s.count(\"a\")\n",
    "d=s.count(\"p\")\n",
    "print(b)\n",
    "print(d)"
   ]
  },
  {
   "cell_type": "code",
   "execution_count": 43,
   "id": "4db00512",
   "metadata": {},
   "outputs": [
    {
     "name": "stdout",
     "output_type": "stream",
     "text": [
      "5 4 2\n"
     ]
    }
   ],
   "source": [
    "s=\"make a paper boat and enjoy childhood \"\n",
    "b=s.count(\"a\")\n",
    "c=s.count(\"o\")\n",
    "d=s.count(\"p\")\n",
    "print(b , end=\" \")\n",
    "print(c ,end=\" \")\n",
    "print(d)"
   ]
  },
  {
   "cell_type": "code",
   "execution_count": 44,
   "id": "7110bd15",
   "metadata": {},
   "outputs": [
    {
     "name": "stdout",
     "output_type": "stream",
     "text": [
      "5 4 2\n"
     ]
    }
   ],
   "source": [
    "s=\"make a paper boat and enjoy childhood \"\n",
    "b=s.count(\"a\")\n",
    "c=s.count(\"o\")\n",
    "d=s.count(\"p\")\n",
    "print(b,c,d)\n"
   ]
  },
  {
   "cell_type": "code",
   "execution_count": 50,
   "id": "cc9e6332",
   "metadata": {},
   "outputs": [
    {
     "name": "stdout",
     "output_type": "stream",
     "text": [
      "True\n"
     ]
    }
   ],
   "source": [
    "#Starstwith ()#chackpoint use \n",
    "\n",
    "s=\"live in present\"\n",
    "b=(s.startswith(\"live\"))\n",
    "print(b)\n",
    "\n",
    "\n"
   ]
  },
  {
   "cell_type": "code",
   "execution_count": 53,
   "id": "30833e46",
   "metadata": {},
   "outputs": [
    {
     "name": "stdout",
     "output_type": "stream",
     "text": [
      "True\n"
     ]
    }
   ],
   "source": [
    "#endswith ()#chackpoint use \n",
    "\n",
    "s=\"live in present\"\n",
    "b=(s.endswith(\"present\"))\n",
    "print(b)"
   ]
  },
  {
   "cell_type": "code",
   "execution_count": 55,
   "id": "0c2ad82a",
   "metadata": {},
   "outputs": [
    {
     "name": "stdout",
     "output_type": "stream",
     "text": [
      "11\n"
     ]
    }
   ],
   "source": [
    "s=\"Demography refers to the scientific study of human population\"\n",
    "b=s.find(\"refers\")\n",
    "print(b) # provide the index value "
   ]
  },
  {
   "cell_type": "code",
   "execution_count": null,
   "id": "5056d3c3",
   "metadata": {},
   "outputs": [],
   "source": [
    "#FIND(NO ERROR HANDELING ) AND INDEX (ERROR HANDELING)"
   ]
  },
  {
   "cell_type": "code",
   "execution_count": null,
   "id": "81d77653",
   "metadata": {},
   "outputs": [],
   "source": [
    "# Both the find() and index() methods in Python are \n",
    "# used to search for a substring within a string \n",
    "# and return the index of the first occurrence of the substring. However, there are a few differences between these methods:\n",
    "\n",
    "# Return Value:\n",
    "# find(): If the substring is found, \n",
    "# find() returns the index of the first occurrence \n",
    "# of the substring. If the substring is not found, \n",
    "# it returns -1.\n",
    "\n",
    "\n",
    "\n",
    "# index(): If the substring is found, \n",
    "#     index() returns the index of the \n",
    "#     first occurrence of the substring. \n",
    "#     If the substring is not found, it raises a ValueError.\n",
    "# Error Handling:\n",
    "# find():\n",
    "# The find() method does not raise an exception \n",
    "# when the substring is not found. \n",
    "# It simply returns -1 in that case.\n",
    "\n",
    "\n",
    "\n",
    "# index(): \n",
    "#  The index() method raises a ValueError \n",
    "# when the substring is not found. \n",
    "# This means you need to handle the exception\n",
    "# when using index().\n",
    "# Example usage of find() and index() methods:\n",
    "\n",
    "\n",
    "\n",
    "\n",
    "\n",
    "\n",
    "\n"
   ]
  },
  {
   "cell_type": "code",
   "execution_count": 56,
   "id": "10e85ad0",
   "metadata": {},
   "outputs": [
    {
     "name": "stdout",
     "output_type": "stream",
     "text": [
      "4\n",
      "-1\n",
      "4\n"
     ]
    },
    {
     "ename": "ValueError",
     "evalue": "substring not found",
     "output_type": "error",
     "traceback": [
      "\u001b[1;31m---------------------------------------------------------------------------\u001b[0m",
      "\u001b[1;31mValueError\u001b[0m                                Traceback (most recent call last)",
      "Cell \u001b[1;32mIn[56], line 6\u001b[0m\n\u001b[0;32m      3\u001b[0m \u001b[38;5;28mprint\u001b[39m(s\u001b[38;5;241m.\u001b[39mfind(\u001b[38;5;124m\"\u001b[39m\u001b[38;5;124mz\u001b[39m\u001b[38;5;124m\"\u001b[39m))     \u001b[38;5;66;03m# Output: -1\u001b[39;00m\n\u001b[0;32m      5\u001b[0m \u001b[38;5;28mprint\u001b[39m(s\u001b[38;5;241m.\u001b[39mindex(\u001b[38;5;124m\"\u001b[39m\u001b[38;5;124mo\u001b[39m\u001b[38;5;124m\"\u001b[39m))    \u001b[38;5;66;03m# Output: 4\u001b[39;00m\n\u001b[1;32m----> 6\u001b[0m \u001b[38;5;28mprint\u001b[39m(\u001b[43ms\u001b[49m\u001b[38;5;241;43m.\u001b[39;49m\u001b[43mindex\u001b[49m\u001b[43m(\u001b[49m\u001b[38;5;124;43m\"\u001b[39;49m\u001b[38;5;124;43mz\u001b[39;49m\u001b[38;5;124;43m\"\u001b[39;49m\u001b[43m)\u001b[49m)\n",
      "\u001b[1;31mValueError\u001b[0m: substring not found"
     ]
    }
   ],
   "source": [
    "s = \"Hello, World!\"\n",
    "print(s.find(\"o\"))     # Output: 4\n",
    "print(s.find(\"z\"))     # Output: -1\n",
    "\n",
    "print(s.index(\"o\"))    # Output: 4\n",
    "print(s.index(\"z\"))    # Raises ValueError: substring not found\n"
   ]
  },
  {
   "cell_type": "code",
   "execution_count": 59,
   "id": "baf77797",
   "metadata": {},
   "outputs": [
    {
     "name": "stdout",
     "output_type": "stream",
     "text": [
      "True\n"
     ]
    }
   ],
   "source": [
    "#isalpha #works without space\n",
    "a=\"HelloWorld\"\n",
    "print(a.isalpha())\n"
   ]
  },
  {
   "cell_type": "code",
   "execution_count": 60,
   "id": "8ad0bb2f",
   "metadata": {},
   "outputs": [
    {
     "name": "stdout",
     "output_type": "stream",
     "text": [
      "False\n"
     ]
    }
   ],
   "source": [
    "#isalpha\n",
    "a=\"Hello World\"\n",
    "print(a.isalpha())"
   ]
  },
  {
   "cell_type": "markdown",
   "id": "6d7a0572",
   "metadata": {},
   "source": [
    "# Till here you use this notebook :rest do from self work no 2 "
   ]
  },
  {
   "cell_type": "code",
   "execution_count": 2,
   "id": "178cc575",
   "metadata": {},
   "outputs": [
    {
     "name": "stdout",
     "output_type": "stream",
     "text": [
      "True\n"
     ]
    }
   ],
   "source": [
    "#isalnum\n",
    "a=\"123abc\"\n",
    "print(a.isalnum())\n",
    "\n"
   ]
  },
  {
   "cell_type": "markdown",
   "id": "26690c5c",
   "metadata": {},
   "source": [
    "#learn string deleting "
   ]
  },
  {
   "cell_type": "code",
   "execution_count": 5,
   "id": "e4415b21",
   "metadata": {},
   "outputs": [
    {
     "name": "stdout",
     "output_type": "stream",
     "text": [
      "True\n"
     ]
    }
   ],
   "source": [
    " #isspace() #Returns True if all characters in the string are whitespace, otherwise returns False\n",
    "text = \"   \"\n",
    "print(text.isspace())  \n"
   ]
  },
  {
   "cell_type": "code",
   "execution_count": null,
   "id": "b4dcfd53",
   "metadata": {},
   "outputs": [],
   "source": []
  },
  {
   "cell_type": "code",
   "execution_count": null,
   "id": "967714a9",
   "metadata": {},
   "outputs": [],
   "source": []
  }
 ],
 "metadata": {
  "kernelspec": {
   "display_name": "Python 3 (ipykernel)",
   "language": "python",
   "name": "python3"
  },
  "language_info": {
   "codemirror_mode": {
    "name": "ipython",
    "version": 3
   },
   "file_extension": ".py",
   "mimetype": "text/x-python",
   "name": "python",
   "nbconvert_exporter": "python",
   "pygments_lexer": "ipython3",
   "version": "3.8.10"
  }
 },
 "nbformat": 4,
 "nbformat_minor": 5
}
