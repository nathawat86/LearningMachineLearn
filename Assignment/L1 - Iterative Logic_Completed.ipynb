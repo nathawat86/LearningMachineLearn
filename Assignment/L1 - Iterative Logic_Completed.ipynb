{
 "cells": [
  {
   "cell_type": "markdown",
   "id": "9acd52dd",
   "metadata": {
    "id": "9acd52dd"
   },
   "source": [
    "# Assessment - 4 Gradable\n",
    "\n",
    "- Each question carries 5 marks\n",
    "- Marks will be assigned in terms of:\n",
    "    \n",
    "    **1. Expected output**\n",
    "    \n",
    "    **2. Quality and Explainability of code**\n",
    "\n",
    "    ***Go back through the script and type a comment above each line explaining in English what it does.***\n",
    "\n",
    "    **3. Copied code, if found, will result in 0 marks for that question. To avoid this make as much comments in the code to explain the approach**"
   ]
  },
  {
   "cell_type": "markdown",
   "id": "1dd6b730",
   "metadata": {
    "id": "1dd6b730"
   },
   "source": [
    "### 1. \n",
    "\n",
    "Write a Python function that prints out the first n rows of Pascal's triangle.\n",
    "\n",
    "- Input : 5\n",
    "- Output: \n",
    "          1\n",
    "         1 1\n",
    "        1 2 1\n",
    "       1 3 3 1\n",
    "      1 4 6 4 1"
   ]
  },
  {
   "cell_type": "code",
   "execution_count": 2,
   "id": "04ae6248",
   "metadata": {
    "id": "04ae6248"
   },
   "outputs": [
    {
     "name": "stdout",
     "output_type": "stream",
     "text": [
      "Enter the number of rows: 7\n",
      "[1]\n",
      "[1, 1]\n",
      "[1, 2, 1]\n",
      "[1, 3, 3, 1]\n",
      "[1, 4, 6, 4, 1]\n",
      "[1, 5, 10, 10, 5, 1]\n",
      "[1, 6, 15, 20, 15, 6, 1]\n"
     ]
    }
   ],
   "source": [
    "def generate_pascals_triangle(n):\n",
    "    triangle = []  # Initialize an empty list to store the triangle\n",
    "\n",
    "    for i in range(n):\n",
    "        row = []  # Initialize an empty list for the current row\n",
    "\n",
    "        for j in range(i + 1):\n",
    "            if j == 0 or j == i:\n",
    "                # The first and last elements of each row are always 1\n",
    "                row.append(1)\n",
    "            else:\n",
    "                # Calculate the element as the sum of the two elements above\n",
    "                element = triangle[i - 1][j - 1] + triangle[i - 1][j]\n",
    "                row.append(element)\n",
    "\n",
    "        triangle.append(row)  # Add the current row to the triangle\n",
    "\n",
    "    return triangle\n",
    "\n",
    "# Get user input for the number of rows to generate\n",
    "num_rows = int(input(\"Enter the number of rows: \"))\n",
    "\n",
    "# Generate and print Pascal's triangle\n",
    "pascals_triangle = generate_pascals_triangle(num_rows)\n",
    "\n",
    "# Print the triangle\n",
    "for row in pascals_triangle:\n",
    "    print(row)\n"
   ]
  },
  {
   "cell_type": "markdown",
   "id": "ffc26930",
   "metadata": {
    "id": "ffc26930"
   },
   "source": [
    "### 2. \n",
    "\n",
    "Write a function to print following pattern by accepting n value from user\n",
    "\n",
    "    1  \n",
    "    2  4  \n",
    "    3  6  9  \n",
    "    4  8  12  16  \n",
    "    5  10  15  20  25  \n",
    "    6  12  18  24  30  36  \n",
    "    7  14  21  28  35  42  49  \n",
    "    8  16  24  32  40  48  56  64 \n",
    "    \n",
    "Hint:\n",
    "- n is 8\n"
   ]
  },
  {
   "cell_type": "code",
   "execution_count": 3,
   "id": "dbaf2f2a",
   "metadata": {
    "id": "dbaf2f2a"
   },
   "outputs": [
    {
     "name": "stdout",
     "output_type": "stream",
     "text": [
      "Enter the value of n: 9\n",
      " 1 \n",
      " 2  4 \n",
      " 3  6  9 \n",
      " 4  8 12 16 \n",
      " 5 10 15 20 25 \n",
      " 6 12 18 24 30 36 \n",
      " 7 14 21 28 35 42 49 \n",
      " 8 16 24 32 40 48 56 64 \n",
      " 9 18 27 36 45 54 63 72 81 \n"
     ]
    }
   ],
   "source": [
    "#function to print the specified pattern based on the user-provided 'n' value\n",
    "def print_pattern(n):\n",
    "    # Outer loop iterates over rows from 1 to 'n'\n",
    "    for i in range(1, n + 1):\n",
    "        # Inner loop iterates over columns for the current row\n",
    "        for j in range(i):\n",
    "            # Calculate the value for the current position in the pattern\n",
    "            value = i * (j + 1)\n",
    "            # Print the value with a width of 2 characters and space separator\n",
    "            print(f\"{value:2}\", end=\" \")\n",
    "        # Move to the next line after printing the current row\n",
    "        print()\n",
    "\n",
    "# Get user input for the number of rows ('n')\n",
    "n = int(input(\"Enter the value of n: \"))\n",
    "\n",
    "# Call the function to print the pattern with 'n' rows\n",
    "print_pattern(n)\n"
   ]
  },
  {
   "cell_type": "markdown",
   "id": "eec7fc6c",
   "metadata": {
    "id": "eec7fc6c"
   },
   "source": [
    "### 3. \n",
    "\n",
    "Write a program to print prime numbers from 1 to 100\n"
   ]
  },
  {
   "cell_type": "code",
   "execution_count": 4,
   "id": "4de40729",
   "metadata": {
    "id": "4de40729"
   },
   "outputs": [
    {
     "name": "stdout",
     "output_type": "stream",
     "text": [
      "2 3 5 7 11 13 17 19 23 29 31 37 41 43 47 53 59 61 67 71 73 79 83 89 97 \n"
     ]
    }
   ],
   "source": [
    "# Function to check if a number is prime\n",
    "def is_prime(num):\n",
    "    if num <= 1:\n",
    "        return False  # Numbers less than or equal to 1 are not prime\n",
    "    elif num <= 3:\n",
    "        return True   # 2 and 3 are prime\n",
    "    elif num % 2 == 0 or num % 3 == 0:\n",
    "        return False  # Numbers divisible by 2 or 3 are not prime\n",
    "    i = 5\n",
    "    while i * i <= num:\n",
    "        if num % i == 0 or num % (i + 2) == 0:\n",
    "            return False  # Numbers divisible by i or i+2 are not prime\n",
    "        i += 6\n",
    "    return True\n",
    "\n",
    "# Print prime numbers from 1 to 100\n",
    "for num in range(1, 101):\n",
    "    if is_prime(num):\n",
    "        print(num, end=\" \")\n",
    "\n",
    "# Output formatting\n",
    "print()  # Move to the next line after printing prime numbers\n"
   ]
  },
  {
   "cell_type": "markdown",
   "id": "6739aeef",
   "metadata": {
    "id": "6739aeef"
   },
   "source": [
    "### 4. \n",
    "\n",
    "Write a program to find given number is palindrome or not\n",
    "\n",
    "Hint:\n",
    "- 121 is palindrome\n",
    "- 123 is not palindrome"
   ]
  },
  {
   "cell_type": "code",
   "execution_count": 6,
   "id": "1ec4e63e",
   "metadata": {
    "id": "1ec4e63e"
   },
   "outputs": [
    {
     "name": "stdout",
     "output_type": "stream",
     "text": [
      "Enter a number: 135\n",
      "135 is not a palindrome.\n"
     ]
    }
   ],
   "source": [
    "# Function to check if a number is a palindrome\n",
    "def is_palindrome(num):\n",
    "    original_num = num\n",
    "    reversed_num = 0\n",
    "\n",
    "    # Reverse the number\n",
    "    while num > 0:\n",
    "        digit = num % 10\n",
    "        reversed_num = reversed_num * 10 + digit\n",
    "        num = num // 10\n",
    "\n",
    "    # Check if the reversed number is the same as the original number\n",
    "    if original_num == reversed_num:\n",
    "        return True\n",
    "    else:\n",
    "        return False\n",
    "\n",
    "# Get user input for a number\n",
    "num = int(input(\"Enter a number: \"))\n",
    "\n",
    "# Call the function to check if the number is a palindrome\n",
    "if is_palindrome(num):\n",
    "    print(f\"{num} is a palindrome.\")\n",
    "else:\n",
    "    print(f\"{num} is not a palindrome.\")\n"
   ]
  },
  {
   "cell_type": "markdown",
   "id": "af46e819",
   "metadata": {
    "id": "af46e819"
   },
   "source": [
    "### 5.\n",
    "\n",
    "Write a program to iterate the first 10 numbers and in each iteration, print the sum of the current and previous number.\n",
    "\n",
    "- Current Number 0 Previous Number  0  Sum:  0\n",
    "- Current Number 1 Previous Number  0  Sum:  1 and so on"
   ]
  },
  {
   "cell_type": "code",
   "execution_count": 7,
   "id": "830a0664",
   "metadata": {
    "id": "830a0664"
   },
   "outputs": [
    {
     "name": "stdout",
     "output_type": "stream",
     "text": [
      "Current Number 0 Previous Number 0 Sum: 0\n",
      "Current Number 1 Previous Number 0 Sum: 1\n",
      "Current Number 2 Previous Number 1 Sum: 3\n",
      "Current Number 3 Previous Number 2 Sum: 5\n",
      "Current Number 4 Previous Number 3 Sum: 7\n",
      "Current Number 5 Previous Number 4 Sum: 9\n",
      "Current Number 6 Previous Number 5 Sum: 11\n",
      "Current Number 7 Previous Number 6 Sum: 13\n",
      "Current Number 8 Previous Number 7 Sum: 15\n",
      "Current Number 9 Previous Number 8 Sum: 17\n"
     ]
    }
   ],
   "source": [
    "# Iterate through the first 10 numbers\n",
    "for current_number in range(10):\n",
    "    # If it's the first iteration, set the previous number to 0\n",
    "    if current_number == 0:\n",
    "        previous_number = 0\n",
    "    else:\n",
    "        previous_number = current_number - 1\n",
    "\n",
    "    # Calculate the sum of the current and previous numbers\n",
    "    sum_result = current_number + previous_number\n",
    "\n",
    "    # Print the result\n",
    "    print(f\"Current Number {current_number} Previous Number {previous_number} Sum: {sum_result}\")\n"
   ]
  },
  {
   "cell_type": "code",
   "execution_count": null,
   "id": "9ead2cd9",
   "metadata": {},
   "outputs": [],
   "source": []
  }
 ],
 "metadata": {
  "colab": {
   "provenance": []
  },
  "kernelspec": {
   "display_name": "Python 3 (ipykernel)",
   "language": "python",
   "name": "python3"
  },
  "language_info": {
   "codemirror_mode": {
    "name": "ipython",
    "version": 3
   },
   "file_extension": ".py",
   "mimetype": "text/x-python",
   "name": "python",
   "nbconvert_exporter": "python",
   "pygments_lexer": "ipython3",
   "version": "3.10.9"
  }
 },
 "nbformat": 4,
 "nbformat_minor": 5
}
