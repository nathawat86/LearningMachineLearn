{
 "cells": [
  {
   "cell_type": "markdown",
   "id": "5fad3b2a",
   "metadata": {
    "id": "5fad3b2a"
   },
   "source": [
    "# Assessment - 2 Gradable\n",
    "\n",
    "- Each question carries 3 marks\n",
    "- Marks will be assigned in terms of:\n",
    "    \n",
    "    **1. Expected output**\n",
    "    \n",
    "    **2. Quality and Explainability of code**\n",
    "\n",
    "    ***Go back through the script and type a comment above each line explaining in English what it does.***\n",
    "\n",
    "    **3. Copied code, if found, will result in 0 marks for that question. To avoid this make as much comments in the code to explain the approach**"
   ]
  },
  {
   "cell_type": "markdown",
   "id": "03363a58",
   "metadata": {
    "id": "03363a58"
   },
   "source": [
    "### 1.\n",
    "\n",
    "Write a Python program to perform following tasks on a list\n",
    "\n",
    "<ol>\n",
    "    <li>Create an empty list with name l1</li>\n",
    "    <li>Add atleast 5 number to the l1</li>\n",
    "    <li>Add 100 at 2<sup>nd</sup> position</li>\n",
    "    <li>Add 1000 at front of the l1</li>\n",
    "    <li>Delete element at 3<sup>rd</sup> position</li>\n",
    "    <li>Display elements at even position</li>\n",
    "    <li>Display elements in reverse order</li>\n",
    "</ol>"
   ]
  },
  {
   "cell_type": "code",
   "execution_count": 6,
   "id": "48084108",
   "metadata": {},
   "outputs": [
    {
     "name": "stdout",
     "output_type": "stream",
     "text": [
      "List Before performing any operations: [1, 2, 3, 4, 5]\n",
      "List After adding 100 at the 2nd position: [1, 100, 2, 3, 4, 5]\n",
      "List After adding 1000 at the front of l1: [1000, 1, 100, 2, 3, 4, 5]\n",
      "List After Delete element at the 3rd position l1: [1000, 1, 2, 3, 4, 5]\n",
      "List after performing the operations: [1000, 1, 2, 3, 4, 5]\n",
      "Elements at even positions: [1, 3, 5]\n",
      "Elements in reverse order: [5, 4, 3, 2, 1, 1000]\n"
     ]
    }
   ],
   "source": [
    "# Create an empty list with name l1\n",
    "l1 = []\n",
    "\n",
    "# Add at least 5 numbers to l1\n",
    "l1.extend([1, 2, 3, 4, 5])\n",
    "print(\"List Before performing any operations:\", l1)\n",
    "# Add 100 at the 2nd position\n",
    "l1.insert(1, 100)\n",
    "print(\"List After adding 100 at the 2nd position:\", l1)\n",
    "\n",
    "# Add 1000 at the front of l1\n",
    "l1.insert(0, 1000)\n",
    "print(\"List After adding 1000 at the front of l1:\", l1)\n",
    "\n",
    "# Delete element at the 3rd position\n",
    "del l1[2]\n",
    "print(\"List After Delete element at the 3rd position l1:\", l1) \n",
    "\n",
    "\n",
    "# Print the results\n",
    "print(\"List after performing the operations:\", l1)\n",
    "\n",
    "# Display elements at even positions\n",
    "even_positions_elements = l1[1::2]\n",
    "print(\"Elements at even positions:\", even_positions_elements)\n",
    "\n",
    "\n",
    "# Display elements in reverse order\n",
    "reversed_elements = l1[::-1]\n",
    "print(\"Elements in reverse order:\", reversed_elements)"
   ]
  },
  {
   "cell_type": "markdown",
   "id": "3d5efe73",
   "metadata": {
    "id": "3d5efe73"
   },
   "source": [
    "### 2. \n",
    "\n",
    "Grab ``StarAgile`` from the following Dictionaries\n",
    "\n",
    "d_difficult = {'k1':[{'nest_key':['this is deep',['StarAgile']]}]}\n",
    "\n",
    "d_irritating = {'k1':[1,2,{'k2':['this is not easy',{'VeryIrriating':[1,2,['StarAgile']]}]}]}"
   ]
  },
  {
   "cell_type": "code",
   "execution_count": 7,
   "id": "9fb35ce9",
   "metadata": {
    "id": "9fb35ce9"
   },
   "outputs": [
    {
     "name": "stdout",
     "output_type": "stream",
     "text": [
      "StarAgile from d_difficult: StarAgile\n",
      "StarAgile from d_irritating: StarAgile\n"
     ]
    }
   ],
   "source": [
    "dict_difficult = {'k1': [{'nest_key': ['this is deep', ['StarAgile']]}]}\n",
    "dict_irritating = {'k1': [1, 2, {'k2': ['this is not easy', {'VeryIrriating': [1, 2, ['StarAgile']]}]}]}\n",
    "\n",
    "# Grab 'StarAgile' from d_difficult\n",
    "difficult = dict_difficult['k1'][0]['nest_key'][1][0]\n",
    "print(\"StarAgile from d_difficult:\", difficult)\n",
    "\n",
    "# Grab 'StarAgile' from d_irritating\n",
    "irritating = dict_irritating['k1'][2]['k2'][1]['VeryIrriating'][2][0]\n",
    "print(\"StarAgile from d_irritating:\", irritating)\n"
   ]
  },
  {
   "cell_type": "markdown",
   "id": "0540a188",
   "metadata": {
    "id": "0540a188"
   },
   "source": [
    "### 3.\n",
    "\n",
    "Write a program to accept a string from the user and display characters that are present at an even index number.\n",
    "\n",
    "For example, str = \"judgemental\" so you should display ‘j’, ‘d’, ‘e’, ‘e’, ‘t’, ‘l’."
   ]
  },
  {
   "cell_type": "code",
   "execution_count": 8,
   "id": "21f5b9dd",
   "metadata": {
    "id": "21f5b9dd"
   },
   "outputs": [
    {
     "name": "stdout",
     "output_type": "stream",
     "text": [
      "Characters at even index numbers: C, m, l, x\n"
     ]
    }
   ],
   "source": [
    "# Accept a string from the user\n",
    "user_input = input(\"Enter a string: \")\n",
    "\n",
    "# Display characters at even index numbers\n",
    "even_index_char = user_input[::2]\n",
    "\n",
    "# Print the characters\n",
    "print(\"Characters at even index numbers:\", \", \".join(even_index_char))\n"
   ]
  },
  {
   "cell_type": "markdown",
   "id": "e0884cde",
   "metadata": {
    "id": "e0884cde"
   },
   "source": [
    "### 4. \n",
    "\n",
    "Convert the Float Value of '3.8' into Integer, Complex, Binary and Hexidecimal format"
   ]
  },
  {
   "cell_type": "code",
   "execution_count": 9,
   "id": "99555c16",
   "metadata": {
    "id": "99555c16"
   },
   "outputs": [
    {
     "name": "stdout",
     "output_type": "stream",
     "text": [
      "Integer Value Output:  3\n",
      "Complex Value Output:  (3.8+0j)\n",
      "Binary Value Output:  0b11\n",
      "Hexadecimal Value Output:  0x3\n"
     ]
    }
   ],
   "source": [
    "# Float value\n",
    "float_value = 3.8\n",
    "\n",
    "# Convert to Integer\n",
    "integer_value = int(float_value)\n",
    "print(\"Integer Value Output: \", integer_value)\n",
    "\n",
    "# Convert to Complex\n",
    "complex_value = complex(float_value)\n",
    "print(\"Complex Value Output: \", complex_value)\n",
    "\n",
    "# Convert to Binary\n",
    "binary_value = bin(integer_value)\n",
    "print(\"Binary Value Output: \", binary_value)\n",
    "\n",
    "# Convert to Hexadecimal\n",
    "hexadecimal_value = hex(integer_value)\n",
    "print(\"Hexadecimal Value Output: \", hexadecimal_value)\n"
   ]
  },
  {
   "cell_type": "markdown",
   "id": "25187f2c",
   "metadata": {
    "id": "25187f2c"
   },
   "source": [
    "### 5. \n",
    "\n",
    "Write a program to accept five names from the user and store it in a Tuple 'T1'"
   ]
  },
  {
   "cell_type": "code",
   "execution_count": 10,
   "id": "7e9e98e3",
   "metadata": {
    "id": "7e9e98e3"
   },
   "outputs": [
    {
     "name": "stdout",
     "output_type": "stream",
     "text": [
      "Tuple 'T1': ('Rahul', 'Monika', 'Deepak', 'Kanishka', 'Ankit')\n"
     ]
    }
   ],
   "source": [
    "# Accept five names from the user and store them in a Tuple 'T1'\n",
    "T1 = tuple(input(f\"Enter name of your Friend {i+1}: \") for i in range(5))\n",
    "\n",
    "# Print the tuple 'T1'\n",
    "print(\"Tuple 'T1':\", T1)\n"
   ]
  }
 ],
 "metadata": {
  "colab": {
   "provenance": []
  },
  "kernelspec": {
   "display_name": "Python 3 (ipykernel)",
   "language": "python",
   "name": "python3"
  },
  "language_info": {
   "codemirror_mode": {
    "name": "ipython",
    "version": 3
   },
   "file_extension": ".py",
   "mimetype": "text/x-python",
   "name": "python",
   "nbconvert_exporter": "python",
   "pygments_lexer": "ipython3",
   "version": "3.8.10"
  }
 },
 "nbformat": 4,
 "nbformat_minor": 5
}
