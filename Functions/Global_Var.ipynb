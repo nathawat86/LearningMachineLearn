{
 "cells": [
  {
   "cell_type": "code",
   "execution_count": 1,
   "id": "39774437",
   "metadata": {},
   "outputs": [
    {
     "name": "stdout",
     "output_type": "stream",
     "text": [
      "local variable y= 30\n",
      "global variable x= 20\n",
      "x+y= 50\n",
      "local variable m= 10\n",
      "global variable x= 20\n",
      "x-m= 10\n"
     ]
    }
   ],
   "source": [
    "# global variable\n",
    "x = 20\n",
    "\n",
    "def add():\n",
    "    # local variable y\n",
    "    y = 30\n",
    "    print('local variable y=', y)\n",
    "\n",
    "    # Use global variable x\n",
    "    print('global variable x=', x)\n",
    "    z = x + y\n",
    "    print('x+y=', z)\n",
    "\n",
    "def sub():\n",
    "    # local variable m\n",
    "    m = 10\n",
    "    print('local variable m=', m)\n",
    "\n",
    "    # Use global variable x in second function\n",
    "    print('global variable x=', x)\n",
    "    n = x - m\n",
    "    print('x-m=', n)\n",
    "\n",
    "add()\n",
    "sub()"
   ]
  },
  {
   "cell_type": "code",
   "execution_count": null,
   "id": "f29324d1",
   "metadata": {},
   "outputs": [],
   "source": []
  }
 ],
 "metadata": {
  "kernelspec": {
   "display_name": "Python 3 (ipykernel)",
   "language": "python",
   "name": "python3"
  },
  "language_info": {
   "codemirror_mode": {
    "name": "ipython",
    "version": 3
   },
   "file_extension": ".py",
   "mimetype": "text/x-python",
   "name": "python",
   "nbconvert_exporter": "python",
   "pygments_lexer": "ipython3",
   "version": "3.10.9"
  }
 },
 "nbformat": 4,
 "nbformat_minor": 5
}
