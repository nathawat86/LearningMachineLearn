{
 "cells": [
  {
   "cell_type": "code",
   "execution_count": 1,
   "id": "99d99336",
   "metadata": {},
   "outputs": [
    {
     "name": "stdout",
     "output_type": "stream",
     "text": [
      "Enter a string: rtYUTYRYUYrtiopkYTYIOPMBGRrtilpmcaRTOKKFDF\n",
      "String with lowercase letters first: rtrtiopkrtilpmcaYUTYRYUYYTYIOPMBGRRTOKKFDF\n"
     ]
    }
   ],
   "source": [
    "#Arrange string characters such that lowercase letters should come first\n",
    "\n",
    "a = input(\"Enter a string: \")\n",
    "\n",
    "# Initialize empty strings to store lowercase and uppercase characters\n",
    "l = \"\"\n",
    "u = \"\"\n",
    "\n",
    "# Iterate through each character in the input string\n",
    "for char in a:\n",
    "    if char.islower():\n",
    "        l = l + char\n",
    "    else:\n",
    "        u = u + char\n",
    "\n",
    "# Concatenate the lowercase characters first and then the uppercase characters\n",
    "sorted_string= l + u\n",
    "\n",
    "print(\"String with lowercase letters first:\", sorted_string)\n"
   ]
  },
  {
   "cell_type": "code",
   "execution_count": 15,
   "id": "4fb772a3",
   "metadata": {},
   "outputs": [
    {
     "name": "stdout",
     "output_type": "stream",
     "text": [
      "Before exchanging: \n",
      "Variable 1: 10\n",
      "Variable 2: 20\n",
      "After exchanging: \n",
      "Variable 1: 20\n",
      "Variable 2: 10\n"
     ]
    }
   ],
   "source": [
    "# Program to exchange the values of two variables\n",
    "\n",
    "# Initial values of the variables\n",
    "var1 = 10\n",
    "var2 = 20\n",
    "\n",
    "print(\"Before exchanging: \")\n",
    "print(\"Variable 1:\", var1)\n",
    "print(\"Variable 2:\", var2)\n",
    "\n",
    "# Exchange the values without using a function\n",
    "temp = var1\n",
    "var1 = var2\n",
    "var2 = temp\n",
    "\n",
    "print(\"After exchanging: \")\n",
    "print(\"Variable 1:\", var1)\n",
    "print(\"Variable 2:\", var2)\n",
    "\n"
   ]
  },
  {
   "cell_type": "code",
   "execution_count": 4,
   "id": "be730a46",
   "metadata": {},
   "outputs": [
    {
     "name": "stdout",
     "output_type": "stream",
     "text": [
      "Numbers divisible by either 3 or 5: 3 5 6 9 10 12 15 18 20 21 24 25 27 30 33 35 36 39 40 42 45 48 50 51 54 55 57 60 63 65 66 69 70 72 75 78 80 81 84 85 87 90 93 95 96 99 100 \n",
      "Sum of numbers divisible by 3 or 5 from 1 to 100: 2418\n"
     ]
    }
   ],
   "source": [
    "#Write a Python program using a for loop to find the sum of all numbers divisible by either 3 or 5 from 1 to 100.\n",
    "# Code for Question 5\n",
    "sum_divisible = 0\n",
    "\n",
    "for num in range(1, 101):\n",
    "    if num % 3 == 0 or num % 5 == 0:\n",
    "        sum_divisible =sum_divisible+ num\n",
    "\n",
    "# Print the numbers and the sum\n",
    "print(\"Numbers divisible by either 3 or 5:\", end=\" \")\n",
    "for num in range(1, 101):\n",
    "    if num % 3 == 0 or num % 5 == 0:\n",
    "        print(num, end=\" \")\n",
    "\n",
    "print(\"\\nSum of numbers divisible by 3 or 5 from 1 to 100:\", sum_divisible)\n"
   ]
  },
  {
   "cell_type": "code",
   "execution_count": 5,
   "id": "255c7fa3",
   "metadata": {},
   "outputs": [
    {
     "name": "stdout",
     "output_type": "stream",
     "text": [
      "Sum of numbers from 1 to 100: 5050\n"
     ]
    }
   ],
   "source": [
    "#Calculate the sum of numbers from 1 to 100.\n",
    "# \n",
    "sum_numbers = 0\n",
    "for num in range(1, 101):\n",
    "    sum_numbers =sum_numbers+ num\n",
    "print(\"Sum of numbers from 1 to 100:\", sum_numbers)\n"
   ]
  },
  {
   "cell_type": "code",
   "execution_count": 12,
   "id": "a5482094",
   "metadata": {},
   "outputs": [
    {
     "name": "stdout",
     "output_type": "stream",
     "text": [
      "Sum of even numbers between 1 and 50 is: 650\n"
     ]
    }
   ],
   "source": [
    "#Find the sum of all even numbers between 1 and 50.\n",
    "# Code Solution for Exercise 3\n",
    "sum_even = 0\n",
    "\n",
    "for num in range(1, 51):\n",
    "    if num % 2 == 0:\n",
    "        sum_even =sum_even+ num\n",
    "\n",
    "print(\"Sum of even numbers between 1 and 50 is:\", sum_even)\n",
    "\n",
    "\n"
   ]
  },
  {
   "cell_type": "code",
   "execution_count": 3,
   "id": "1303bb91",
   "metadata": {},
   "outputs": [
    {
     "name": "stdout",
     "output_type": "stream",
     "text": [
      "1\n",
      "2\n",
      "3\n",
      "4\n",
      "5\n",
      "6\n",
      "7\n",
      "8\n"
     ]
    }
   ],
   "source": [
    "#qus :Print natural number up to n. \n",
    "#Natural numbers are a part of the number system which includes all the positive integers \n",
    "#from 1 till infinity and are also used for counting purpose. It does not include zero (0).\n",
    "#In fact, 1,2,3,4,5,6,7,8,9…., are also called counting numbers.\n",
    "\n",
    "#Natural numbers are part of real numbers, that include only the positive integers i.e. 1, 2, 3, 4,5,6, ……….\n",
    "#excluding zero, fractions, decimals and negative numbers.\n",
    "\n",
    "n = 0\n",
    "while n < 8:\n",
    "    n = n + 1\n",
    "    print(n)"
   ]
  },
  {
   "cell_type": "code",
   "execution_count": 6,
   "id": "cb245e5f",
   "metadata": {
    "scrolled": true
   },
   "outputs": [
    {
     "name": "stdout",
     "output_type": "stream",
     "text": [
      "Enter a positive integer 'n'for n positive integer you want : 6\n",
      "6\n",
      "6\n",
      "6\n",
      "6\n",
      "6\n",
      "6\n"
     ]
    }
   ],
   "source": [
    "\n",
    "#In form of the user input : wrong \n",
    "n = int(input(\"Enter a positive integer 'n'for n positive integer you want : \"))\n",
    "if n <= 0:\n",
    "    print(\"Please enter a positive integer.\")\n",
    "else:\n",
    "    for i in range(n):\n",
    "        print(n)"
   ]
  },
  {
   "cell_type": "code",
   "execution_count": 7,
   "id": "200e3648",
   "metadata": {},
   "outputs": [
    {
     "name": "stdout",
     "output_type": "stream",
     "text": [
      "Enter a positive integer 'n'for n positive integer you want : 5\n",
      "1\n",
      "2\n",
      "3\n",
      "4\n",
      "5\n"
     ]
    }
   ],
   "source": [
    "\n",
    "#In form of the user input :correct \n",
    "n = int(input(\"Enter a positive integer 'n'for n positive integer you want : \"))\n",
    "if n <= 0:\n",
    "    print(\"Please enter a positive integer.\")\n",
    "else:\n",
    "    for i in range(1, n + 1):\n",
    "        print(i)"
   ]
  },
  {
   "cell_type": "code",
   "execution_count": 9,
   "id": "a9aaf30e",
   "metadata": {},
   "outputs": [
    {
     "name": "stdout",
     "output_type": "stream",
     "text": [
      "Enter a positive integer 'n': 5\n",
      "5\n",
      "4\n",
      "3\n",
      "2\n",
      "1\n"
     ]
    }
   ],
   "source": [
    "#Reverse for loop. Print n to 1.\n",
    "n = int(input(\"Enter a positive integer 'n': \"))\n",
    "\n",
    "if n <= 0:\n",
    "    print(\"Please enter a positive integer.\")\n",
    "else:\n",
    "    for i in range(n, 0, -1):\n",
    "        print(i)\n"
   ]
  },
  {
   "cell_type": "code",
   "execution_count": 6,
   "id": "eb408821",
   "metadata": {},
   "outputs": [
    {
     "name": "stdout",
     "output_type": "stream",
     "text": [
      "You entered: Bhairun\n"
     ]
    }
   ],
   "source": [
    "#To take the input from the user in form of the name nd ask to do so in the given limit \n",
    "\n",
    "max_attempt = 3\n",
    "\n",
    "for attempt in range(max_attempt):\n",
    "    a = input(\"Please enter the name: \")\n",
    "    if a.isalpha():\n",
    "        print(\"You entered:\", a)\n",
    "        break\n",
    "    else:\n",
    "        print(\"Invalid input. Please enter the correct credential \")\n",
    "else:\n",
    "    print(\"You have exceeded the maximum number of attempts.\")\n"
   ]
  },
  {
   "cell_type": "code",
   "execution_count": 17,
   "id": "6dd470ac",
   "metadata": {},
   "outputs": [
    {
     "name": "stdout",
     "output_type": "stream",
     "text": [
      "6 x 1 = 6\n",
      "6 x 2 = 12\n",
      "6 x 3 = 18\n",
      "6 x 4 = 24\n",
      "6 x 5 = 30\n",
      "6 x 6 = 36\n",
      "6 x 7 = 42\n",
      "6 x 8 = 48\n",
      "6 x 9 = 54\n",
      "6 x 10 = 60\n"
     ]
    }
   ],
   "source": [
    "# Creating a multiplication table of 6 using a while loop\n",
    "\n",
    "# Initialize the multiplication factor and the counter\n",
    "factor = 6\n",
    "counter = 1\n",
    "\n",
    "# Print the table using a while loop\n",
    "while counter <= 10:\n",
    "    result = factor * counter\n",
    "    print(f\"{factor} x {counter} = {result}\")\n",
    "    counter += 1\n"
   ]
  },
  {
   "cell_type": "code",
   "execution_count": 18,
   "id": "763ae82f",
   "metadata": {},
   "outputs": [
    {
     "name": "stdout",
     "output_type": "stream",
     "text": [
      "Enter the number for the multiplication table: 11\n",
      "11 x 1 = 11\n",
      "11 x 2 = 22\n",
      "11 x 3 = 33\n",
      "11 x 4 = 44\n",
      "11 x 5 = 55\n",
      "11 x 6 = 66\n",
      "11 x 7 = 77\n",
      "11 x 8 = 88\n",
      "11 x 9 = 99\n",
      "11 x 10 = 110\n"
     ]
    }
   ],
   "source": [
    "# Taking user input to create a multiplication table of a particular number using a while loop\n",
    "\n",
    "# Get the number for which the multiplication table is required\n",
    "number = int(input(\"Enter the number for the multiplication table: \"))\n",
    "\n",
    "# Initialize the counter\n",
    "counter = 1\n",
    "\n",
    "# Print the table using a while loop\n",
    "while counter <= 10:\n",
    "    result = number * counter\n",
    "    print(f\"{number} x {counter} = {result}\")\n",
    "    counter += 1\n"
   ]
  },
  {
   "cell_type": "code",
   "execution_count": 2,
   "id": "c2d8a989",
   "metadata": {},
   "outputs": [
    {
     "name": "stdout",
     "output_type": "stream",
     "text": [
      "Enter the first value: fth\n",
      "Enter the second value: fdef\n",
      "Enter the third value: efwf\n",
      "Enter the fourth value: fer\n",
      "Enter the fifth value: rtre\n",
      "The tuple containing the user inputs: ('fth', 'fdef', 'efwf', 'fer', 'rtre')\n"
     ]
    }
   ],
   "source": [
    "# Get five inputs from the user\n",
    "input1 = input(\"Enter the first value: \")\n",
    "input2 = input(\"Enter the second value: \")\n",
    "input3 = input(\"Enter the third value: \")\n",
    "input4 = input(\"Enter the fourth value: \")\n",
    "input5 = input(\"Enter the fifth value: \")\n",
    "\n",
    "# Create a tuple with the inputs\n",
    "user_tuple = (input1, input2, input3, input4, input5)\n",
    "\n",
    "# Print the tuple\n",
    "print(\"The tuple containing the user inputs:\", user_tuple)"
   ]
  },
  {
   "cell_type": "code",
   "execution_count": 3,
   "id": "258288ec",
   "metadata": {},
   "outputs": [
    {
     "name": "stdout",
     "output_type": "stream",
     "text": [
      "Please enter a string: shailja\n",
      "Number of letters in the string (excluding spaces): 7\n"
     ]
    }
   ],
   "source": [
    "#user input and count for string \n",
    "a= input(\"Please enter a string: \")\n",
    "count = 0\n",
    "\n",
    "for char in a:\n",
    "    if char.isalpha():\n",
    "        count =count + 1\n",
    "\n",
    "print(\"Number of letters in the string (excluding spaces):\", count)\n",
    "\n",
    "\n",
    "\n"
   ]
  },
  {
   "cell_type": "code",
   "execution_count": 4,
   "id": "b7d19e40",
   "metadata": {},
   "outputs": [
    {
     "name": "stdout",
     "output_type": "stream",
     "text": [
      "Please enter the number of items you want in the list: 4\n",
      "Enter number: 3\n",
      "Enter number: 4\n",
      "Enter number: 5\n",
      "Enter number: 6\n",
      "The list you entered: [3, 4, 5, 6]\n"
     ]
    }
   ],
   "source": [
    "n = int(input(\"Please enter the number of items you want in the list: \"))\n",
    "\n",
    "list= []\n",
    "\n",
    "for i in range(n):\n",
    "    item = int(input(\"Enter number: \"))\n",
    "    list.append(item)\n",
    "\n",
    "print(\"The list you entered:\", list)\n",
    "\n",
    "\n",
    "\n",
    "\n"
   ]
  },
  {
   "cell_type": "code",
   "execution_count": 2,
   "id": "003dc732",
   "metadata": {},
   "outputs": [
    {
     "name": "stdout",
     "output_type": "stream",
     "text": [
      "Sorted list in ascending order: [1, 2, 3, 5, 8]\n",
      "Sorted list in descending order: [8, 5, 3, 2, 1]\n"
     ]
    }
   ],
   "source": [
    "#Print list in ascending or descending order\n",
    "a = [5, 2, 8, 1, 3]\n",
    "\n",
    "# Sort the list in ascending order using sort()\n",
    "a.sort()\n",
    "print(\"Sorted list in ascending order:\", a)\n",
    "\n",
    "# Sort the list in descending order using sort() with reverse=True\n",
    "a.sort(reverse=True)\n",
    "print(\"Sorted list in descending order:\", a)\n"
   ]
  },
  {
   "cell_type": "code",
   "execution_count": 3,
   "id": "1755ccea",
   "metadata": {},
   "outputs": [
    {
     "name": "stdout",
     "output_type": "stream",
     "text": [
      "Enter a string: njaefjwmsbcjsddfersdbdcwefwksbjcvdhfkr\n",
      "Characters at even indices in the string: nafwscsdesbcewsjvhk\n"
     ]
    }
   ],
   "source": [
    "# Get input from the user for even character display \n",
    "a = input(\"Enter a string: \")\n",
    "\n",
    "# Extract characters at even indices into a string\n",
    "even= \"\"\n",
    "for i in range(len(a)):\n",
    "    if i % 2 == 0:\n",
    "        even=even+a[i]\n",
    "\n",
    "# Print the result\n",
    "print(\"Characters at even indices in the string:\", even)\n",
    "\n",
    "\n"
   ]
  },
  {
   "cell_type": "code",
   "execution_count": 5,
   "id": "26d45196",
   "metadata": {},
   "outputs": [
    {
     "name": "stdout",
     "output_type": "stream",
     "text": [
      "Enter a string: nehehwfkemcjdoiwjcwkjhiuejjcgewkskcsaka\n",
      "Characters at even indices in the string: eewkmjowckhujcekksk\n"
     ]
    }
   ],
   "source": [
    "odd index value characters \n",
    "# Get input from the user\n",
    "a = input(\"Enter a string: \")\n",
    "\n",
    "# Extract characters at even indices into a string\n",
    "odd = \"\"\n",
    "for i in range(len(a)):\n",
    "    if i % 2 != 0:\n",
    "        odd=odd+ a[i]\n",
    "\n",
    "# Print the result\n",
    "print(\"Characters at even indices in the string:\", odd)\n",
    "\n"
   ]
  },
  {
   "cell_type": "code",
   "execution_count": null,
   "id": "b466f171",
   "metadata": {},
   "outputs": [],
   "source": [
    "\n"
   ]
  },
  {
   "cell_type": "markdown",
   "id": "90c7cab0",
   "metadata": {},
   "source": [
    "# nested loop \n",
    "#1while -while\n",
    "#2. for for \n",
    "#3. while -for \n",
    "#4 for -while "
   ]
  },
  {
   "cell_type": "code",
   "execution_count": 6,
   "id": "ef675908",
   "metadata": {},
   "outputs": [
    {
     "name": "stdout",
     "output_type": "stream",
     "text": [
      "1\n",
      "2\n",
      "3\n",
      "4\n",
      "5\n",
      "6\n",
      "7\n",
      "8\n",
      "9\n"
     ]
    }
   ],
   "source": [
    "#step 1\n",
    "for a in range(1,10):\n",
    "   print(a)"
   ]
  },
  {
   "cell_type": "code",
   "execution_count": 7,
   "id": "1af91b85",
   "metadata": {},
   "outputs": [
    {
     "name": "stdout",
     "output_type": "stream",
     "text": [
      "1 2 3 4 5 6 7 8 9 "
     ]
    }
   ],
   "source": [
    "#step 1.1\n",
    "for a in range(1,10):\n",
    "   print(a,end=\" \")"
   ]
  },
  {
   "cell_type": "code",
   "execution_count": 11,
   "id": "6a53d2c3",
   "metadata": {},
   "outputs": [
    {
     "name": "stdout",
     "output_type": "stream",
     "text": [
      "0\n",
      "1\n",
      "2\n"
     ]
    }
   ],
   "source": [
    "#STEP 2 \n",
    "for x in range (3):\n",
    "        print(x)"
   ]
  },
  {
   "cell_type": "code",
   "execution_count": 14,
   "id": "0d745509",
   "metadata": {},
   "outputs": [
    {
     "name": "stdout",
     "output_type": "stream",
     "text": [
      "1\n",
      "2\n",
      "3\n",
      "4\n",
      "5\n",
      "6\n",
      "7\n",
      "8\n",
      "9\n",
      "1\n",
      "2\n",
      "3\n",
      "4\n",
      "5\n",
      "6\n",
      "7\n",
      "8\n",
      "9\n",
      "1\n",
      "2\n",
      "3\n",
      "4\n",
      "5\n",
      "6\n",
      "7\n",
      "8\n",
      "9\n"
     ]
    }
   ],
   "source": [
    "#we want to join step 2 and step 1\n",
    "#as we want to print step 1, times  3 \n",
    "for x in range (3):\n",
    "    for a in range (1,10):\n",
    "        print(a)\n",
    "    "
   ]
  },
  {
   "cell_type": "code",
   "execution_count": 20,
   "id": "568e63ae",
   "metadata": {},
   "outputs": [
    {
     "name": "stdout",
     "output_type": "stream",
     "text": [
      "1 2 3 4 5 "
     ]
    }
   ],
   "source": [
    "#Write a Python program using nested for loops to create a pattern of the following sequence:\n",
    "\n",
    "#1\n",
    "#1 2\n",
    "#1 2 3\n",
    "#1 2 3 4\n",
    "#1 2 3 4 5\n",
    "# step 1 \n",
    "\n",
    "for j in range(1, i + 1):\n",
    "        print(j, end=\" \")\n",
    "    #print()\n"
   ]
  },
  {
   "cell_type": "code",
   "execution_count": 21,
   "id": "b0b26534",
   "metadata": {},
   "outputs": [
    {
     "name": "stdout",
     "output_type": "stream",
     "text": [
      "1 \n",
      "1 2 \n",
      "1 2 3 \n",
      "1 2 3 4 \n",
      "1 2 3 4 5 \n"
     ]
    }
   ],
   "source": [
    "# step 2 \n",
    "for i in range(1, 6):\n",
    "    for j in range(1, i + 1):\n",
    "        print(j, end=\" \")\n",
    "    print()\n"
   ]
  },
  {
   "cell_type": "code",
   "execution_count": 20,
   "id": "51114520",
   "metadata": {},
   "outputs": [
    {
     "name": "stdout",
     "output_type": "stream",
     "text": [
      "Please enter the number of rows you want: 7\n",
      "Please enter the number of columns you want: 12\n",
      "Enter the symbol: *\n",
      "* * * * * * * * * * * * \n",
      "* * * * * * * * * * * * \n",
      "* * * * * * * * * * * * \n",
      "* * * * * * * * * * * * \n",
      "* * * * * * * * * * * * \n",
      "* * * * * * * * * * * * \n",
      "* * * * * * * * * * * * \n"
     ]
    }
   ],
   "source": [
    "rows = int(input(\"Please enter the number of rows you want: \"))\n",
    "columns = int(input(\"Please enter the number of columns you want: \"))\n",
    "symbol = input(\"Enter the symbol: \")\n",
    "\n",
    "for i in range(rows):\n",
    "    for x in range(columns):\n",
    "        print(symbol, end=\" \")\n",
    "    print()  # Add this to move to the next line after each row is printed.\n"
   ]
  },
  {
   "cell_type": "code",
   "execution_count": null,
   "id": "3e5554cb",
   "metadata": {},
   "outputs": [],
   "source": [
    "# Get the input string from the user\n",
    "#Take a string as input(may contain repetitive words), print a list consisting of unique words from the given string.\n",
    "#unique means = nod duplicate \n",
    "input_string = input(\"Enter a string: \")\n",
    "\n",
    "# Step 1: Split the input string into words\n",
    "words = input_string.split()\n",
    "\n",
    "# Step 2: Create an empty list to store unique words\n",
    "unique_words_list = []\n",
    "\n",
    "# Step 3: Iterate through the words and add unique words to the list\n",
    "for word in words:\n",
    "    if word not in unique_words_list:\n",
    "        unique_words_list.append(word)\n",
    "\n",
    "# Step 4: Print the list of unique words\n",
    "print(\"List of unique words:\", unique_words_list)"
   ]
  }
 ],
 "metadata": {
  "kernelspec": {
   "display_name": "Python 3 (ipykernel)",
   "language": "python",
   "name": "python3"
  },
  "language_info": {
   "codemirror_mode": {
    "name": "ipython",
    "version": 3
   },
   "file_extension": ".py",
   "mimetype": "text/x-python",
   "name": "python",
   "nbconvert_exporter": "python",
   "pygments_lexer": "ipython3",
   "version": "3.8.10"
  }
 },
 "nbformat": 4,
 "nbformat_minor": 5
}
