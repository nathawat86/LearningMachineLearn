{
 "cells": [
  {
   "cell_type": "markdown",
   "id": "b462dadb",
   "metadata": {
    "id": "b462dadb"
   },
   "source": [
    "# Iterative Statements\n",
    "- Write solution of each question in the cell given below the corresponsing question."
   ]
  },
  {
   "cell_type": "markdown",
   "id": "f5aefe41",
   "metadata": {
    "id": "f5aefe41"
   },
   "source": [
    "#### 1. Tom and Bob are playing a game of dice. Each time a multiple of two comes up Tom gets a point and if a multiple of 3 comes up bob gets a point. If a multiple of both comes up then a point is deducted from both. Write a program to take a list as input consisting of 10 outcomes of the dice throw. Print the scores of both Tom and bob and the winner."
   ]
  },
  {
   "cell_type": "code",
   "execution_count": 1,
   "id": "62bf16f1",
   "metadata": {
    "id": "62bf16f1"
   },
   "outputs": [
    {
     "name": "stdout",
     "output_type": "stream",
     "text": [
      "Enter outcome 1: 6\n",
      "Enter outcome 2: 5\n",
      "Enter outcome 3: 4\n",
      "Enter outcome 4: 3\n",
      "Enter outcome 5: 4\n",
      "Enter outcome 6: 2\n",
      "Enter outcome 7: 1\n",
      "Enter outcome 8: 6\n",
      "Enter outcome 9: 4\n",
      "Enter outcome 10: 5\n",
      "Tom's score: 4\n",
      "Bob's score: 3\n",
      "The winner is: Tom\n"
     ]
    }
   ],
   "source": [
    "# Define a function to calculate scores for Tom and Bob based on dice outcomes\n",
    "def calculate_scores(dice_outcomes):\n",
    "    tom_score = 0  # Initialize Tom's score\n",
    "    bob_score = 0  # Initialize Bob's score\n",
    "    \n",
    "    # Iterate through each dice outcome in the input list\n",
    "    for outcome in dice_outcomes:\n",
    "        if outcome % 2 == 0:\n",
    "            tom_score += 1  # If outcome is a multiple of 2, Tom gets a point\n",
    "        if outcome % 3 == 0:\n",
    "            bob_score += 1  # If outcome is a multiple of 3, Bob gets a point\n",
    "        if outcome % 2 == 0 and outcome % 3 == 0:\n",
    "            tom_score -= 1  # If outcome is a multiple of both 2 and 3, Tom and Bob lose a point\n",
    "    \n",
    "    return tom_score, bob_score  # Return the calculated scores\n",
    "\n",
    "# Define a function to announce the winner based on scores\n",
    "def announce_winner(tom_score, bob_score):\n",
    "    if tom_score > bob_score:\n",
    "        return \"Tom\"  # If Tom's score is higher, he wins\n",
    "    elif tom_score < bob_score:\n",
    "        return \"Bob\"  # If Bob's score is higher, he wins\n",
    "    else:\n",
    "        return \"It's a tie\"  # If scores are equal, it's a tie\n",
    "\n",
    "# Initialize an empty list to store the dice outcomes\n",
    "dice_outcomes = []\n",
    "\n",
    "# Collect user input for 10 dice outcomes\n",
    "for i in range(10):\n",
    "    outcome = int(input(f\"Enter outcome {i+1}: \"))  # Prompt user for outcome\n",
    "    dice_outcomes.append(outcome)  # Append the outcome to the list\n",
    "\n",
    "# Call the calculate_scores function to calculate scores for Tom and Bob\n",
    "tom_score, bob_score = calculate_scores(dice_outcomes)\n",
    "\n",
    "# Call the announce_winner function to determine the winner\n",
    "winner = announce_winner(tom_score, bob_score)\n",
    "\n",
    "# Print the scores and the winner's name\n",
    "print(f\"Tom's score: {tom_score}\")\n",
    "print(f\"Bob's score: {bob_score}\")\n",
    "print(f\"The winner is: {winner}\")\n"
   ]
  },
  {
   "cell_type": "markdown",
   "id": "57ec6a53",
   "metadata": {
    "id": "57ec6a53"
   },
   "source": [
    "#### 2. Write a program to take a list of 10 numbers as input in single line and find out the largest element."
   ]
  },
  {
   "cell_type": "code",
   "execution_count": 5,
   "id": "6ebea151",
   "metadata": {
    "id": "6ebea151"
   },
   "outputs": [
    {
     "name": "stdout",
     "output_type": "stream",
     "text": [
      "Enter 10 numbers separated by spaces: 4 5 5 128 34 175 180 198 999 999.9 5\n",
      "Please enter exactly 10 numbers.\n",
      "Enter 10 numbers separated by spaces: 4 5 5 128 34 175 180 198 999 999.9\n",
      "The largest element is: 999.9\n"
     ]
    }
   ],
   "source": [
    "# Get user input for a list of 10 numbers separated by spaces\n",
    "while True:\n",
    "    num_list = input(\"Enter 10 numbers separated by spaces: \").split()\n",
    "\n",
    "    if len(num_list) == 10:\n",
    "        try:\n",
    "            num_list = list(map(float, num_list))\n",
    "            break  # Exit the loop if exactly 10 numbers are entered\n",
    "        except ValueError:\n",
    "            print(\"Please enter valid numbers.\")\n",
    "    else:\n",
    "        print(\"Please enter exactly 10 numbers.\")\n",
    "\n",
    "# Initialize a variable to store the largest element\n",
    "largest = num_list[0]  # Assume the first number is the largest\n",
    "\n",
    "# Iterate through the list to find the largest element\n",
    "for num in num_list:\n",
    "    if num > largest:\n",
    "        largest = num  # Update 'largest' if a larger number is found\n",
    "\n",
    "# Print the largest element\n",
    "print(\"The largest element is:\", largest)\n"
   ]
  },
  {
   "cell_type": "markdown",
   "id": "ee2cce37",
   "metadata": {
    "id": "ee2cce37"
   },
   "source": [
    "#### 3. Write a program to take a number as input and find out whether it is prime or not."
   ]
  },
  {
   "cell_type": "code",
   "execution_count": 6,
   "id": "b9d9d6d8",
   "metadata": {
    "id": "b9d9d6d8"
   },
   "outputs": [
    {
     "name": "stdout",
     "output_type": "stream",
     "text": [
      "Enter a number: 56\n",
      "56 is not a prime number.\n"
     ]
    }
   ],
   "source": [
    "# Function to check if a number is prime\n",
    "def is_prime(num):\n",
    "    if num <= 1:\n",
    "        return False  # Numbers less than or equal to 1 are not prime\n",
    "    elif num <= 3:\n",
    "        return True   # 2 and 3 are prime\n",
    "    elif num % 2 == 0 or num % 3 == 0:\n",
    "        return False  # Numbers divisible by 2 or 3 are not prime\n",
    "    i = 5\n",
    "    while i * i <= num:\n",
    "        if num % i == 0 or num % (i + 2) == 0:\n",
    "            return False  # Numbers divisible by i or i+2 are not prime\n",
    "        i += 6\n",
    "    return True\n",
    "\n",
    "# Get user input for a number\n",
    "num = int(input(\"Enter a number: \"))\n",
    "\n",
    "# Call the function to check if the number is prime\n",
    "if is_prime(num):\n",
    "    print(f\"{num} is a prime number.\")\n",
    "else:\n",
    "    print(f\"{num} is not a prime number.\")\n"
   ]
  },
  {
   "cell_type": "markdown",
   "id": "07d5a484",
   "metadata": {
    "id": "07d5a484"
   },
   "source": [
    "#### 4. Take a list and a number as input, print all consecutive pairs of two numbers from the list having sum equal to the given number."
   ]
  },
  {
   "cell_type": "code",
   "execution_count": 9,
   "id": "e3acd75f",
   "metadata": {
    "id": "e3acd75f"
   },
   "outputs": [
    {
     "name": "stdout",
     "output_type": "stream",
     "text": [
      "Enter a list of numbers separated by spaces: 6 5 5 5 7 4 8 3 9 2\n",
      "Enter the target sum: 11\n",
      "Pair: (6, 5)\n",
      "Pair: (7, 4)\n",
      "Pair: (8, 3)\n",
      "Pair: (9, 2)\n"
     ]
    }
   ],
   "source": [
    "# Function to find and print consecutive pairs with a given sum\n",
    "def find_pairs_with_sum(nums, target_sum):\n",
    "    found_pairs = False  # Flag to track if any pairs were found\n",
    "\n",
    "    # Iterate through the list up to the second-to-last element\n",
    "    for i in range(len(nums) - 1):\n",
    "        current_sum = nums[i] + nums[i + 1]  # Calculate the sum of current and next element\n",
    "        \n",
    "        # Check if the current sum is equal to the target sum\n",
    "        if current_sum == target_sum:\n",
    "            print(f\"Pair: ({nums[i]}, {nums[i + 1]})\")\n",
    "            found_pairs = True\n",
    "\n",
    "    if not found_pairs:\n",
    "        print(\"No pairs found with the given sum.\")\n",
    "\n",
    "# Get user input for a list of numbers\n",
    "nums = list(map(int, input(\"Enter a list of numbers separated by spaces: \").split()))\n",
    "\n",
    "# Get user input for the target sum\n",
    "target_sum = int(input(\"Enter the target sum: \"))\n",
    "\n",
    "# Call the function to find and print consecutive pairs with the given sum\n",
    "find_pairs_with_sum(nums, target_sum)\n"
   ]
  },
  {
   "cell_type": "markdown",
   "id": "d2bc68d1",
   "metadata": {
    "id": "d2bc68d1"
   },
   "source": [
    "#### 5. Take a string as input and find out the number of words with even length and number of words with odd length."
   ]
  },
  {
   "cell_type": "code",
   "execution_count": 12,
   "id": "f273ca05",
   "metadata": {
    "id": "f273ca05",
    "scrolled": false
   },
   "outputs": [
    {
     "name": "stdout",
     "output_type": "stream",
     "text": [
      "Enter a string: I love india so much\n",
      "Number of words with even length: 3\n",
      "Number of words with odd length: 2\n",
      "Words with even length: love, so, much\n",
      "Words with odd length: I, india\n"
     ]
    }
   ],
   "source": [
    "# Function to count the number of words with even and odd lengths and print those words\n",
    "def count_even_odd_words(input_string):\n",
    "    words = input_string.split()  # Split the input string into words\n",
    "    even_count = 0  # Initialize count for words with even length\n",
    "    odd_count = 0   # Initialize count for words with odd length\n",
    "    even_words = []  # List to store words with even length\n",
    "    odd_words = []   # List to store words with odd length\n",
    "\n",
    "    for word in words:\n",
    "        if len(word) % 2 == 0:\n",
    "            even_count += 1  # Increment even word count if length is even\n",
    "            even_words.append(word)  # Add the even length word to the list\n",
    "        else:\n",
    "            odd_count += 1   # Increment odd word count if length is odd\n",
    "            odd_words.append(word)  # Add the odd length word to the list\n",
    "\n",
    "    return even_count, odd_count, even_words, odd_words\n",
    "\n",
    "# Get user input for a string\n",
    "input_string = input(\"Enter a string: \")\n",
    "\n",
    "# Call the function to count even and odd length words and get the words lists\n",
    "even_count, odd_count, even_words, odd_words = count_even_odd_words(input_string)\n",
    "\n",
    "# Print the counts of even and odd length words\n",
    "print(f\"Number of words with even length: {even_count}\")\n",
    "print(f\"Number of words with odd length: {odd_count}\")\n",
    "\n",
    "# Print the words with even length\n",
    "print(\"Words with even length:\", \", \".join(even_words))\n",
    "\n",
    "# Print the words with odd length\n",
    "print(\"Words with odd length:\", \", \".join(odd_words))\n"
   ]
  },
  {
   "cell_type": "markdown",
   "id": "41da36a0",
   "metadata": {
    "id": "41da36a0"
   },
   "source": [
    "\n",
    "Type Markdown and LaTeX:  𝛼2"
   ]
  },
  {
   "cell_type": "code",
   "execution_count": 16,
   "id": "ac575a12",
   "metadata": {
    "id": "ac575a12",
    "scrolled": false
   },
   "outputs": [
    {
     "name": "stdout",
     "output_type": "stream",
     "text": [
      "α²\n"
     ]
    }
   ],
   "source": [
    "alpha_squared = \"\\u03B1²\"\n",
    "print(alpha_squared)"
   ]
  },
  {
   "cell_type": "markdown",
   "id": "9bc04f36",
   "metadata": {
    "id": "9bc04f36"
   },
   "source": [
    "#### 7. Write a program to sort a given list using selection sort algorithm. (study selection sort and implement)"
   ]
  },
  {
   "cell_type": "code",
   "execution_count": 17,
   "id": "3abb8c1e",
   "metadata": {
    "id": "3abb8c1e"
   },
   "outputs": [
    {
     "name": "stdout",
     "output_type": "stream",
     "text": [
      "Enter a list of numbers separated by spaces: 5 6 8 3 4 9 7 8 3 2 5\n",
      "Sorted list: [2, 3, 3, 4, 5, 5, 6, 7, 8, 8, 9]\n"
     ]
    }
   ],
   "source": [
    "def selection_sort(arr):\n",
    "    \"\"\"\n",
    "    Sorts a list using the selection sort algorithm.\n",
    "    \n",
    "    Parameters:\n",
    "    arr (list): The list to be sorted.\n",
    "    \"\"\"\n",
    "    n = len(arr)  # Get the length of the list\n",
    "\n",
    "    for i in range(n - 1):\n",
    "        # Find the index of the minimum element in the unsorted portion\n",
    "        min_index = i\n",
    "        for j in range(i + 1, n):\n",
    "            if arr[j] < arr[min_index]:\n",
    "                min_index = j\n",
    "\n",
    "        # Swap the minimum element with the first element of the unsorted portion\n",
    "        arr[i], arr[min_index] = arr[min_index], arr[i]\n",
    "\n",
    "# Get user input for a list of numbers\n",
    "num_list = list(map(int, input(\"Enter a list of numbers separated by spaces: \").split()))\n",
    "\n",
    "# Call the selection_sort function to sort the list\n",
    "selection_sort(num_list)\n",
    "\n",
    "# Print the sorted list\n",
    "print(\"Sorted list:\", num_list)\n"
   ]
  },
  {
   "cell_type": "markdown",
   "id": "d2cf1bab",
   "metadata": {
    "id": "d2cf1bab"
   },
   "source": [
    "#### 8. Write a program to sort a given list using bubble sort algorithm. (Study bubble sort and implement)"
   ]
  },
  {
   "cell_type": "code",
   "execution_count": 18,
   "id": "OJAUtZLmyvMk",
   "metadata": {
    "id": "OJAUtZLmyvMk"
   },
   "outputs": [
    {
     "name": "stdout",
     "output_type": "stream",
     "text": [
      "Enter a list of numbers separated by spaces: 5 6 8 3 4 9 7 8 3 2 5\n",
      "Sorted list: [2, 3, 3, 4, 5, 5, 6, 7, 8, 8, 9]\n"
     ]
    }
   ],
   "source": [
    "def bubble_sort(arr):\n",
    "    \"\"\"\n",
    "    Sorts a list using the bubble sort algorithm.\n",
    "    \n",
    "    Parameters:\n",
    "    arr (list): The list to be sorted.\n",
    "    \"\"\"\n",
    "    n = len(arr)  # Get the length of the list\n",
    "\n",
    "    for i in range(n - 1):\n",
    "        swapped = False  # Initialize a flag to track if any swaps were made\n",
    "        \n",
    "        # Iterate through the list up to the (n - i - 1)-th element\n",
    "        for j in range(n - i - 1):\n",
    "            # Compare adjacent elements and swap if necessary\n",
    "            if arr[j] > arr[j + 1]:\n",
    "                arr[j], arr[j + 1] = arr[j + 1], arr[j]\n",
    "                swapped = True  # Set the flag to indicate a swap\n",
    "        \n",
    "        # If no swaps were made in this pass, the list is already sorted\n",
    "        if not swapped:\n",
    "            break\n",
    "\n",
    "# Get user input for a list of numbers\n",
    "num_list = list(map(int, input(\"Enter a list of numbers separated by spaces: \").split()))\n",
    "\n",
    "# Call the bubble_sort function to sort the list\n",
    "bubble_sort(num_list)\n",
    "\n",
    "# Print the sorted list\n",
    "print(\"Sorted list:\", num_list)\n"
   ]
  },
  {
   "cell_type": "markdown",
   "id": "1910df79",
   "metadata": {
    "id": "1910df79"
   },
   "source": [
    "#### 9. Take a string and a word and input. Find the frequenecy of occurrence of the word in the given string. (Without using any inbuilt function)"
   ]
  },
  {
   "cell_type": "code",
   "execution_count": 22,
   "id": "c50d4a3c",
   "metadata": {
    "id": "c50d4a3c"
   },
   "outputs": [
    {
     "name": "stdout",
     "output_type": "stream",
     "text": [
      "Enter a string: India is a great Country I am an Indian and i love India All Indians Love India\n",
      "Enter a word to count: India\n",
      "The word 'India' occurs 3 times in the string.\n"
     ]
    }
   ],
   "source": [
    "def count_word_occurrences(input_string, target_word):\n",
    "    \"\"\"\n",
    "    Counts the frequency of occurrence of a word in a string.\n",
    "    \n",
    "    Parameters:\n",
    "    input_string (str): The input string.\n",
    "    target_word (str): The word to count occurrences of.\n",
    "    \n",
    "    Returns:\n",
    "    int: The frequency of occurrence of the word.\n",
    "    \"\"\"\n",
    "    word_list = input_string.split()  # Split the input string into words\n",
    "    count = 0  # Initialize a count variable for occurrences of the word\n",
    "    \n",
    "    for word in word_list:\n",
    "        if word == target_word:\n",
    "            count += 1  # Increment the count if the word matches the target\n",
    "    \n",
    "    return count\n",
    "\n",
    "# Get user input for a string\n",
    "input_string = input(\"Enter a string: \")\n",
    "\n",
    "# Get user input for a word\n",
    "target_word = input(\"Enter a word to count: \")\n",
    "\n",
    "# Call the function to count word occurrences\n",
    "frequency = count_word_occurrences(input_string, target_word)\n",
    "\n",
    "# Print the frequency of word occurrences\n",
    "print(f\"The word '{target_word}' occurs {frequency} times in the string.\")\n"
   ]
  },
  {
   "cell_type": "markdown",
   "id": "b05f15de",
   "metadata": {
    "id": "b05f15de"
   },
   "source": [
    "#### 10. Write a program to print the following pattern: "
   ]
  },
  {
   "cell_type": "code",
   "execution_count": null,
   "id": "5113af76",
   "metadata": {
    "id": "5113af76"
   },
   "outputs": [],
   "source": [
    "'''\n",
    "5 4 3 2 1\n",
    "  4 3 2 1\n",
    "    3 2 1\n",
    "      2 1\n",
    "        1\n",
    "'''\n",
    "print()"
   ]
  },
  {
   "cell_type": "code",
   "execution_count": 24,
   "id": "j7lsHqTI1-ZY",
   "metadata": {
    "id": "j7lsHqTI1-ZY"
   },
   "outputs": [
    {
     "name": "stdout",
     "output_type": "stream",
     "text": [
      "Enter the number of rows: 6\n",
      "6 5 4 3 2 1 \n",
      "  5 4 3 2 1 \n",
      "    4 3 2 1 \n",
      "      3 2 1 \n",
      "        2 1 \n",
      "          1 \n"
     ]
    }
   ],
   "source": [
    "# Function to print the pattern\n",
    "def print_pattern(n):\n",
    "    for i in range(n, 0, -1):  # Outer loop for rows, starting from n and decreasing by 1\n",
    "        # Print spaces for the current row\n",
    "        print(\" \" * (2 * (n - i)), end=\"\")\n",
    "        \n",
    "        # Inner loop for printing numbers in descending order\n",
    "        for j in range(i, 0, -1):\n",
    "            print(j, end=\" \")\n",
    "        \n",
    "        print()  # Move to the next line after each row\n",
    "\n",
    "# Get user input for the number of rows\n",
    "rows = int(input(\"Enter the number of rows: \"))\n",
    "\n",
    "# Call the function to print the pattern\n",
    "print_pattern(rows)\n"
   ]
  },
  {
   "cell_type": "markdown",
   "id": "279b94c8",
   "metadata": {
    "id": "279b94c8"
   },
   "source": [
    "#### 11. Write a program to print the following pattern:"
   ]
  },
  {
   "cell_type": "code",
   "execution_count": null,
   "id": "af2c05e5",
   "metadata": {
    "id": "af2c05e5"
   },
   "outputs": [],
   "source": [
    "'''\n",
    "5 4 3 2 1\n",
    "4 3 2 1\n",
    "3 2 1\n",
    "2 1\n",
    "1\n",
    "'''\n",
    "print()"
   ]
  },
  {
   "cell_type": "code",
   "execution_count": 25,
   "id": "a6502c4f",
   "metadata": {
    "id": "a6502c4f"
   },
   "outputs": [
    {
     "name": "stdout",
     "output_type": "stream",
     "text": [
      "Enter the number of rows: 6\n",
      "6 5 4 3 2 1 \n",
      "5 4 3 2 1 \n",
      "4 3 2 1 \n",
      "3 2 1 \n",
      "2 1 \n",
      "1 \n"
     ]
    }
   ],
   "source": [
    "# Function to print the pattern\n",
    "def print_pattern(n):\n",
    "    for i in range(n, 0, -1):  # Outer loop for rows, starting from n and decreasing by 1\n",
    "        # Inner loop for printing numbers in descending order\n",
    "        for j in range(i, 0, -1):\n",
    "            print(j, end=\" \")\n",
    "        \n",
    "        print()  # Move to the next line after each row\n",
    "\n",
    "# Get user input for the number of rows\n",
    "rows = int(input(\"Enter the number of rows: \"))\n",
    "\n",
    "# Call the function to print the pattern\n",
    "print_pattern(rows)\n"
   ]
  }
 ],
 "metadata": {
  "colab": {
   "provenance": []
  },
  "kernelspec": {
   "display_name": "Python 3 (ipykernel)",
   "language": "python",
   "name": "python3"
  },
  "language_info": {
   "codemirror_mode": {
    "name": "ipython",
    "version": 3
   },
   "file_extension": ".py",
   "mimetype": "text/x-python",
   "name": "python",
   "nbconvert_exporter": "python",
   "pygments_lexer": "ipython3",
   "version": "3.10.9"
  }
 },
 "nbformat": 4,
 "nbformat_minor": 5
}
